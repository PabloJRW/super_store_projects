{
 "cells": [
  {
   "cell_type": "code",
   "execution_count": 1,
   "id": "411ee402",
   "metadata": {},
   "outputs": [],
   "source": [
    "import numpy as np\n",
    "import pandas as pd\n",
    "import matplotlib.pyplot as plt\n",
    "import seaborn as sns\n",
    "import datetime as dt\n",
    "from sklearn.compose import ColumnTransformer\n",
    "from sklearn.preprocessing import normalize, StandardScaler, RobustScaler\n",
    "from sklearn.decomposition import PCA\n",
    "from scipy.cluster.hierarchy import linkage, dendrogram, fcluster\n",
    "from sklearn.cluster import KMeans"
   ]
  },
  {
   "cell_type": "code",
   "execution_count": 2,
   "id": "bb10d282",
   "metadata": {},
   "outputs": [],
   "source": [
    "pd.set_option('display.float_format','{:.3f}'.format)"
   ]
  },
  {
   "cell_type": "code",
   "execution_count": 3,
   "id": "675f2885",
   "metadata": {},
   "outputs": [],
   "source": [
    "# Carga de datos\n",
    "data = pd.read_csv('Superstore.csv', )"
   ]
  },
  {
   "cell_type": "code",
   "execution_count": 4,
   "id": "61841fab",
   "metadata": {
    "scrolled": true
   },
   "outputs": [
    {
     "data": {
      "text/html": [
       "<div>\n",
       "<style scoped>\n",
       "    .dataframe tbody tr th:only-of-type {\n",
       "        vertical-align: middle;\n",
       "    }\n",
       "\n",
       "    .dataframe tbody tr th {\n",
       "        vertical-align: top;\n",
       "    }\n",
       "\n",
       "    .dataframe thead th {\n",
       "        text-align: right;\n",
       "    }\n",
       "</style>\n",
       "<table border=\"1\" class=\"dataframe\">\n",
       "  <thead>\n",
       "    <tr style=\"text-align: right;\">\n",
       "      <th></th>\n",
       "      <th>Row ID</th>\n",
       "      <th>Order ID</th>\n",
       "      <th>Order Date</th>\n",
       "      <th>Ship Date</th>\n",
       "      <th>Ship Mode</th>\n",
       "      <th>Customer ID</th>\n",
       "      <th>Customer Name</th>\n",
       "      <th>Segment</th>\n",
       "      <th>Country</th>\n",
       "      <th>City</th>\n",
       "      <th>...</th>\n",
       "      <th>Postal Code</th>\n",
       "      <th>Region</th>\n",
       "      <th>Product ID</th>\n",
       "      <th>Category</th>\n",
       "      <th>Sub-Category</th>\n",
       "      <th>Product Name</th>\n",
       "      <th>Sales</th>\n",
       "      <th>Quantity</th>\n",
       "      <th>Discount</th>\n",
       "      <th>Profit</th>\n",
       "    </tr>\n",
       "  </thead>\n",
       "  <tbody>\n",
       "    <tr>\n",
       "      <th>0</th>\n",
       "      <td>1</td>\n",
       "      <td>CA-2016-152156</td>\n",
       "      <td>11/8/2016</td>\n",
       "      <td>11/11/2016</td>\n",
       "      <td>Second Class</td>\n",
       "      <td>CG-12520</td>\n",
       "      <td>Claire Gute</td>\n",
       "      <td>Consumer</td>\n",
       "      <td>United States</td>\n",
       "      <td>Henderson</td>\n",
       "      <td>...</td>\n",
       "      <td>42420</td>\n",
       "      <td>South</td>\n",
       "      <td>FUR-BO-10001798</td>\n",
       "      <td>Furniture</td>\n",
       "      <td>Bookcases</td>\n",
       "      <td>Bush Somerset Collection Bookcase</td>\n",
       "      <td>261.960</td>\n",
       "      <td>2</td>\n",
       "      <td>0.000</td>\n",
       "      <td>41.914</td>\n",
       "    </tr>\n",
       "    <tr>\n",
       "      <th>1</th>\n",
       "      <td>2</td>\n",
       "      <td>CA-2016-152156</td>\n",
       "      <td>11/8/2016</td>\n",
       "      <td>11/11/2016</td>\n",
       "      <td>Second Class</td>\n",
       "      <td>CG-12520</td>\n",
       "      <td>Claire Gute</td>\n",
       "      <td>Consumer</td>\n",
       "      <td>United States</td>\n",
       "      <td>Henderson</td>\n",
       "      <td>...</td>\n",
       "      <td>42420</td>\n",
       "      <td>South</td>\n",
       "      <td>FUR-CH-10000454</td>\n",
       "      <td>Furniture</td>\n",
       "      <td>Chairs</td>\n",
       "      <td>Hon Deluxe Fabric Upholstered Stacking Chairs,...</td>\n",
       "      <td>731.940</td>\n",
       "      <td>3</td>\n",
       "      <td>0.000</td>\n",
       "      <td>219.582</td>\n",
       "    </tr>\n",
       "    <tr>\n",
       "      <th>3</th>\n",
       "      <td>4</td>\n",
       "      <td>US-2015-108966</td>\n",
       "      <td>10/11/2015</td>\n",
       "      <td>10/18/2015</td>\n",
       "      <td>Standard Class</td>\n",
       "      <td>SO-20335</td>\n",
       "      <td>Sean O'Donnell</td>\n",
       "      <td>Consumer</td>\n",
       "      <td>United States</td>\n",
       "      <td>Fort Lauderdale</td>\n",
       "      <td>...</td>\n",
       "      <td>33311</td>\n",
       "      <td>South</td>\n",
       "      <td>FUR-TA-10000577</td>\n",
       "      <td>Furniture</td>\n",
       "      <td>Tables</td>\n",
       "      <td>Bretford CR4500 Series Slim Rectangular Table</td>\n",
       "      <td>957.577</td>\n",
       "      <td>5</td>\n",
       "      <td>0.450</td>\n",
       "      <td>-383.031</td>\n",
       "    </tr>\n",
       "    <tr>\n",
       "      <th>4</th>\n",
       "      <td>5</td>\n",
       "      <td>US-2015-108966</td>\n",
       "      <td>10/11/2015</td>\n",
       "      <td>10/18/2015</td>\n",
       "      <td>Standard Class</td>\n",
       "      <td>SO-20335</td>\n",
       "      <td>Sean O'Donnell</td>\n",
       "      <td>Consumer</td>\n",
       "      <td>United States</td>\n",
       "      <td>Fort Lauderdale</td>\n",
       "      <td>...</td>\n",
       "      <td>33311</td>\n",
       "      <td>South</td>\n",
       "      <td>OFF-ST-10000760</td>\n",
       "      <td>Office Supplies</td>\n",
       "      <td>Storage</td>\n",
       "      <td>Eldon Fold 'N Roll Cart System</td>\n",
       "      <td>22.368</td>\n",
       "      <td>2</td>\n",
       "      <td>0.200</td>\n",
       "      <td>2.516</td>\n",
       "    </tr>\n",
       "    <tr>\n",
       "      <th>5</th>\n",
       "      <td>6</td>\n",
       "      <td>CA-2014-115812</td>\n",
       "      <td>6/9/2014</td>\n",
       "      <td>6/14/2014</td>\n",
       "      <td>Standard Class</td>\n",
       "      <td>BH-11710</td>\n",
       "      <td>Brosina Hoffman</td>\n",
       "      <td>Consumer</td>\n",
       "      <td>United States</td>\n",
       "      <td>Los Angeles</td>\n",
       "      <td>...</td>\n",
       "      <td>90032</td>\n",
       "      <td>West</td>\n",
       "      <td>FUR-FU-10001487</td>\n",
       "      <td>Furniture</td>\n",
       "      <td>Furnishings</td>\n",
       "      <td>Eldon Expressions Wood and Plastic Desk Access...</td>\n",
       "      <td>48.860</td>\n",
       "      <td>7</td>\n",
       "      <td>0.000</td>\n",
       "      <td>14.169</td>\n",
       "    </tr>\n",
       "  </tbody>\n",
       "</table>\n",
       "<p>5 rows × 21 columns</p>\n",
       "</div>"
      ],
      "text/plain": [
       "   Row ID        Order ID  Order Date   Ship Date       Ship Mode Customer ID  \\\n",
       "0       1  CA-2016-152156   11/8/2016  11/11/2016    Second Class    CG-12520   \n",
       "1       2  CA-2016-152156   11/8/2016  11/11/2016    Second Class    CG-12520   \n",
       "3       4  US-2015-108966  10/11/2015  10/18/2015  Standard Class    SO-20335   \n",
       "4       5  US-2015-108966  10/11/2015  10/18/2015  Standard Class    SO-20335   \n",
       "5       6  CA-2014-115812    6/9/2014   6/14/2014  Standard Class    BH-11710   \n",
       "\n",
       "     Customer Name   Segment        Country             City  ... Postal Code  \\\n",
       "0      Claire Gute  Consumer  United States        Henderson  ...       42420   \n",
       "1      Claire Gute  Consumer  United States        Henderson  ...       42420   \n",
       "3   Sean O'Donnell  Consumer  United States  Fort Lauderdale  ...       33311   \n",
       "4   Sean O'Donnell  Consumer  United States  Fort Lauderdale  ...       33311   \n",
       "5  Brosina Hoffman  Consumer  United States      Los Angeles  ...       90032   \n",
       "\n",
       "   Region       Product ID         Category Sub-Category  \\\n",
       "0   South  FUR-BO-10001798        Furniture    Bookcases   \n",
       "1   South  FUR-CH-10000454        Furniture       Chairs   \n",
       "3   South  FUR-TA-10000577        Furniture       Tables   \n",
       "4   South  OFF-ST-10000760  Office Supplies      Storage   \n",
       "5    West  FUR-FU-10001487        Furniture  Furnishings   \n",
       "\n",
       "                                        Product Name   Sales  Quantity  \\\n",
       "0                  Bush Somerset Collection Bookcase 261.960         2   \n",
       "1  Hon Deluxe Fabric Upholstered Stacking Chairs,... 731.940         3   \n",
       "3      Bretford CR4500 Series Slim Rectangular Table 957.577         5   \n",
       "4                     Eldon Fold 'N Roll Cart System  22.368         2   \n",
       "5  Eldon Expressions Wood and Plastic Desk Access...  48.860         7   \n",
       "\n",
       "   Discount   Profit  \n",
       "0     0.000   41.914  \n",
       "1     0.000  219.582  \n",
       "3     0.450 -383.031  \n",
       "4     0.200    2.516  \n",
       "5     0.000   14.169  \n",
       "\n",
       "[5 rows x 21 columns]"
      ]
     },
     "execution_count": 4,
     "metadata": {},
     "output_type": "execute_result"
    }
   ],
   "source": [
    "# Datos de los consumidores\n",
    "consumer_data = data[data.Segment=='Consumer']\n",
    "consumer_data.head()"
   ]
  },
  {
   "cell_type": "code",
   "execution_count": 5,
   "id": "412252e2",
   "metadata": {},
   "outputs": [
    {
     "name": "stdout",
     "output_type": "stream",
     "text": [
      "<class 'pandas.core.frame.DataFrame'>\n",
      "Int64Index: 5191 entries, 0 to 9993\n",
      "Data columns (total 21 columns):\n",
      " #   Column         Non-Null Count  Dtype  \n",
      "---  ------         --------------  -----  \n",
      " 0   Row ID         5191 non-null   int64  \n",
      " 1   Order ID       5191 non-null   object \n",
      " 2   Order Date     5191 non-null   object \n",
      " 3   Ship Date      5191 non-null   object \n",
      " 4   Ship Mode      5191 non-null   object \n",
      " 5   Customer ID    5191 non-null   object \n",
      " 6   Customer Name  5191 non-null   object \n",
      " 7   Segment        5191 non-null   object \n",
      " 8   Country        5191 non-null   object \n",
      " 9   City           5191 non-null   object \n",
      " 10  State          5191 non-null   object \n",
      " 11  Postal Code    5191 non-null   int64  \n",
      " 12  Region         5191 non-null   object \n",
      " 13  Product ID     5191 non-null   object \n",
      " 14  Category       5191 non-null   object \n",
      " 15  Sub-Category   5191 non-null   object \n",
      " 16  Product Name   5191 non-null   object \n",
      " 17  Sales          5191 non-null   float64\n",
      " 18  Quantity       5191 non-null   int64  \n",
      " 19  Discount       5191 non-null   float64\n",
      " 20  Profit         5191 non-null   float64\n",
      "dtypes: float64(3), int64(3), object(15)\n",
      "memory usage: 892.2+ KB\n"
     ]
    }
   ],
   "source": [
    "consumer_data.info()"
   ]
  },
  {
   "cell_type": "code",
   "execution_count": 6,
   "id": "dc8c7504",
   "metadata": {},
   "outputs": [
    {
     "data": {
      "text/html": [
       "<div>\n",
       "<style scoped>\n",
       "    .dataframe tbody tr th:only-of-type {\n",
       "        vertical-align: middle;\n",
       "    }\n",
       "\n",
       "    .dataframe tbody tr th {\n",
       "        vertical-align: top;\n",
       "    }\n",
       "\n",
       "    .dataframe thead th {\n",
       "        text-align: right;\n",
       "    }\n",
       "</style>\n",
       "<table border=\"1\" class=\"dataframe\">\n",
       "  <thead>\n",
       "    <tr style=\"text-align: right;\">\n",
       "      <th></th>\n",
       "      <th>count</th>\n",
       "      <th>mean</th>\n",
       "      <th>std</th>\n",
       "      <th>min</th>\n",
       "      <th>25%</th>\n",
       "      <th>50%</th>\n",
       "      <th>75%</th>\n",
       "      <th>max</th>\n",
       "    </tr>\n",
       "  </thead>\n",
       "  <tbody>\n",
       "    <tr>\n",
       "      <th>Row ID</th>\n",
       "      <td>5191.000</td>\n",
       "      <td>4928.016</td>\n",
       "      <td>2883.398</td>\n",
       "      <td>1.000</td>\n",
       "      <td>2439.500</td>\n",
       "      <td>4859.000</td>\n",
       "      <td>7373.500</td>\n",
       "      <td>9994.000</td>\n",
       "    </tr>\n",
       "    <tr>\n",
       "      <th>Postal Code</th>\n",
       "      <td>5191.000</td>\n",
       "      <td>55649.896</td>\n",
       "      <td>31986.472</td>\n",
       "      <td>1453.000</td>\n",
       "      <td>23464.000</td>\n",
       "      <td>60201.000</td>\n",
       "      <td>90008.000</td>\n",
       "      <td>99301.000</td>\n",
       "    </tr>\n",
       "    <tr>\n",
       "      <th>Sales</th>\n",
       "      <td>5191.000</td>\n",
       "      <td>223.734</td>\n",
       "      <td>585.516</td>\n",
       "      <td>0.444</td>\n",
       "      <td>17.264</td>\n",
       "      <td>53.720</td>\n",
       "      <td>206.106</td>\n",
       "      <td>13999.960</td>\n",
       "    </tr>\n",
       "    <tr>\n",
       "      <th>Quantity</th>\n",
       "      <td>5191.000</td>\n",
       "      <td>3.761</td>\n",
       "      <td>2.207</td>\n",
       "      <td>1.000</td>\n",
       "      <td>2.000</td>\n",
       "      <td>3.000</td>\n",
       "      <td>5.000</td>\n",
       "      <td>14.000</td>\n",
       "    </tr>\n",
       "    <tr>\n",
       "      <th>Discount</th>\n",
       "      <td>5191.000</td>\n",
       "      <td>0.158</td>\n",
       "      <td>0.207</td>\n",
       "      <td>0.000</td>\n",
       "      <td>0.000</td>\n",
       "      <td>0.200</td>\n",
       "      <td>0.200</td>\n",
       "      <td>0.800</td>\n",
       "    </tr>\n",
       "    <tr>\n",
       "      <th>Profit</th>\n",
       "      <td>5191.000</td>\n",
       "      <td>25.837</td>\n",
       "      <td>242.594</td>\n",
       "      <td>-6599.978</td>\n",
       "      <td>1.584</td>\n",
       "      <td>8.375</td>\n",
       "      <td>28.607</td>\n",
       "      <td>6719.981</td>\n",
       "    </tr>\n",
       "  </tbody>\n",
       "</table>\n",
       "</div>"
      ],
      "text/plain": [
       "               count      mean       std       min       25%       50%  \\\n",
       "Row ID      5191.000  4928.016  2883.398     1.000  2439.500  4859.000   \n",
       "Postal Code 5191.000 55649.896 31986.472  1453.000 23464.000 60201.000   \n",
       "Sales       5191.000   223.734   585.516     0.444    17.264    53.720   \n",
       "Quantity    5191.000     3.761     2.207     1.000     2.000     3.000   \n",
       "Discount    5191.000     0.158     0.207     0.000     0.000     0.200   \n",
       "Profit      5191.000    25.837   242.594 -6599.978     1.584     8.375   \n",
       "\n",
       "                  75%       max  \n",
       "Row ID       7373.500  9994.000  \n",
       "Postal Code 90008.000 99301.000  \n",
       "Sales         206.106 13999.960  \n",
       "Quantity        5.000    14.000  \n",
       "Discount        0.200     0.800  \n",
       "Profit         28.607  6719.981  "
      ]
     },
     "execution_count": 6,
     "metadata": {},
     "output_type": "execute_result"
    }
   ],
   "source": [
    "consumer_data.describe().T"
   ]
  },
  {
   "cell_type": "code",
   "execution_count": 7,
   "id": "d91903d6",
   "metadata": {},
   "outputs": [
    {
     "data": {
      "text/plain": [
       "Index(['Row ID', 'Order ID', 'Order Date', 'Ship Date', 'Ship Mode',\n",
       "       'Customer ID', 'Customer Name', 'Segment', 'Country', 'City', 'State',\n",
       "       'Postal Code', 'Region', 'Product ID', 'Category', 'Sub-Category',\n",
       "       'Product Name', 'Sales', 'Quantity', 'Discount', 'Profit'],\n",
       "      dtype='object')"
      ]
     },
     "execution_count": 7,
     "metadata": {},
     "output_type": "execute_result"
    }
   ],
   "source": [
    "consumer_data.columns"
   ]
  },
  {
   "cell_type": "code",
   "execution_count": 8,
   "id": "62c2d74f",
   "metadata": {},
   "outputs": [
    {
     "name": "stderr",
     "output_type": "stream",
     "text": [
      "/tmp/ipykernel_40335/2392711245.py:2: SettingWithCopyWarning: \n",
      "A value is trying to be set on a copy of a slice from a DataFrame.\n",
      "Try using .loc[row_indexer,col_indexer] = value instead\n",
      "\n",
      "See the caveats in the documentation: https://pandas.pydata.org/pandas-docs/stable/user_guide/indexing.html#returning-a-view-versus-a-copy\n",
      "  consumer_data['Order Date'] = consumer_data['Order Date'].apply(lambda x: pd.to_datetime(x))\n",
      "/tmp/ipykernel_40335/2392711245.py:5: SettingWithCopyWarning: \n",
      "A value is trying to be set on a copy of a slice from a DataFrame.\n",
      "Try using .loc[row_indexer,col_indexer] = value instead\n",
      "\n",
      "See the caveats in the documentation: https://pandas.pydata.org/pandas-docs/stable/user_guide/indexing.html#returning-a-view-versus-a-copy\n",
      "  consumer_data['Ship Date'] = consumer_data['Ship Date'].apply(lambda x: pd.to_datetime(x))\n"
     ]
    }
   ],
   "source": [
    "# Transformación de 'Order Date' a tipo datetime\n",
    "consumer_data['Order Date'] = consumer_data['Order Date'].apply(lambda x: pd.to_datetime(x))\n",
    "\n",
    "# Transformación de 'Order Date' a tipo datetime\n",
    "consumer_data['Ship Date'] = consumer_data['Ship Date'].apply(lambda x: pd.to_datetime(x))"
   ]
  },
  {
   "cell_type": "code",
   "execution_count": 9,
   "id": "63ce05d9",
   "metadata": {},
   "outputs": [
    {
     "data": {
      "text/html": [
       "<div>\n",
       "<style scoped>\n",
       "    .dataframe tbody tr th:only-of-type {\n",
       "        vertical-align: middle;\n",
       "    }\n",
       "\n",
       "    .dataframe tbody tr th {\n",
       "        vertical-align: top;\n",
       "    }\n",
       "\n",
       "    .dataframe thead th {\n",
       "        text-align: right;\n",
       "    }\n",
       "</style>\n",
       "<table border=\"1\" class=\"dataframe\">\n",
       "  <thead>\n",
       "    <tr style=\"text-align: right;\">\n",
       "      <th></th>\n",
       "      <th>Customer ID</th>\n",
       "      <th>Order ID</th>\n",
       "      <th>Order Date</th>\n",
       "      <th>Sales</th>\n",
       "      <th>Quantity</th>\n",
       "      <th>Discount</th>\n",
       "      <th>Profit</th>\n",
       "    </tr>\n",
       "  </thead>\n",
       "  <tbody>\n",
       "    <tr>\n",
       "      <th>0</th>\n",
       "      <td>AA-10315</td>\n",
       "      <td>CA-2014-128055</td>\n",
       "      <td>2014-03-31</td>\n",
       "      <td>726.548</td>\n",
       "      <td>4</td>\n",
       "      <td>0.200</td>\n",
       "      <td>267.422</td>\n",
       "    </tr>\n",
       "    <tr>\n",
       "      <th>1</th>\n",
       "      <td>AA-10315</td>\n",
       "      <td>CA-2014-138100</td>\n",
       "      <td>2014-09-15</td>\n",
       "      <td>29.500</td>\n",
       "      <td>5</td>\n",
       "      <td>0.000</td>\n",
       "      <td>13.283</td>\n",
       "    </tr>\n",
       "    <tr>\n",
       "      <th>2</th>\n",
       "      <td>AA-10315</td>\n",
       "      <td>CA-2015-121391</td>\n",
       "      <td>2015-10-04</td>\n",
       "      <td>26.960</td>\n",
       "      <td>2</td>\n",
       "      <td>0.000</td>\n",
       "      <td>7.010</td>\n",
       "    </tr>\n",
       "    <tr>\n",
       "      <th>3</th>\n",
       "      <td>AA-10315</td>\n",
       "      <td>CA-2016-103982</td>\n",
       "      <td>2016-03-03</td>\n",
       "      <td>4406.072</td>\n",
       "      <td>14</td>\n",
       "      <td>0.800</td>\n",
       "      <td>-747.102</td>\n",
       "    </tr>\n",
       "    <tr>\n",
       "      <th>4</th>\n",
       "      <td>AA-10315</td>\n",
       "      <td>CA-2017-147039</td>\n",
       "      <td>2017-06-29</td>\n",
       "      <td>374.480</td>\n",
       "      <td>5</td>\n",
       "      <td>0.000</td>\n",
       "      <td>96.505</td>\n",
       "    </tr>\n",
       "    <tr>\n",
       "      <th>...</th>\n",
       "      <td>...</td>\n",
       "      <td>...</td>\n",
       "      <td>...</td>\n",
       "      <td>...</td>\n",
       "      <td>...</td>\n",
       "      <td>...</td>\n",
       "      <td>...</td>\n",
       "    </tr>\n",
       "    <tr>\n",
       "      <th>2581</th>\n",
       "      <td>ZD-21925</td>\n",
       "      <td>CA-2014-143336</td>\n",
       "      <td>2014-08-27</td>\n",
       "      <td>244.760</td>\n",
       "      <td>9</td>\n",
       "      <td>0.400</td>\n",
       "      <td>25.877</td>\n",
       "    </tr>\n",
       "    <tr>\n",
       "      <th>2582</th>\n",
       "      <td>ZD-21925</td>\n",
       "      <td>CA-2016-152471</td>\n",
       "      <td>2016-07-08</td>\n",
       "      <td>839.944</td>\n",
       "      <td>7</td>\n",
       "      <td>0.400</td>\n",
       "      <td>56.492</td>\n",
       "    </tr>\n",
       "    <tr>\n",
       "      <th>2583</th>\n",
       "      <td>ZD-21925</td>\n",
       "      <td>CA-2016-167682</td>\n",
       "      <td>2016-04-03</td>\n",
       "      <td>331.080</td>\n",
       "      <td>8</td>\n",
       "      <td>0.000</td>\n",
       "      <td>146.828</td>\n",
       "    </tr>\n",
       "    <tr>\n",
       "      <th>2584</th>\n",
       "      <td>ZD-21925</td>\n",
       "      <td>CA-2017-141481</td>\n",
       "      <td>2017-06-11</td>\n",
       "      <td>61.440</td>\n",
       "      <td>3</td>\n",
       "      <td>0.000</td>\n",
       "      <td>16.589</td>\n",
       "    </tr>\n",
       "    <tr>\n",
       "      <th>2585</th>\n",
       "      <td>ZD-21925</td>\n",
       "      <td>US-2016-147991</td>\n",
       "      <td>2016-05-05</td>\n",
       "      <td>16.720</td>\n",
       "      <td>5</td>\n",
       "      <td>0.200</td>\n",
       "      <td>3.344</td>\n",
       "    </tr>\n",
       "  </tbody>\n",
       "</table>\n",
       "<p>2586 rows × 7 columns</p>\n",
       "</div>"
      ],
      "text/plain": [
       "     Customer ID        Order ID Order Date    Sales  Quantity  Discount  \\\n",
       "0       AA-10315  CA-2014-128055 2014-03-31  726.548         4     0.200   \n",
       "1       AA-10315  CA-2014-138100 2014-09-15   29.500         5     0.000   \n",
       "2       AA-10315  CA-2015-121391 2015-10-04   26.960         2     0.000   \n",
       "3       AA-10315  CA-2016-103982 2016-03-03 4406.072        14     0.800   \n",
       "4       AA-10315  CA-2017-147039 2017-06-29  374.480         5     0.000   \n",
       "...          ...             ...        ...      ...       ...       ...   \n",
       "2581    ZD-21925  CA-2014-143336 2014-08-27  244.760         9     0.400   \n",
       "2582    ZD-21925  CA-2016-152471 2016-07-08  839.944         7     0.400   \n",
       "2583    ZD-21925  CA-2016-167682 2016-04-03  331.080         8     0.000   \n",
       "2584    ZD-21925  CA-2017-141481 2017-06-11   61.440         3     0.000   \n",
       "2585    ZD-21925  US-2016-147991 2016-05-05   16.720         5     0.200   \n",
       "\n",
       "       Profit  \n",
       "0     267.422  \n",
       "1      13.283  \n",
       "2       7.010  \n",
       "3    -747.102  \n",
       "4      96.505  \n",
       "...       ...  \n",
       "2581   25.877  \n",
       "2582   56.492  \n",
       "2583  146.828  \n",
       "2584   16.589  \n",
       "2585    3.344  \n",
       "\n",
       "[2586 rows x 7 columns]"
      ]
     },
     "execution_count": 9,
     "metadata": {},
     "output_type": "execute_result"
    }
   ],
   "source": [
    "# Datos agrupados \n",
    "consumer = consumer_data.groupby(['Customer ID','Order ID','Order Date']).sum()\n",
    "consumer.drop(['Row ID','Postal Code'], axis=1, inplace=True)\n",
    "consumer = consumer.reset_index([0,1,2])\n",
    "consumer"
   ]
  },
  {
   "cell_type": "code",
   "execution_count": 10,
   "id": "291b5e3a",
   "metadata": {},
   "outputs": [],
   "source": [
    "# Agrupar por Customer ID y seleccionar los valores de Order Date\n",
    "consumer['CohortDay'] = consumer.groupby('Customer ID')['Order Date'].transform(min)\n",
    "\n",
    "def get_date_int(df, column):\n",
    "    year = df[column].dt.year\n",
    "    month = df[column].dt.month\n",
    "    day = df[column].dt.day\n",
    "    return year, month, day\n",
    "\n",
    "# Get the integers for date parts from the `InvoiceDay` column\n",
    "order_year, order_month, order_day = get_date_int(consumer, 'Order Date')\n",
    "\n",
    "# Get the integers for date parts from the `CohortDay` column\n",
    "cohort_year, cohort_month, cohort_day = get_date_int(consumer, 'CohortDay')\n",
    "\n",
    "# Calcula diferencia en años\n",
    "years_diff = order_year - cohort_year\n",
    "\n",
    "# Calcula dierencia en meses\n",
    "months_diff = order_month - cohort_month\n",
    "\n",
    "# Calcula diferencia en días\n",
    "days_diff = order_day - cohort_day\n",
    "\n",
    "# Crea variable con los días transcurrido desde la primera compra\n",
    "consumer['CohortIndex'] = years_diff * 365 + months_diff * 30 + days_diff \n",
    "\n",
    "consumer = consumer.sort_values(by='Order Date')\n",
    "\n",
    "# Crea variable con los días transcurridos desde la compra anterior\n",
    "consumer['cohort_diff'] = consumer.groupby('Customer ID')['CohortIndex'].diff().fillna(0)"
   ]
  },
  {
   "cell_type": "code",
   "execution_count": 11,
   "id": "184b1fd0",
   "metadata": {},
   "outputs": [
    {
     "data": {
      "text/html": [
       "<div>\n",
       "<style scoped>\n",
       "    .dataframe tbody tr th:only-of-type {\n",
       "        vertical-align: middle;\n",
       "    }\n",
       "\n",
       "    .dataframe tbody tr th {\n",
       "        vertical-align: top;\n",
       "    }\n",
       "\n",
       "    .dataframe thead th {\n",
       "        text-align: right;\n",
       "    }\n",
       "</style>\n",
       "<table border=\"1\" class=\"dataframe\">\n",
       "  <thead>\n",
       "    <tr style=\"text-align: right;\">\n",
       "      <th></th>\n",
       "      <th>Sales</th>\n",
       "      <th>Discount</th>\n",
       "      <th>Profit</th>\n",
       "      <th>cohort_diff</th>\n",
       "      <th>quantity</th>\n",
       "    </tr>\n",
       "    <tr>\n",
       "      <th>Customer ID</th>\n",
       "      <th></th>\n",
       "      <th></th>\n",
       "      <th></th>\n",
       "      <th></th>\n",
       "      <th></th>\n",
       "    </tr>\n",
       "  </thead>\n",
       "  <tbody>\n",
       "    <tr>\n",
       "      <th>AA-10315</th>\n",
       "      <td>1112.712</td>\n",
       "      <td>0.200</td>\n",
       "      <td>-72.577</td>\n",
       "      <td>236.600</td>\n",
       "      <td>30</td>\n",
       "    </tr>\n",
       "    <tr>\n",
       "      <th>AA-10375</th>\n",
       "      <td>117.377</td>\n",
       "      <td>0.133</td>\n",
       "      <td>30.820</td>\n",
       "      <td>147.222</td>\n",
       "      <td>41</td>\n",
       "    </tr>\n",
       "    <tr>\n",
       "      <th>AA-10480</th>\n",
       "      <td>447.628</td>\n",
       "      <td>0.050</td>\n",
       "      <td>108.957</td>\n",
       "      <td>269.000</td>\n",
       "      <td>36</td>\n",
       "    </tr>\n",
       "    <tr>\n",
       "      <th>AA-10645</th>\n",
       "      <td>847.822</td>\n",
       "      <td>0.192</td>\n",
       "      <td>142.967</td>\n",
       "      <td>204.667</td>\n",
       "      <td>64</td>\n",
       "    </tr>\n",
       "    <tr>\n",
       "      <th>AB-10015</th>\n",
       "      <td>295.385</td>\n",
       "      <td>0.133</td>\n",
       "      <td>43.115</td>\n",
       "      <td>330.667</td>\n",
       "      <td>13</td>\n",
       "    </tr>\n",
       "  </tbody>\n",
       "</table>\n",
       "</div>"
      ],
      "text/plain": [
       "               Sales  Discount  Profit  cohort_diff  quantity\n",
       "Customer ID                                                  \n",
       "AA-10315    1112.712     0.200 -72.577      236.600        30\n",
       "AA-10375     117.377     0.133  30.820      147.222        41\n",
       "AA-10480     447.628     0.050 108.957      269.000        36\n",
       "AA-10645     847.822     0.192 142.967      204.667        64\n",
       "AB-10015     295.385     0.133  43.115      330.667        13"
      ]
     },
     "execution_count": 11,
     "metadata": {},
     "output_type": "execute_result"
    }
   ],
   "source": [
    "# Datos agrupados por 'Customer ID'\n",
    "consumerID_data = consumer.groupby(by='Customer ID')[['Sales','Discount','Profit','cohort_diff']].mean()\n",
    "\n",
    "# Crea variable del número de veces que los clientes han comprado\n",
    "#consumerID_data['n_sales'] = consumer.groupby('Customer ID')['Order ID'].count()\n",
    "\n",
    "# \n",
    "consumerID_data['quantity'] = consumer.groupby('Customer ID')['Quantity'].sum()\n",
    "\n",
    "consumerID_data.head()"
   ]
  },
  {
   "cell_type": "code",
   "execution_count": 12,
   "id": "c8caab24",
   "metadata": {
    "scrolled": false
   },
   "outputs": [
    {
     "data": {
      "image/png": "[encoded data removed]",
      "text/plain": [
       "<Figure size 1080x432 with 6 Axes>"
      ]
     },
     "metadata": {
      "needs_background": "light"
     },
     "output_type": "display_data"
    }
   ],
   "source": [
    "# DISTRIBUCIONES DE VARIABLES SIN ESCALAR\n",
    "# ==============================================================================\n",
    "\n",
    "fig, axes = plt.subplots(nrows=3, ncols=2, figsize=(15, 6))\n",
    "axes = axes.flat\n",
    "\n",
    "numerical_features = [var for var in consumerID_data.select_dtypes(['float','int'])]\n",
    "\n",
    "for i, feature in enumerate(numerical_features):\n",
    "    sns.boxplot(\n",
    "        data    = consumerID_data,\n",
    "        x       = feature,\n",
    "        color   = (list(plt.rcParams['axes.prop_cycle'])*2)[i][\"color\"],\n",
    "        ax      = axes[i]\n",
    "    )\n",
    "    axes[i].set_title(feature, fontsize = 12, fontweight = \"bold\")\n",
    "    axes[i].tick_params(labelsize = 9)\n",
    "    axes[i].set_xlabel(\"\")\n",
    "    \n",
    "    \n",
    "fig.tight_layout()\n",
    "plt.subplots_adjust(top = 0.9)\n",
    "fig.suptitle('Distribución variables numéricas', fontsize = 15, fontweight = \"bold\");"
   ]
  },
  {
   "cell_type": "code",
   "execution_count": 14,
   "id": "84a51b6e",
   "metadata": {},
   "outputs": [],
   "source": [
    "scaler_pipeline = ColumnTransformer(\n",
    "                        transformers=[\n",
    "                            ('robust_scaler', RobustScaler(), ['Sales', 'Discount','Profit','cohort_diff','quantity'])\n",
    "                        ]\n",
    ")\n",
    "\n",
    "# Escalado de variables\n",
    "scaled_features = scaler_pipeline.fit_transform(consumerID_data)\n",
    "\n",
    "# Variables escaladas - DataFrame\n",
    "scaled_features = pd.DataFrame(scaled_features)"
   ]
  },
  {
   "cell_type": "code",
   "execution_count": 15,
   "id": "8b11c824",
   "metadata": {
    "scrolled": false
   },
   "outputs": [
    {
     "data": {
      "image/png": "[encoded data removed]",
      "text/plain": [
       "<Figure size 1080x432 with 6 Axes>"
      ]
     },
     "metadata": {
      "needs_background": "light"
     },
     "output_type": "display_data"
    }
   ],
   "source": [
    "# DISTRIBUCIONES DE VARIABLES ESCALADAS\n",
    "# ==============================================================================\n",
    "\n",
    "fig, axes = plt.subplots(nrows=3, ncols=2, figsize=(15, 6))\n",
    "axes = axes.flat\n",
    "\n",
    "\n",
    "for i, feature in enumerate(scaled_features.columns):\n",
    "    sns.boxplot(\n",
    "        data    = scaled_features,\n",
    "        x       = feature,\n",
    "        color   = (list(plt.rcParams['axes.prop_cycle'])*2)[i][\"color\"],\n",
    "        ax      = axes[i]\n",
    "    )\n",
    "    axes[i].set_title(feature, fontsize = 12, fontweight = \"bold\")\n",
    "    axes[i].tick_params(labelsize = 9)\n",
    "    axes[i].set_xlabel(\"\")\n",
    "    \n",
    "    \n",
    "fig.tight_layout()\n",
    "plt.subplots_adjust(top = 0.9)\n",
    "fig.suptitle('Distribución variables numéricas', fontsize = 15, fontweight = \"bold\");"
   ]
  },
  {
   "cell_type": "code",
   "execution_count": 16,
   "id": "24696405",
   "metadata": {},
   "outputs": [
    {
     "data": {
      "image/png": "[encoded data removed]",
      "text/plain": [
       "<Figure size 432x288 with 1 Axes>"
      ]
     },
     "metadata": {
      "needs_background": "light"
     },
     "output_type": "display_data"
    }
   ],
   "source": [
    "# DIMENSIÓN INTRÍNSECA DEL CONJUNTO DE DATOS\n",
    "# =================================================================================\n",
    "\n",
    "# Número de dimensiones en los datos\n",
    "n_components = len(scaled_features)\n",
    "\n",
    "# Instancia PCA\n",
    "pca = PCA()\n",
    "\n",
    "# Modelo entrenado\n",
    "pca.fit(scaled_features)\n",
    "\n",
    "# Visualización de las dimensiones intrínsecas\n",
    "features = range(pca.n_components_)\n",
    "plt.bar(features, pca.explained_variance_)\n",
    "plt.xlabel('PCA feature')\n",
    "plt.ylabel('Varianza')\n",
    "plt.xticks(features)\n",
    "plt.show()"
   ]
  },
  {
   "cell_type": "code",
   "execution_count": 17,
   "id": "07d2df92",
   "metadata": {},
   "outputs": [],
   "source": [
    "# \n",
    "\n",
    "# Modelo \n",
    "pca2 = PCA(n_components=4)\n",
    "\n",
    "# Componentes principales para entrenamiento\n",
    "components = pca2.fit_transform(scaled_features)\n"
   ]
  },
  {
   "cell_type": "markdown",
   "id": "0941d6b4",
   "metadata": {},
   "source": [
    "## KMeans"
   ]
  },
  {
   "cell_type": "code",
   "execution_count": 18,
   "id": "7f240126",
   "metadata": {},
   "outputs": [
    {
     "data": {
      "image/png": "[encoded data removed]",
      "text/plain": [
       "<Figure size 432x288 with 1 Axes>"
      ]
     },
     "metadata": {
      "needs_background": "light"
     },
     "output_type": "display_data"
    }
   ],
   "source": [
    "# MÉTODO DE CODO\n",
    "# ============================================================================\n",
    "\n",
    "inertia = []\n",
    "num_clusters = np.arange(2,7)\n",
    "for i in num_clusters:\n",
    "    kmeans = KMeans(n_clusters=i).fit(components)\n",
    "    inertia.append(kmeans.inertia_)\n",
    "    \n",
    "elbow_data = pd.DataFrame({'num_clusters':num_clusters, 'inertias': inertia})\n",
    "\n",
    "sns.lineplot(x=elbow_data.num_clusters, y=elbow_data.inertias)\n",
    "plt.show()"
   ]
  },
  {
   "cell_type": "code",
   "execution_count": 19,
   "id": "422c9e90",
   "metadata": {},
   "outputs": [
    {
     "data": {
      "text/plain": [
       "array([[ 4.90855809,  2.85609696,  3.0002296 ,  3.31696274, 10.29050909],\n",
       "       [ 6.87583249,  0.93169651,  1.69970886,  2.59946618,  9.99915528],\n",
       "       [ 7.61623694,  1.55173146,  2.77245615,  2.08810286,  8.84247962],\n",
       "       ...,\n",
       "       [ 7.23633036,  2.37179823,  1.95007267,  2.48700134,  9.69576741],\n",
       "       [ 4.93532657,  3.5871    ,  2.0094639 ,  3.64910471, 10.9042934 ],\n",
       "       [ 6.7957575 ,  0.28927595,  1.72455024,  2.16704058,  9.56540129]])"
      ]
     },
     "execution_count": 19,
     "metadata": {},
     "output_type": "execute_result"
    }
   ],
   "source": [
    "# Modelo - KMeans\n",
    "kmeans_model = KMeans(n_clusters=5)\n",
    "\n",
    "# Modelo entrenado\n",
    "kmeans_model.fit_transform(scaled_features)"
   ]
  },
  {
   "cell_type": "code",
   "execution_count": 20,
   "id": "f36e0447",
   "metadata": {},
   "outputs": [
    {
     "data": {
      "text/html": [
       "<div>\n",
       "<style scoped>\n",
       "    .dataframe tbody tr th:only-of-type {\n",
       "        vertical-align: middle;\n",
       "    }\n",
       "\n",
       "    .dataframe tbody tr th {\n",
       "        vertical-align: top;\n",
       "    }\n",
       "\n",
       "    .dataframe thead th {\n",
       "        text-align: right;\n",
       "    }\n",
       "</style>\n",
       "<table border=\"1\" class=\"dataframe\">\n",
       "  <thead>\n",
       "    <tr style=\"text-align: right;\">\n",
       "      <th>cluster_labels</th>\n",
       "      <th>0</th>\n",
       "      <th>1</th>\n",
       "      <th>2</th>\n",
       "      <th>3</th>\n",
       "      <th>4</th>\n",
       "    </tr>\n",
       "  </thead>\n",
       "  <tbody>\n",
       "    <tr>\n",
       "      <th>Sales</th>\n",
       "      <td>1218.772</td>\n",
       "      <td>253.161</td>\n",
       "      <td>372.479</td>\n",
       "      <td>768.691</td>\n",
       "      <td>1813.459</td>\n",
       "    </tr>\n",
       "    <tr>\n",
       "      <th>Discount</th>\n",
       "      <td>0.719</td>\n",
       "      <td>0.221</td>\n",
       "      <td>0.447</td>\n",
       "      <td>0.288</td>\n",
       "      <td>0.272</td>\n",
       "    </tr>\n",
       "    <tr>\n",
       "      <th>Profit</th>\n",
       "      <td>-404.673</td>\n",
       "      <td>31.423</td>\n",
       "      <td>3.189</td>\n",
       "      <td>151.721</td>\n",
       "      <td>709.753</td>\n",
       "    </tr>\n",
       "    <tr>\n",
       "      <th>cohort_diff</th>\n",
       "      <td>150.568</td>\n",
       "      <td>205.459</td>\n",
       "      <td>139.486</td>\n",
       "      <td>159.989</td>\n",
       "      <td>135.785</td>\n",
       "    </tr>\n",
       "    <tr>\n",
       "      <th>quantity</th>\n",
       "      <td>45.667</td>\n",
       "      <td>30.318</td>\n",
       "      <td>63.748</td>\n",
       "      <td>60.195</td>\n",
       "      <td>49.500</td>\n",
       "    </tr>\n",
       "  </tbody>\n",
       "</table>\n",
       "</div>"
      ],
      "text/plain": [
       "cluster_labels        0       1       2       3        4\n",
       "Sales          1218.772 253.161 372.479 768.691 1813.459\n",
       "Discount          0.719   0.221   0.447   0.288    0.272\n",
       "Profit         -404.673  31.423   3.189 151.721  709.753\n",
       "cohort_diff     150.568 205.459 139.486 159.989  135.785\n",
       "quantity         45.667  30.318  63.748  60.195   49.500"
      ]
     },
     "execution_count": 20,
     "metadata": {},
     "output_type": "execute_result"
    }
   ],
   "source": [
    "# Copia de los datos de los consumidores\n",
    "data_labeled = consumerID_data.copy()\n",
    "\n",
    "# Asignación de las etiquetas de clusteres\n",
    "data_labeled['cluster_labels'] = kmeans_model.labels_\n",
    "\n",
    "kmeans_label_grouped = data_labeled.groupby('cluster_labels').mean()\n",
    "kmeans_label_grouped.T"
   ]
  },
  {
   "cell_type": "code",
   "execution_count": 35,
   "id": "26a58177",
   "metadata": {},
   "outputs": [
    {
     "data": {
      "text/plain": [
       "<AxesSubplot:xlabel='cluster_labels'>"
      ]
     },
     "execution_count": 35,
     "metadata": {},
     "output_type": "execute_result"
    },
    {
     "data": {
      "image/png": "[encoded data removed]",
      "text/plain": [
       "<Figure size 1296x432 with 1 Axes>"
      ]
     },
     "metadata": {
      "needs_background": "light"
     },
     "output_type": "display_data"
    }
   ],
   "source": [
    "# Visualización de las medias de las variables por cluster\n",
    "# ================================================================================\n",
    "\n",
    "kmeans_label_grouped[['Sales','Profit','quantity']].plot(kind='bar', figsize=(18,6))"
   ]
  },
  {
   "cell_type": "markdown",
   "id": "65fde728",
   "metadata": {},
   "source": [
    "## Hierarchical Clustering"
   ]
  },
  {
   "cell_type": "code",
   "execution_count": 26,
   "id": "d41b676e",
   "metadata": {},
   "outputs": [],
   "source": [
    "# Modelo de segmentación jerárquica\n",
    "hierarchy_model = linkage(scaled_features, method='ward')"
   ]
  },
  {
   "cell_type": "code",
   "execution_count": 27,
   "id": "503782a7",
   "metadata": {},
   "outputs": [
    {
     "data": {
      "image/png": "[encoded data removed]",
      "text/plain": [
       "<Figure size 432x288 with 1 Axes>"
      ]
     },
     "metadata": {
      "needs_background": "light"
     },
     "output_type": "display_data"
    }
   ],
   "source": [
    "# Dendrograma\n",
    "drendogram = dendrogram(model)\n",
    "\n",
    "# Visualización del dendrograma\n",
    "plt.show()"
   ]
  },
  {
   "cell_type": "code",
   "execution_count": 29,
   "id": "29f5f02f",
   "metadata": {
    "scrolled": false
   },
   "outputs": [
    {
     "data": {
      "text/html": [
       "<div>\n",
       "<style scoped>\n",
       "    .dataframe tbody tr th:only-of-type {\n",
       "        vertical-align: middle;\n",
       "    }\n",
       "\n",
       "    .dataframe tbody tr th {\n",
       "        vertical-align: top;\n",
       "    }\n",
       "\n",
       "    .dataframe thead th {\n",
       "        text-align: right;\n",
       "    }\n",
       "</style>\n",
       "<table border=\"1\" class=\"dataframe\">\n",
       "  <thead>\n",
       "    <tr style=\"text-align: right;\">\n",
       "      <th>cluster_labels</th>\n",
       "      <th>1</th>\n",
       "      <th>2</th>\n",
       "      <th>3</th>\n",
       "      <th>4</th>\n",
       "      <th>5</th>\n",
       "    </tr>\n",
       "  </thead>\n",
       "  <tbody>\n",
       "    <tr>\n",
       "      <th>Sales</th>\n",
       "      <td>1669.583</td>\n",
       "      <td>975.087</td>\n",
       "      <td>769.804</td>\n",
       "      <td>327.677</td>\n",
       "      <td>274.774</td>\n",
       "    </tr>\n",
       "    <tr>\n",
       "      <th>Discount</th>\n",
       "      <td>0.256</td>\n",
       "      <td>0.581</td>\n",
       "      <td>0.281</td>\n",
       "      <td>0.303</td>\n",
       "      <td>0.325</td>\n",
       "    </tr>\n",
       "    <tr>\n",
       "      <th>Profit</th>\n",
       "      <td>642.902</td>\n",
       "      <td>-270.894</td>\n",
       "      <td>150.114</td>\n",
       "      <td>38.635</td>\n",
       "      <td>14.560</td>\n",
       "    </tr>\n",
       "    <tr>\n",
       "      <th>cohort_diff</th>\n",
       "      <td>141.491</td>\n",
       "      <td>154.813</td>\n",
       "      <td>173.536</td>\n",
       "      <td>120.903</td>\n",
       "      <td>226.350</td>\n",
       "    </tr>\n",
       "    <tr>\n",
       "      <th>quantity</th>\n",
       "      <td>49.300</td>\n",
       "      <td>55.056</td>\n",
       "      <td>57.472</td>\n",
       "      <td>57.283</td>\n",
       "      <td>33.070</td>\n",
       "    </tr>\n",
       "  </tbody>\n",
       "</table>\n",
       "</div>"
      ],
      "text/plain": [
       "cluster_labels        1        2       3       4       5\n",
       "Sales          1669.583  975.087 769.804 327.677 274.774\n",
       "Discount          0.256    0.581   0.281   0.303   0.325\n",
       "Profit          642.902 -270.894 150.114  38.635  14.560\n",
       "cohort_diff     141.491  154.813 173.536 120.903 226.350\n",
       "quantity         49.300   55.056  57.472  57.283  33.070"
      ]
     },
     "execution_count": 29,
     "metadata": {},
     "output_type": "execute_result"
    }
   ],
   "source": [
    "# Punto de corte\n",
    "cluster_labels = fcluster(hierarchy_model, 16, criterion='distance')\n",
    "\n",
    "# Copia de los datos los consumidores\n",
    "data_hierarchy = consumerID_data.copy()\n",
    "\n",
    "# Asignación de las etiquetas de clusters a los datos\n",
    "data_hierarchy['cluster_labels'] = cluster_labels\n",
    "\n",
    "\n",
    "hierarchy_cluster_data = data_hierarchy.groupby('cluster_labels').mean()\n",
    "hierarchy_cluster_data.T"
   ]
  },
  {
   "cell_type": "code",
   "execution_count": 37,
   "id": "bc165689",
   "metadata": {},
   "outputs": [
    {
     "data": {
      "text/plain": [
       "<AxesSubplot:xlabel='cluster_labels'>"
      ]
     },
     "execution_count": 37,
     "metadata": {},
     "output_type": "execute_result"
    },
    {
     "data": {
      "image/png": "[encoded data removed]",
      "text/plain": [
       "<Figure size 1296x432 with 1 Axes>"
      ]
     },
     "metadata": {
      "needs_background": "light"
     },
     "output_type": "display_data"
    }
   ],
   "source": [
    "#fig , ax = plt.figure(figsize=(12,6))\n",
    "hierarchy_cluster_data[['Sales','Profit']].plot(kind='bar', figsize=(18,6))"
   ]
  },
  {
   "cell_type": "code",
   "execution_count": null,
   "id": "55d922de",
   "metadata": {},
   "outputs": [],
   "source": [
    "consumer_data = consumer.copy()\n",
    "consumer_data['hierarchy_cluster_labels'] = consumer_data['Customer ID'].map(data_hierarchy['cluster_labels'])\n",
    "#consumer['hierarchy_cluster_labels'] = consumer['hierarchy_cluster_labels'].astype('int')\n",
    "sns.boxplot(x='hierarchy_cluster_labels', y='Quantity', data=consumer_data)\n"
   ]
  },
  {
   "cell_type": "code",
   "execution_count": null,
   "id": "0baadfe8",
   "metadata": {},
   "outputs": [],
   "source": [
    "scaled_features"
   ]
  }
 ],
 "metadata": {
  "kernelspec": {
   "display_name": "Python 3 (ipykernel)",
   "language": "python",
   "name": "python3"
  },
  "language_info": {
   "codemirror_mode": {
    "name": "ipython",
    "version": 3
   },
   "file_extension": ".py",
   "mimetype": "text/x-python",
   "name": "python",
   "nbconvert_exporter": "python",
   "pygments_lexer": "ipython3",
   "version": "3.8.8"
  }
 },
 "nbformat": 4,
 "nbformat_minor": 5
}
