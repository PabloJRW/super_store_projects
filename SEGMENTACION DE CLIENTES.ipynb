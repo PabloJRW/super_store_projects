{
 "cells": [
  {
   "cell_type": "code",
   "execution_count": 1,
   "id": "411ee402",
   "metadata": {},
   "outputs": [],
   "source": [
    "import numpy as np\n",
    "import pandas as pd\n",
    "import matplotlib.pyplot as plt\n",
    "import seaborn as sns\n",
    "import datetime as dt\n",
    "from sklearn.compose import ColumnTransformer\n",
    "from sklearn.preprocessing import normalize, StandardScaler, RobustScaler\n",
    "from sklearn.decomposition import PCA\n",
    "from scipy.cluster.hierarchy import linkage, dendrogram, fcluster\n",
    "from sklearn.cluster import KMeans\n",
    "from sklearn.metrics import silhouette_score, silhouette_samples\n",
    "\n",
    "import warnings\n",
    "warnings.filterwarnings('ignore')"
   ]
  },
  {
   "cell_type": "code",
   "execution_count": 2,
   "id": "bb10d282",
   "metadata": {},
   "outputs": [],
   "source": [
    "pd.set_option('display.float_format','{:.3f}'.format)"
   ]
  },
  {
   "cell_type": "markdown",
   "id": "ba2dbac4",
   "metadata": {},
   "source": [
    "## CARGA Y EXPLORACIÓN DE DATOS"
   ]
  },
  {
   "cell_type": "code",
   "execution_count": 3,
   "id": "675f2885",
   "metadata": {},
   "outputs": [],
   "source": [
    "# Carga de datos\n",
    "data = pd.read_csv('Superstore.csv', date_parser='Order Date')"
   ]
  },
  {
   "cell_type": "code",
   "execution_count": 4,
   "id": "61841fab",
   "metadata": {
    "scrolled": true
   },
   "outputs": [
    {
     "data": {
      "text/html": [
       "<div>\n",
       "<style scoped>\n",
       "    .dataframe tbody tr th:only-of-type {\n",
       "        vertical-align: middle;\n",
       "    }\n",
       "\n",
       "    .dataframe tbody tr th {\n",
       "        vertical-align: top;\n",
       "    }\n",
       "\n",
       "    .dataframe thead th {\n",
       "        text-align: right;\n",
       "    }\n",
       "</style>\n",
       "<table border=\"1\" class=\"dataframe\">\n",
       "  <thead>\n",
       "    <tr style=\"text-align: right;\">\n",
       "      <th></th>\n",
       "      <th>Row ID</th>\n",
       "      <th>Order ID</th>\n",
       "      <th>Order Date</th>\n",
       "      <th>Ship Date</th>\n",
       "      <th>Ship Mode</th>\n",
       "      <th>Customer ID</th>\n",
       "      <th>Customer Name</th>\n",
       "      <th>Segment</th>\n",
       "      <th>Country</th>\n",
       "      <th>City</th>\n",
       "      <th>...</th>\n",
       "      <th>Postal Code</th>\n",
       "      <th>Region</th>\n",
       "      <th>Product ID</th>\n",
       "      <th>Category</th>\n",
       "      <th>Sub-Category</th>\n",
       "      <th>Product Name</th>\n",
       "      <th>Sales</th>\n",
       "      <th>Quantity</th>\n",
       "      <th>Discount</th>\n",
       "      <th>Profit</th>\n",
       "    </tr>\n",
       "  </thead>\n",
       "  <tbody>\n",
       "    <tr>\n",
       "      <th>0</th>\n",
       "      <td>1</td>\n",
       "      <td>CA-2016-152156</td>\n",
       "      <td>11/8/2016</td>\n",
       "      <td>11/11/2016</td>\n",
       "      <td>Second Class</td>\n",
       "      <td>CG-12520</td>\n",
       "      <td>Claire Gute</td>\n",
       "      <td>Consumer</td>\n",
       "      <td>United States</td>\n",
       "      <td>Henderson</td>\n",
       "      <td>...</td>\n",
       "      <td>42420</td>\n",
       "      <td>South</td>\n",
       "      <td>FUR-BO-10001798</td>\n",
       "      <td>Furniture</td>\n",
       "      <td>Bookcases</td>\n",
       "      <td>Bush Somerset Collection Bookcase</td>\n",
       "      <td>261.960</td>\n",
       "      <td>2</td>\n",
       "      <td>0.000</td>\n",
       "      <td>41.914</td>\n",
       "    </tr>\n",
       "    <tr>\n",
       "      <th>1</th>\n",
       "      <td>2</td>\n",
       "      <td>CA-2016-152156</td>\n",
       "      <td>11/8/2016</td>\n",
       "      <td>11/11/2016</td>\n",
       "      <td>Second Class</td>\n",
       "      <td>CG-12520</td>\n",
       "      <td>Claire Gute</td>\n",
       "      <td>Consumer</td>\n",
       "      <td>United States</td>\n",
       "      <td>Henderson</td>\n",
       "      <td>...</td>\n",
       "      <td>42420</td>\n",
       "      <td>South</td>\n",
       "      <td>FUR-CH-10000454</td>\n",
       "      <td>Furniture</td>\n",
       "      <td>Chairs</td>\n",
       "      <td>Hon Deluxe Fabric Upholstered Stacking Chairs,...</td>\n",
       "      <td>731.940</td>\n",
       "      <td>3</td>\n",
       "      <td>0.000</td>\n",
       "      <td>219.582</td>\n",
       "    </tr>\n",
       "    <tr>\n",
       "      <th>3</th>\n",
       "      <td>4</td>\n",
       "      <td>US-2015-108966</td>\n",
       "      <td>10/11/2015</td>\n",
       "      <td>10/18/2015</td>\n",
       "      <td>Standard Class</td>\n",
       "      <td>SO-20335</td>\n",
       "      <td>Sean O'Donnell</td>\n",
       "      <td>Consumer</td>\n",
       "      <td>United States</td>\n",
       "      <td>Fort Lauderdale</td>\n",
       "      <td>...</td>\n",
       "      <td>33311</td>\n",
       "      <td>South</td>\n",
       "      <td>FUR-TA-10000577</td>\n",
       "      <td>Furniture</td>\n",
       "      <td>Tables</td>\n",
       "      <td>Bretford CR4500 Series Slim Rectangular Table</td>\n",
       "      <td>957.577</td>\n",
       "      <td>5</td>\n",
       "      <td>0.450</td>\n",
       "      <td>-383.031</td>\n",
       "    </tr>\n",
       "    <tr>\n",
       "      <th>4</th>\n",
       "      <td>5</td>\n",
       "      <td>US-2015-108966</td>\n",
       "      <td>10/11/2015</td>\n",
       "      <td>10/18/2015</td>\n",
       "      <td>Standard Class</td>\n",
       "      <td>SO-20335</td>\n",
       "      <td>Sean O'Donnell</td>\n",
       "      <td>Consumer</td>\n",
       "      <td>United States</td>\n",
       "      <td>Fort Lauderdale</td>\n",
       "      <td>...</td>\n",
       "      <td>33311</td>\n",
       "      <td>South</td>\n",
       "      <td>OFF-ST-10000760</td>\n",
       "      <td>Office Supplies</td>\n",
       "      <td>Storage</td>\n",
       "      <td>Eldon Fold 'N Roll Cart System</td>\n",
       "      <td>22.368</td>\n",
       "      <td>2</td>\n",
       "      <td>0.200</td>\n",
       "      <td>2.516</td>\n",
       "    </tr>\n",
       "    <tr>\n",
       "      <th>5</th>\n",
       "      <td>6</td>\n",
       "      <td>CA-2014-115812</td>\n",
       "      <td>6/9/2014</td>\n",
       "      <td>6/14/2014</td>\n",
       "      <td>Standard Class</td>\n",
       "      <td>BH-11710</td>\n",
       "      <td>Brosina Hoffman</td>\n",
       "      <td>Consumer</td>\n",
       "      <td>United States</td>\n",
       "      <td>Los Angeles</td>\n",
       "      <td>...</td>\n",
       "      <td>90032</td>\n",
       "      <td>West</td>\n",
       "      <td>FUR-FU-10001487</td>\n",
       "      <td>Furniture</td>\n",
       "      <td>Furnishings</td>\n",
       "      <td>Eldon Expressions Wood and Plastic Desk Access...</td>\n",
       "      <td>48.860</td>\n",
       "      <td>7</td>\n",
       "      <td>0.000</td>\n",
       "      <td>14.169</td>\n",
       "    </tr>\n",
       "  </tbody>\n",
       "</table>\n",
       "<p>5 rows × 21 columns</p>\n",
       "</div>"
      ],
      "text/plain": [
       "   Row ID        Order ID  Order Date   Ship Date       Ship Mode Customer ID  \\\n",
       "0       1  CA-2016-152156   11/8/2016  11/11/2016    Second Class    CG-12520   \n",
       "1       2  CA-2016-152156   11/8/2016  11/11/2016    Second Class    CG-12520   \n",
       "3       4  US-2015-108966  10/11/2015  10/18/2015  Standard Class    SO-20335   \n",
       "4       5  US-2015-108966  10/11/2015  10/18/2015  Standard Class    SO-20335   \n",
       "5       6  CA-2014-115812    6/9/2014   6/14/2014  Standard Class    BH-11710   \n",
       "\n",
       "     Customer Name   Segment        Country             City  ... Postal Code  \\\n",
       "0      Claire Gute  Consumer  United States        Henderson  ...       42420   \n",
       "1      Claire Gute  Consumer  United States        Henderson  ...       42420   \n",
       "3   Sean O'Donnell  Consumer  United States  Fort Lauderdale  ...       33311   \n",
       "4   Sean O'Donnell  Consumer  United States  Fort Lauderdale  ...       33311   \n",
       "5  Brosina Hoffman  Consumer  United States      Los Angeles  ...       90032   \n",
       "\n",
       "   Region       Product ID         Category Sub-Category  \\\n",
       "0   South  FUR-BO-10001798        Furniture    Bookcases   \n",
       "1   South  FUR-CH-10000454        Furniture       Chairs   \n",
       "3   South  FUR-TA-10000577        Furniture       Tables   \n",
       "4   South  OFF-ST-10000760  Office Supplies      Storage   \n",
       "5    West  FUR-FU-10001487        Furniture  Furnishings   \n",
       "\n",
       "                                        Product Name   Sales  Quantity  \\\n",
       "0                  Bush Somerset Collection Bookcase 261.960         2   \n",
       "1  Hon Deluxe Fabric Upholstered Stacking Chairs,... 731.940         3   \n",
       "3      Bretford CR4500 Series Slim Rectangular Table 957.577         5   \n",
       "4                     Eldon Fold 'N Roll Cart System  22.368         2   \n",
       "5  Eldon Expressions Wood and Plastic Desk Access...  48.860         7   \n",
       "\n",
       "   Discount   Profit  \n",
       "0     0.000   41.914  \n",
       "1     0.000  219.582  \n",
       "3     0.450 -383.031  \n",
       "4     0.200    2.516  \n",
       "5     0.000   14.169  \n",
       "\n",
       "[5 rows x 21 columns]"
      ]
     },
     "execution_count": 4,
     "metadata": {},
     "output_type": "execute_result"
    }
   ],
   "source": [
    "# Datos de los consumidores\n",
    "consumer_data = data[data.Segment=='Consumer']\n",
    "consumer_data.head()"
   ]
  },
  {
   "cell_type": "code",
   "execution_count": 5,
   "id": "412252e2",
   "metadata": {},
   "outputs": [
    {
     "name": "stdout",
     "output_type": "stream",
     "text": [
      "<class 'pandas.core.frame.DataFrame'>\n",
      "Int64Index: 5191 entries, 0 to 9993\n",
      "Data columns (total 21 columns):\n",
      " #   Column         Non-Null Count  Dtype  \n",
      "---  ------         --------------  -----  \n",
      " 0   Row ID         5191 non-null   int64  \n",
      " 1   Order ID       5191 non-null   object \n",
      " 2   Order Date     5191 non-null   object \n",
      " 3   Ship Date      5191 non-null   object \n",
      " 4   Ship Mode      5191 non-null   object \n",
      " 5   Customer ID    5191 non-null   object \n",
      " 6   Customer Name  5191 non-null   object \n",
      " 7   Segment        5191 non-null   object \n",
      " 8   Country        5191 non-null   object \n",
      " 9   City           5191 non-null   object \n",
      " 10  State          5191 non-null   object \n",
      " 11  Postal Code    5191 non-null   int64  \n",
      " 12  Region         5191 non-null   object \n",
      " 13  Product ID     5191 non-null   object \n",
      " 14  Category       5191 non-null   object \n",
      " 15  Sub-Category   5191 non-null   object \n",
      " 16  Product Name   5191 non-null   object \n",
      " 17  Sales          5191 non-null   float64\n",
      " 18  Quantity       5191 non-null   int64  \n",
      " 19  Discount       5191 non-null   float64\n",
      " 20  Profit         5191 non-null   float64\n",
      "dtypes: float64(3), int64(3), object(15)\n",
      "memory usage: 892.2+ KB\n"
     ]
    }
   ],
   "source": [
    "consumer_data.info()"
   ]
  },
  {
   "cell_type": "code",
   "execution_count": 6,
   "id": "fa2702c3",
   "metadata": {},
   "outputs": [
    {
     "data": {
      "text/html": [
       "<div>\n",
       "<style scoped>\n",
       "    .dataframe tbody tr th:only-of-type {\n",
       "        vertical-align: middle;\n",
       "    }\n",
       "\n",
       "    .dataframe tbody tr th {\n",
       "        vertical-align: top;\n",
       "    }\n",
       "\n",
       "    .dataframe thead th {\n",
       "        text-align: right;\n",
       "    }\n",
       "</style>\n",
       "<table border=\"1\" class=\"dataframe\">\n",
       "  <thead>\n",
       "    <tr style=\"text-align: right;\">\n",
       "      <th></th>\n",
       "      <th>count</th>\n",
       "      <th>mean</th>\n",
       "      <th>std</th>\n",
       "      <th>min</th>\n",
       "      <th>25%</th>\n",
       "      <th>50%</th>\n",
       "      <th>75%</th>\n",
       "      <th>max</th>\n",
       "    </tr>\n",
       "  </thead>\n",
       "  <tbody>\n",
       "    <tr>\n",
       "      <th>Row ID</th>\n",
       "      <td>5191.000</td>\n",
       "      <td>4928.016</td>\n",
       "      <td>2883.398</td>\n",
       "      <td>1.000</td>\n",
       "      <td>2439.500</td>\n",
       "      <td>4859.000</td>\n",
       "      <td>7373.500</td>\n",
       "      <td>9994.000</td>\n",
       "    </tr>\n",
       "    <tr>\n",
       "      <th>Postal Code</th>\n",
       "      <td>5191.000</td>\n",
       "      <td>55649.896</td>\n",
       "      <td>31986.472</td>\n",
       "      <td>1453.000</td>\n",
       "      <td>23464.000</td>\n",
       "      <td>60201.000</td>\n",
       "      <td>90008.000</td>\n",
       "      <td>99301.000</td>\n",
       "    </tr>\n",
       "    <tr>\n",
       "      <th>Sales</th>\n",
       "      <td>5191.000</td>\n",
       "      <td>223.734</td>\n",
       "      <td>585.516</td>\n",
       "      <td>0.444</td>\n",
       "      <td>17.264</td>\n",
       "      <td>53.720</td>\n",
       "      <td>206.106</td>\n",
       "      <td>13999.960</td>\n",
       "    </tr>\n",
       "    <tr>\n",
       "      <th>Quantity</th>\n",
       "      <td>5191.000</td>\n",
       "      <td>3.761</td>\n",
       "      <td>2.207</td>\n",
       "      <td>1.000</td>\n",
       "      <td>2.000</td>\n",
       "      <td>3.000</td>\n",
       "      <td>5.000</td>\n",
       "      <td>14.000</td>\n",
       "    </tr>\n",
       "    <tr>\n",
       "      <th>Discount</th>\n",
       "      <td>5191.000</td>\n",
       "      <td>0.158</td>\n",
       "      <td>0.207</td>\n",
       "      <td>0.000</td>\n",
       "      <td>0.000</td>\n",
       "      <td>0.200</td>\n",
       "      <td>0.200</td>\n",
       "      <td>0.800</td>\n",
       "    </tr>\n",
       "    <tr>\n",
       "      <th>Profit</th>\n",
       "      <td>5191.000</td>\n",
       "      <td>25.837</td>\n",
       "      <td>242.594</td>\n",
       "      <td>-6599.978</td>\n",
       "      <td>1.584</td>\n",
       "      <td>8.375</td>\n",
       "      <td>28.607</td>\n",
       "      <td>6719.981</td>\n",
       "    </tr>\n",
       "  </tbody>\n",
       "</table>\n",
       "</div>"
      ],
      "text/plain": [
       "               count      mean       std       min       25%       50%  \\\n",
       "Row ID      5191.000  4928.016  2883.398     1.000  2439.500  4859.000   \n",
       "Postal Code 5191.000 55649.896 31986.472  1453.000 23464.000 60201.000   \n",
       "Sales       5191.000   223.734   585.516     0.444    17.264    53.720   \n",
       "Quantity    5191.000     3.761     2.207     1.000     2.000     3.000   \n",
       "Discount    5191.000     0.158     0.207     0.000     0.000     0.200   \n",
       "Profit      5191.000    25.837   242.594 -6599.978     1.584     8.375   \n",
       "\n",
       "                  75%       max  \n",
       "Row ID       7373.500  9994.000  \n",
       "Postal Code 90008.000 99301.000  \n",
       "Sales         206.106 13999.960  \n",
       "Quantity        5.000    14.000  \n",
       "Discount        0.200     0.800  \n",
       "Profit         28.607  6719.981  "
      ]
     },
     "execution_count": 6,
     "metadata": {},
     "output_type": "execute_result"
    }
   ],
   "source": [
    "consumer_data.describe().T"
   ]
  },
  {
   "cell_type": "code",
   "execution_count": 7,
   "id": "d91903d6",
   "metadata": {},
   "outputs": [
    {
     "data": {
      "text/plain": [
       "Index(['Row ID', 'Order ID', 'Order Date', 'Ship Date', 'Ship Mode',\n",
       "       'Customer ID', 'Customer Name', 'Segment', 'Country', 'City', 'State',\n",
       "       'Postal Code', 'Region', 'Product ID', 'Category', 'Sub-Category',\n",
       "       'Product Name', 'Sales', 'Quantity', 'Discount', 'Profit'],\n",
       "      dtype='object')"
      ]
     },
     "execution_count": 7,
     "metadata": {},
     "output_type": "execute_result"
    }
   ],
   "source": [
    "consumer_data.columns"
   ]
  },
  {
   "cell_type": "markdown",
   "id": "826e36fc",
   "metadata": {},
   "source": [
    "## TRANSFORMACIONES DE DATOS"
   ]
  },
  {
   "cell_type": "code",
   "execution_count": 8,
   "id": "62c2d74f",
   "metadata": {},
   "outputs": [],
   "source": [
    "# Transformación de tipo de dato\n",
    "consumer_data['Order Date'] = pd.to_datetime(consumer_data['Order Date'])\n",
    "\n",
    "# Calculo de variable 'Discount'\n",
    "consumer_data['Discount'] = consumer_data['Discount']  * consumer_data['Sales'] "
   ]
  },
  {
   "cell_type": "code",
   "execution_count": 9,
   "id": "63ce05d9",
   "metadata": {},
   "outputs": [],
   "source": [
    "# Datos agrupados \n",
    "consumer = consumer_data.groupby(['Customer ID','Order ID','Order Date']).sum()\n",
    "consumer.drop(['Row ID','Postal Code'], axis=1, inplace=True)\n",
    "consumer = consumer.reset_index([0,1,2])\n",
    "\n",
    "# Creo columna con las veces que cada cliente ha realizado compras\n",
    "consumer['n_sales'] = consumer.groupby('Customer ID')['Order Date'].transform('count')\n"
   ]
  },
  {
   "cell_type": "code",
   "execution_count": 10,
   "id": "291b5e3a",
   "metadata": {
    "scrolled": true
   },
   "outputs": [
    {
     "data": {
      "text/html": [
       "<div>\n",
       "<style scoped>\n",
       "    .dataframe tbody tr th:only-of-type {\n",
       "        vertical-align: middle;\n",
       "    }\n",
       "\n",
       "    .dataframe tbody tr th {\n",
       "        vertical-align: top;\n",
       "    }\n",
       "\n",
       "    .dataframe thead th {\n",
       "        text-align: right;\n",
       "    }\n",
       "</style>\n",
       "<table border=\"1\" class=\"dataframe\">\n",
       "  <thead>\n",
       "    <tr style=\"text-align: right;\">\n",
       "      <th></th>\n",
       "      <th>Customer ID</th>\n",
       "      <th>Order ID</th>\n",
       "      <th>Order Date</th>\n",
       "      <th>Sales</th>\n",
       "      <th>Quantity</th>\n",
       "      <th>Discount</th>\n",
       "      <th>Profit</th>\n",
       "      <th>n_sales</th>\n",
       "      <th>CohortDay</th>\n",
       "      <th>CohortIndex</th>\n",
       "      <th>cohort_diff</th>\n",
       "    </tr>\n",
       "  </thead>\n",
       "  <tbody>\n",
       "    <tr>\n",
       "      <th>736</th>\n",
       "      <td>DP-13000</td>\n",
       "      <td>CA-2014-103800</td>\n",
       "      <td>2014-01-03</td>\n",
       "      <td>16.448</td>\n",
       "      <td>2</td>\n",
       "      <td>3.290</td>\n",
       "      <td>5.551</td>\n",
       "      <td>9</td>\n",
       "      <td>2014-01-03</td>\n",
       "      <td>0</td>\n",
       "      <td>0.000</td>\n",
       "    </tr>\n",
       "    <tr>\n",
       "      <th>1590</th>\n",
       "      <td>MB-18085</td>\n",
       "      <td>CA-2014-141817</td>\n",
       "      <td>2014-01-05</td>\n",
       "      <td>19.536</td>\n",
       "      <td>3</td>\n",
       "      <td>3.907</td>\n",
       "      <td>4.884</td>\n",
       "      <td>7</td>\n",
       "      <td>2014-01-05</td>\n",
       "      <td>0</td>\n",
       "      <td>0.000</td>\n",
       "    </tr>\n",
       "    <tr>\n",
       "      <th>1550</th>\n",
       "      <td>LS-17230</td>\n",
       "      <td>CA-2014-130813</td>\n",
       "      <td>2014-01-06</td>\n",
       "      <td>19.440</td>\n",
       "      <td>3</td>\n",
       "      <td>0.000</td>\n",
       "      <td>9.331</td>\n",
       "      <td>3</td>\n",
       "      <td>2014-01-06</td>\n",
       "      <td>0</td>\n",
       "      <td>0.000</td>\n",
       "    </tr>\n",
       "    <tr>\n",
       "      <th>2542</th>\n",
       "      <td>VS-21820</td>\n",
       "      <td>CA-2014-105417</td>\n",
       "      <td>2014-01-07</td>\n",
       "      <td>87.158</td>\n",
       "      <td>10</td>\n",
       "      <td>54.381</td>\n",
       "      <td>-71.962</td>\n",
       "      <td>4</td>\n",
       "      <td>2014-01-07</td>\n",
       "      <td>0</td>\n",
       "      <td>0.000</td>\n",
       "    </tr>\n",
       "    <tr>\n",
       "      <th>1748</th>\n",
       "      <td>MS-17830</td>\n",
       "      <td>CA-2014-135405</td>\n",
       "      <td>2014-01-09</td>\n",
       "      <td>40.544</td>\n",
       "      <td>5</td>\n",
       "      <td>8.109</td>\n",
       "      <td>10.918</td>\n",
       "      <td>4</td>\n",
       "      <td>2014-01-09</td>\n",
       "      <td>0</td>\n",
       "      <td>0.000</td>\n",
       "    </tr>\n",
       "    <tr>\n",
       "      <th>...</th>\n",
       "      <td>...</td>\n",
       "      <td>...</td>\n",
       "      <td>...</td>\n",
       "      <td>...</td>\n",
       "      <td>...</td>\n",
       "      <td>...</td>\n",
       "      <td>...</td>\n",
       "      <td>...</td>\n",
       "      <td>...</td>\n",
       "      <td>...</td>\n",
       "      <td>...</td>\n",
       "    </tr>\n",
       "    <tr>\n",
       "      <th>1618</th>\n",
       "      <td>MC-17845</td>\n",
       "      <td>US-2017-102638</td>\n",
       "      <td>2017-12-29</td>\n",
       "      <td>6.030</td>\n",
       "      <td>3</td>\n",
       "      <td>0.000</td>\n",
       "      <td>2.955</td>\n",
       "      <td>7</td>\n",
       "      <td>2014-07-05</td>\n",
       "      <td>1269</td>\n",
       "      <td>19.000</td>\n",
       "    </tr>\n",
       "    <tr>\n",
       "      <th>1173</th>\n",
       "      <td>JG-15160</td>\n",
       "      <td>CA-2017-118885</td>\n",
       "      <td>2017-12-29</td>\n",
       "      <td>695.944</td>\n",
       "      <td>7</td>\n",
       "      <td>139.189</td>\n",
       "      <td>-21.598</td>\n",
       "      <td>11</td>\n",
       "      <td>2014-05-30</td>\n",
       "      <td>1304</td>\n",
       "      <td>134.000</td>\n",
       "    </tr>\n",
       "    <tr>\n",
       "      <th>338</th>\n",
       "      <td>BS-11755</td>\n",
       "      <td>CA-2017-130631</td>\n",
       "      <td>2017-12-29</td>\n",
       "      <td>88.060</td>\n",
       "      <td>7</td>\n",
       "      <td>0.000</td>\n",
       "      <td>30.142</td>\n",
       "      <td>7</td>\n",
       "      <td>2014-05-18</td>\n",
       "      <td>1316</td>\n",
       "      <td>96.000</td>\n",
       "    </tr>\n",
       "    <tr>\n",
       "      <th>1949</th>\n",
       "      <td>PO-18865</td>\n",
       "      <td>CA-2017-143259</td>\n",
       "      <td>2017-12-30</td>\n",
       "      <td>466.842</td>\n",
       "      <td>14</td>\n",
       "      <td>75.182</td>\n",
       "      <td>34.636</td>\n",
       "      <td>7</td>\n",
       "      <td>2014-03-23</td>\n",
       "      <td>1372</td>\n",
       "      <td>5.000</td>\n",
       "    </tr>\n",
       "    <tr>\n",
       "      <th>1292</th>\n",
       "      <td>JM-15580</td>\n",
       "      <td>CA-2017-156720</td>\n",
       "      <td>2017-12-30</td>\n",
       "      <td>3.024</td>\n",
       "      <td>3</td>\n",
       "      <td>0.605</td>\n",
       "      <td>-0.605</td>\n",
       "      <td>5</td>\n",
       "      <td>2016-04-14</td>\n",
       "      <td>621</td>\n",
       "      <td>477.000</td>\n",
       "    </tr>\n",
       "  </tbody>\n",
       "</table>\n",
       "<p>2586 rows × 11 columns</p>\n",
       "</div>"
      ],
      "text/plain": [
       "     Customer ID        Order ID Order Date   Sales  Quantity  Discount  \\\n",
       "736     DP-13000  CA-2014-103800 2014-01-03  16.448         2     3.290   \n",
       "1590    MB-18085  CA-2014-141817 2014-01-05  19.536         3     3.907   \n",
       "1550    LS-17230  CA-2014-130813 2014-01-06  19.440         3     0.000   \n",
       "2542    VS-21820  CA-2014-105417 2014-01-07  87.158        10    54.381   \n",
       "1748    MS-17830  CA-2014-135405 2014-01-09  40.544         5     8.109   \n",
       "...          ...             ...        ...     ...       ...       ...   \n",
       "1618    MC-17845  US-2017-102638 2017-12-29   6.030         3     0.000   \n",
       "1173    JG-15160  CA-2017-118885 2017-12-29 695.944         7   139.189   \n",
       "338     BS-11755  CA-2017-130631 2017-12-29  88.060         7     0.000   \n",
       "1949    PO-18865  CA-2017-143259 2017-12-30 466.842        14    75.182   \n",
       "1292    JM-15580  CA-2017-156720 2017-12-30   3.024         3     0.605   \n",
       "\n",
       "      Profit  n_sales  CohortDay  CohortIndex  cohort_diff  \n",
       "736    5.551        9 2014-01-03            0        0.000  \n",
       "1590   4.884        7 2014-01-05            0        0.000  \n",
       "1550   9.331        3 2014-01-06            0        0.000  \n",
       "2542 -71.962        4 2014-01-07            0        0.000  \n",
       "1748  10.918        4 2014-01-09            0        0.000  \n",
       "...      ...      ...        ...          ...          ...  \n",
       "1618   2.955        7 2014-07-05         1269       19.000  \n",
       "1173 -21.598       11 2014-05-30         1304      134.000  \n",
       "338   30.142        7 2014-05-18         1316       96.000  \n",
       "1949  34.636        7 2014-03-23         1372        5.000  \n",
       "1292  -0.605        5 2016-04-14          621      477.000  \n",
       "\n",
       "[2586 rows x 11 columns]"
      ]
     },
     "execution_count": 10,
     "metadata": {},
     "output_type": "execute_result"
    }
   ],
   "source": [
    "# Agrupar por Customer ID y seleccionar los valores de Order Date\n",
    "consumer['CohortDay'] = consumer.groupby('Customer ID')['Order Date'].transform(min)\n",
    "\n",
    "def get_date_int(df, column):\n",
    "    year = df[column].dt.year\n",
    "    month = df[column].dt.month\n",
    "    day = df[column].dt.day\n",
    "    return year, month, day\n",
    "\n",
    "# Get the integers for date parts from the `InvoiceDay` column\n",
    "order_year, order_month, order_day = get_date_int(consumer, 'Order Date')\n",
    "\n",
    "# Get the integers for date parts from the `CohortDay` column\n",
    "cohort_year, cohort_month, cohort_day = get_date_int(consumer, 'CohortDay')\n",
    "\n",
    "# Calcula diferencia en años\n",
    "years_diff = order_year - cohort_year\n",
    "\n",
    "# Calcula dierencia en meses\n",
    "months_diff = order_month - cohort_month\n",
    "\n",
    "# Calcula diferencia en días\n",
    "days_diff = order_day - cohort_day\n",
    "\n",
    "# Crea variable con los días transcurrido desde la primera compra\n",
    "consumer['CohortIndex'] = years_diff * 365 + months_diff * 30 + days_diff \n",
    "\n",
    "consumer = consumer.sort_values(by='Order Date')\n",
    "\n",
    "# Crea variable con los días transcurridos desde la compra anterior\n",
    "consumer['cohort_diff'] = consumer.groupby('Customer ID')['CohortIndex'].diff().fillna(0)\n",
    "\n",
    "consumer"
   ]
  },
  {
   "cell_type": "code",
   "execution_count": 11,
   "id": "ec9a6d2f",
   "metadata": {},
   "outputs": [
    {
     "data": {
      "text/html": [
       "<div>\n",
       "<style scoped>\n",
       "    .dataframe tbody tr th:only-of-type {\n",
       "        vertical-align: middle;\n",
       "    }\n",
       "\n",
       "    .dataframe tbody tr th {\n",
       "        vertical-align: top;\n",
       "    }\n",
       "\n",
       "    .dataframe thead th {\n",
       "        text-align: right;\n",
       "    }\n",
       "</style>\n",
       "<table border=\"1\" class=\"dataframe\">\n",
       "  <thead>\n",
       "    <tr style=\"text-align: right;\">\n",
       "      <th></th>\n",
       "      <th>Sales</th>\n",
       "      <th>n_sales</th>\n",
       "      <th>Discount</th>\n",
       "      <th>Profit</th>\n",
       "      <th>cohort_diff</th>\n",
       "      <th>n_quantity</th>\n",
       "    </tr>\n",
       "    <tr>\n",
       "      <th>Customer ID</th>\n",
       "      <th></th>\n",
       "      <th></th>\n",
       "      <th></th>\n",
       "      <th></th>\n",
       "      <th></th>\n",
       "      <th></th>\n",
       "    </tr>\n",
       "  </thead>\n",
       "  <tbody>\n",
       "    <tr>\n",
       "      <th>AA-10315</th>\n",
       "      <td>1112.712</td>\n",
       "      <td>5</td>\n",
       "      <td>203.186</td>\n",
       "      <td>-72.577</td>\n",
       "      <td>236.600</td>\n",
       "      <td>30</td>\n",
       "    </tr>\n",
       "    <tr>\n",
       "      <th>AA-10375</th>\n",
       "      <td>117.377</td>\n",
       "      <td>9</td>\n",
       "      <td>3.838</td>\n",
       "      <td>30.820</td>\n",
       "      <td>147.222</td>\n",
       "      <td>41</td>\n",
       "    </tr>\n",
       "    <tr>\n",
       "      <th>AA-10480</th>\n",
       "      <td>447.628</td>\n",
       "      <td>4</td>\n",
       "      <td>0.778</td>\n",
       "      <td>108.957</td>\n",
       "      <td>269.000</td>\n",
       "      <td>36</td>\n",
       "    </tr>\n",
       "    <tr>\n",
       "      <th>AA-10645</th>\n",
       "      <td>847.822</td>\n",
       "      <td>6</td>\n",
       "      <td>88.697</td>\n",
       "      <td>142.967</td>\n",
       "      <td>204.667</td>\n",
       "      <td>64</td>\n",
       "    </tr>\n",
       "    <tr>\n",
       "      <th>AB-10015</th>\n",
       "      <td>295.385</td>\n",
       "      <td>3</td>\n",
       "      <td>4.089</td>\n",
       "      <td>43.115</td>\n",
       "      <td>330.667</td>\n",
       "      <td>13</td>\n",
       "    </tr>\n",
       "  </tbody>\n",
       "</table>\n",
       "</div>"
      ],
      "text/plain": [
       "               Sales  n_sales  Discount  Profit  cohort_diff  n_quantity\n",
       "Customer ID                                                             \n",
       "AA-10315    1112.712        5   203.186 -72.577      236.600          30\n",
       "AA-10375     117.377        9     3.838  30.820      147.222          41\n",
       "AA-10480     447.628        4     0.778 108.957      269.000          36\n",
       "AA-10645     847.822        6    88.697 142.967      204.667          64\n",
       "AB-10015     295.385        3     4.089  43.115      330.667          13"
      ]
     },
     "execution_count": 11,
     "metadata": {},
     "output_type": "execute_result"
    }
   ],
   "source": [
    "# Datos agrupados por 'Customer ID'\n",
    "consumerID_data = consumer.groupby(by='Customer ID')[['Sales','n_sales','Discount','Profit','cohort_diff']].mean()\n",
    "\n",
    "# Crea variable del número de veces que los clientes han comprado\n",
    "#consumerID_data['n_sales'] = consumer.groupby('Customer ID')['Order ID'].count()\n",
    "\n",
    "# Cantidad de productos comprado por cliente\n",
    "consumerID_data['n_quantity'] = consumer.groupby('Customer ID')['Quantity'].sum()\n",
    "\n",
    "consumerID_data.head()"
   ]
  },
  {
   "cell_type": "markdown",
   "id": "46808b17",
   "metadata": {},
   "source": [
    "#### VARIABLES SIN ESCALADO"
   ]
  },
  {
   "cell_type": "code",
   "execution_count": 12,
   "id": "2e689a5f",
   "metadata": {},
   "outputs": [
    {
     "data": {
      "image/png": "[encoded data removed]",
      "text/plain": [
       "<Figure size 1080x432 with 6 Axes>"
      ]
     },
     "metadata": {
      "needs_background": "light"
     },
     "output_type": "display_data"
    }
   ],
   "source": [
    "# DISTRIBUCIONES DE VARIABLES SIN ESCALAR\n",
    "# ==============================================================================\n",
    "\n",
    "fig, axes = plt.subplots(nrows=3, ncols=2, figsize=(15, 6))\n",
    "axes = axes.flat\n",
    "\n",
    "numerical_features = [var for var in consumerID_data.select_dtypes(['float','int'])]\n",
    "\n",
    "for i, feature in enumerate(numerical_features):\n",
    "    sns.boxplot(\n",
    "        data    = consumerID_data,\n",
    "        x       = feature,\n",
    "        color   = (list(plt.rcParams['axes.prop_cycle'])*2)[i][\"color\"],\n",
    "        ax      = axes[i]\n",
    "    )\n",
    "    axes[i].set_title(feature, fontsize = 12, fontweight = \"bold\")\n",
    "    axes[i].tick_params(labelsize = 9)\n",
    "    axes[i].set_xlabel(\"\")\n",
    "    \n",
    "    \n",
    "fig.tight_layout()\n",
    "plt.subplots_adjust(top = 0.9)\n",
    "fig.suptitle('Distribución variables numéricas', fontsize = 15, fontweight = \"bold\");"
   ]
  },
  {
   "cell_type": "markdown",
   "id": "7e23889a",
   "metadata": {},
   "source": [
    "#### ESCALADO DE VARIABLES"
   ]
  },
  {
   "cell_type": "code",
   "execution_count": 16,
   "id": "67e392ca",
   "metadata": {},
   "outputs": [],
   "source": [
    "scaler_pipeline = ColumnTransformer(\n",
    "                        transformers=[\n",
    "                            ('robust_scaler', RobustScaler(), ['Sales','n_sales','cohort_diff','n_quantity'])\n",
    "                        ]\n",
    ")\n",
    "\n",
    "# Escalado de variables\n",
    "scaled_features = scaler_pipeline.fit_transform(consumerID_data)\n",
    "\n",
    "# Variables escaladas - DataFrame\n",
    "scaled_features = pd.DataFrame(scaled_features)"
   ]
  },
  {
   "cell_type": "markdown",
   "id": "1d14e84d",
   "metadata": {},
   "source": [
    "#### VARIABLES ESCALADAS"
   ]
  },
  {
   "cell_type": "code",
   "execution_count": 17,
   "id": "9508b780",
   "metadata": {
    "scrolled": true
   },
   "outputs": [
    {
     "data": {
      "image/png": "[encoded data removed]",
      "text/plain": [
       "<Figure size 1080x432 with 6 Axes>"
      ]
     },
     "metadata": {
      "needs_background": "light"
     },
     "output_type": "display_data"
    }
   ],
   "source": [
    "# DISTRIBUCIONES DE VARIABLES ESCALADAS\n",
    "# ==============================================================================\n",
    "\n",
    "fig, axes = plt.subplots(nrows=3, ncols=2, figsize=(15, 6))\n",
    "axes = axes.flat\n",
    "\n",
    "\n",
    "for i, feature in enumerate(scaled_features.columns):\n",
    "    sns.boxplot(\n",
    "        data    = scaled_features,\n",
    "        x       = feature,\n",
    "        color   = (list(plt.rcParams['axes.prop_cycle'])*2)[i][\"color\"],\n",
    "        ax      = axes[i]\n",
    "    )\n",
    "    axes[i].set_title(feature, fontsize = 12, fontweight = \"bold\")\n",
    "    axes[i].tick_params(labelsize = 9)\n",
    "    axes[i].set_xlabel(\"\")\n",
    "    \n",
    "    \n",
    "fig.tight_layout()\n",
    "plt.subplots_adjust(top = 0.9)\n",
    "fig.suptitle('Distribución variables numéricas', fontsize = 15, fontweight = \"bold\");"
   ]
  },
  {
   "cell_type": "markdown",
   "id": "9c3ca90c",
   "metadata": {},
   "source": [
    "#### DIMENSIÓN INTRÍNSECA"
   ]
  },
  {
   "cell_type": "code",
   "execution_count": 18,
   "id": "ab25e8c8",
   "metadata": {},
   "outputs": [
    {
     "data": {
      "image/png": "[encoded data removed]",
      "text/plain": [
       "<Figure size 432x288 with 1 Axes>"
      ]
     },
     "metadata": {
      "needs_background": "light"
     },
     "output_type": "display_data"
    }
   ],
   "source": [
    "# DIMENSIÓN INTRÍNSECA DEL CONJUNTO DE DATOS\n",
    "# =================================================================================\n",
    "\n",
    "# Número de dimensiones en los datos\n",
    "n_components = len(scaled_features)\n",
    "\n",
    "# Instancia PCA\n",
    "pca = PCA()\n",
    "\n",
    "# Modelo entrenado\n",
    "pca.fit(scaled_features)\n",
    "\n",
    "# Visualización de las dimensiones intrínsecas\n",
    "features = range(pca.n_components_)\n",
    "plt.bar(features, pca.explained_variance_)\n",
    "plt.xlabel('PCA feature')\n",
    "plt.ylabel('Varianza')\n",
    "plt.xticks(features)\n",
    "plt.show()"
   ]
  },
  {
   "cell_type": "code",
   "execution_count": 26,
   "id": "20517992",
   "metadata": {},
   "outputs": [],
   "source": [
    "# \n",
    "\n",
    "# Modelo \n",
    "pca2 = PCA(n_components=3)\n",
    "\n",
    "# Componentes principales para entrenamiento\n",
    "components = pca2.fit_transform(scaled_features)\n"
   ]
  },
  {
   "cell_type": "markdown",
   "id": "0941d6b4",
   "metadata": {},
   "source": [
    "## KMeans"
   ]
  },
  {
   "cell_type": "markdown",
   "id": "e5553f0c",
   "metadata": {},
   "source": [
    "#### MÉTODO DE CODO"
   ]
  },
  {
   "cell_type": "code",
   "execution_count": 27,
   "id": "7f240126",
   "metadata": {},
   "outputs": [
    {
     "data": {
      "image/png": "[encoded data removed]",
      "text/plain": [
       "<Figure size 576x396 with 2 Axes>"
      ]
     },
     "metadata": {},
     "output_type": "display_data"
    },
    {
     "data": {
      "text/plain": [
       "<AxesSubplot:title={'center':'Distortion Score Elbow for KMeans Clustering'}, xlabel='k', ylabel='distortion score'>"
      ]
     },
     "execution_count": 27,
     "metadata": {},
     "output_type": "execute_result"
    }
   ],
   "source": [
    "# MÉTODO DE CODO\n",
    "# ============================================================================\n",
    "from yellowbrick.cluster import SilhouetteVisualizer\n",
    "from yellowbrick.cluster import KElbowVisualizer\n",
    "\n",
    "\n",
    "model = KMeans()\n",
    "visualizer = KElbowVisualizer(model, k=(2,12))\n",
    "\n",
    "visualizer.fit(components)        # Fit the data to the visualizer\n",
    "visualizer.show()        # Finalize and render the figure\n",
    "\n"
   ]
  },
  {
   "cell_type": "markdown",
   "id": "86517c6a",
   "metadata": {},
   "source": [
    "#### ENTRENAMIENTO DEL MODELO - KMEANS"
   ]
  },
  {
   "cell_type": "code",
   "execution_count": 39,
   "id": "422c9e90",
   "metadata": {
    "scrolled": true
   },
   "outputs": [
    {
     "data": {
      "text/html": [
       "<div>\n",
       "<style scoped>\n",
       "    .dataframe tbody tr th:only-of-type {\n",
       "        vertical-align: middle;\n",
       "    }\n",
       "\n",
       "    .dataframe tbody tr th {\n",
       "        vertical-align: top;\n",
       "    }\n",
       "\n",
       "    .dataframe thead th {\n",
       "        text-align: right;\n",
       "    }\n",
       "</style>\n",
       "<table border=\"1\" class=\"dataframe\">\n",
       "  <thead>\n",
       "    <tr style=\"text-align: right;\">\n",
       "      <th>cluster_labels</th>\n",
       "      <th>0</th>\n",
       "      <th>1</th>\n",
       "      <th>2</th>\n",
       "      <th>3</th>\n",
       "      <th>4</th>\n",
       "    </tr>\n",
       "  </thead>\n",
       "  <tbody>\n",
       "    <tr>\n",
       "      <th>Sales</th>\n",
       "      <td>929.940</td>\n",
       "      <td>294.330</td>\n",
       "      <td>427.190</td>\n",
       "      <td>251.750</td>\n",
       "      <td>2314.146</td>\n",
       "    </tr>\n",
       "    <tr>\n",
       "      <th>n_sales</th>\n",
       "      <td>5.375</td>\n",
       "      <td>5.576</td>\n",
       "      <td>9.386</td>\n",
       "      <td>3.758</td>\n",
       "      <td>4.857</td>\n",
       "    </tr>\n",
       "    <tr>\n",
       "      <th>cohort_diff</th>\n",
       "      <td>169.615</td>\n",
       "      <td>158.984</td>\n",
       "      <td>126.075</td>\n",
       "      <td>299.290</td>\n",
       "      <td>165.155</td>\n",
       "    </tr>\n",
       "    <tr>\n",
       "      <th>n_quantity</th>\n",
       "      <td>51.429</td>\n",
       "      <td>35.429</td>\n",
       "      <td>76.123</td>\n",
       "      <td>24.968</td>\n",
       "      <td>56.000</td>\n",
       "    </tr>\n",
       "  </tbody>\n",
       "</table>\n",
       "</div>"
      ],
      "text/plain": [
       "cluster_labels       0       1       2       3        4\n",
       "Sales          929.940 294.330 427.190 251.750 2314.146\n",
       "n_sales          5.375   5.576   9.386   3.758    4.857\n",
       "cohort_diff    169.615 158.984 126.075 299.290  165.155\n",
       "n_quantity      51.429  35.429  76.123  24.968   56.000"
      ]
     },
     "execution_count": 39,
     "metadata": {},
     "output_type": "execute_result"
    }
   ],
   "source": [
    "# Modelo - KMeans\n",
    "kmeans_model = KMeans(n_clusters=5)\n",
    "\n",
    "# Modelo entrenado\n",
    "kmeans_model.fit_transform(components)\n",
    "\n",
    "consumerID_data['cluster_labels'] = kmeans_model.labels_\n",
    "\n",
    "kmeans_label_grouped = data_labeled.groupby('cluster_labels').mean()\n",
    "kmeans_label_grouped[['Sales','n_sales','cohort_diff','n_quantity']] .T"
   ]
  },
  {
   "cell_type": "code",
   "execution_count": 36,
   "id": "f36e0447",
   "metadata": {},
   "outputs": [
    {
     "data": {
      "text/plain": [
       "0.2997973707666705"
      ]
     },
     "execution_count": 36,
     "metadata": {},
     "output_type": "execute_result"
    }
   ],
   "source": [
    "# Copia de los datos de los consumidores\n",
    "data_labeled = consumerID_data.copy()\n",
    "\n",
    "# Asignación de las etiquetas de clusteres\n",
    "silhouette_score(scaled_features, kmeans_model.labels_)\n",
    "\n"
   ]
  },
  {
   "cell_type": "code",
   "execution_count": 41,
   "id": "26a58177",
   "metadata": {},
   "outputs": [
    {
     "data": {
      "text/plain": [
       "<AxesSubplot:xlabel='cluster_labels'>"
      ]
     },
     "execution_count": 41,
     "metadata": {},
     "output_type": "execute_result"
    },
    {
     "data": {
      "image/png": "[encoded data removed]",
      "text/plain": [
       "<Figure size 1296x432 with 1 Axes>"
      ]
     },
     "metadata": {},
     "output_type": "display_data"
    }
   ],
   "source": [
    "# Visualización de las medias de las variables por cluster\n",
    "# ================================================================================\n",
    "\n",
    "kmeans_label_grouped[['Sales','n_sales','cohort_diff']].plot(kind='bar', figsize=(18,6))"
   ]
  },
  {
   "cell_type": "markdown",
   "id": "65fde728",
   "metadata": {},
   "source": [
    "## Hierarchical Clustering"
   ]
  },
  {
   "cell_type": "code",
   "execution_count": null,
   "id": "d41b676e",
   "metadata": {},
   "outputs": [],
   "source": [
    "# Modelo de segmentación jerárquica\n",
    "hierarchy_model = linkage(scaled_features, method='ward')"
   ]
  },
  {
   "cell_type": "code",
   "execution_count": null,
   "id": "503782a7",
   "metadata": {
    "scrolled": true
   },
   "outputs": [],
   "source": [
    "# Dendrograma\n",
    "drendogram = dendrogram(model)\n",
    "\n",
    "# Visualización del dendrograma\n",
    "plt.show()"
   ]
  },
  {
   "cell_type": "code",
   "execution_count": null,
   "id": "29f5f02f",
   "metadata": {},
   "outputs": [],
   "source": [
    "# Punto de corte\n",
    "cluster_labels = fcluster(hierarchy_model, 16, criterion='distance')\n",
    "\n",
    "# Copia de los datos los consumidores\n",
    "data_hierarchy = consumerID_data.copy()\n",
    "\n",
    "# Asignación de las etiquetas de clusters a los datos\n",
    "data_hierarchy['cluster_labels'] = cluster_labels\n",
    "\n",
    "\n",
    "hierarchy_cluster_data = data_hierarchy.groupby('cluster_labels').mean()\n",
    "hierarchy_cluster_data.T"
   ]
  },
  {
   "cell_type": "code",
   "execution_count": null,
   "id": "bc165689",
   "metadata": {},
   "outputs": [],
   "source": [
    "#fig , ax = plt.figure(figsize=(12,6))\n",
    "hierarchy_cluster_data[['Sales','Profit']].plot(kind='bar', figsize=(18,6))"
   ]
  }
 ],
 "metadata": {
  "kernelspec": {
   "display_name": "Python 3 (ipykernel)",
   "language": "python",
   "name": "python3"
  },
  "language_info": {
   "codemirror_mode": {
    "name": "ipython",
    "version": 3
   },
   "file_extension": ".py",
   "mimetype": "text/x-python",
   "name": "python",
   "nbconvert_exporter": "python",
   "pygments_lexer": "ipython3",
   "version": "3.8.8"
  }
 },
 "nbformat": 4,
 "nbformat_minor": 5
}
