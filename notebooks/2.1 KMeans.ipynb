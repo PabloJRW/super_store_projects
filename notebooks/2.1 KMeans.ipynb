{
 "cells": [
  {
   "cell_type": "code",
   "execution_count": 1,
   "id": "411ee402",
   "metadata": {},
   "outputs": [
    {
     "ename": "ModuleNotFoundError",
     "evalue": "No module named 'yellowbrick'",
     "output_type": "error",
     "traceback": [
      "\u001b[0;31m---------------------------------------------------------------------------\u001b[0m",
      "\u001b[0;31mModuleNotFoundError\u001b[0m                       Traceback (most recent call last)",
      "\u001b[0;32m/tmp/ipykernel_17948/3551858855.py\u001b[0m in \u001b[0;36m<module>\u001b[0;34m\u001b[0m\n\u001b[1;32m     13\u001b[0m \u001b[0;32mfrom\u001b[0m \u001b[0msklearn\u001b[0m\u001b[0;34m.\u001b[0m\u001b[0mdecomposition\u001b[0m \u001b[0;32mimport\u001b[0m \u001b[0mPCA\u001b[0m\u001b[0;34m\u001b[0m\u001b[0;34m\u001b[0m\u001b[0m\n\u001b[1;32m     14\u001b[0m \u001b[0;32mfrom\u001b[0m \u001b[0msklearn\u001b[0m\u001b[0;34m.\u001b[0m\u001b[0mcluster\u001b[0m \u001b[0;32mimport\u001b[0m \u001b[0mKMeans\u001b[0m\u001b[0;34m\u001b[0m\u001b[0;34m\u001b[0m\u001b[0m\n\u001b[0;32m---> 15\u001b[0;31m \u001b[0;32mfrom\u001b[0m \u001b[0myellowbrick\u001b[0m\u001b[0;34m.\u001b[0m\u001b[0mcluster\u001b[0m \u001b[0;32mimport\u001b[0m \u001b[0mKElbowVisualizer\u001b[0m\u001b[0;34m\u001b[0m\u001b[0;34m\u001b[0m\u001b[0m\n\u001b[0m\u001b[1;32m     16\u001b[0m \u001b[0;32mfrom\u001b[0m \u001b[0msklearn\u001b[0m\u001b[0;34m.\u001b[0m\u001b[0mmetrics\u001b[0m \u001b[0;32mimport\u001b[0m \u001b[0msilhouette_score\u001b[0m\u001b[0;34m,\u001b[0m \u001b[0msilhouette_samples\u001b[0m\u001b[0;34m\u001b[0m\u001b[0;34m\u001b[0m\u001b[0m\n\u001b[1;32m     17\u001b[0m \u001b[0;34m\u001b[0m\u001b[0m\n",
      "\u001b[0;31mModuleNotFoundError\u001b[0m: No module named 'yellowbrick'"
     ]
    }
   ],
   "source": [
    "%load_ext autoreload\n",
    "%autoreload 2\n",
    "\n",
    "import os\n",
    "import numpy as np\n",
    "import pandas as pd\n",
    "import matplotlib.pyplot as plt\n",
    "import seaborn as sns\n",
    "import plotly.express as px\n",
    "from sklearn.preprocessing import PowerTransformer\n",
    "from sklearn.preprocessing import MinMaxScaler\n",
    "from sklearn.compose import ColumnTransformer\n",
    "from sklearn.decomposition import PCA\n",
    "from sklearn.cluster import KMeans\n",
    "from yellowbrick.cluster import KElbowVisualizer\n",
    "from sklearn.metrics import silhouette_score, silhouette_samples\n",
    "\n",
    "import warnings\n",
    "warnings.filterwarnings('ignore')"
   ]
  },
  {
   "cell_type": "code",
   "execution_count": null,
   "id": "bb10d282",
   "metadata": {},
   "outputs": [],
   "source": [
    "# Configuración de números flotantes a 3 decimales\n",
    "pd.set_option('display.float_format','{:.2f}'.format)\n",
    "\n",
    "# Estilo de visualización\n",
    "sns.set_style(\"darkgrid\", {\"grid.color\": \".6\", \"grid.linestyle\": \":\"})"
   ]
  },
  {
   "cell_type": "markdown",
   "id": "ba2dbac4",
   "metadata": {},
   "source": [
    "## CARGA Y EXPLORACIÓN DE DATOS"
   ]
  },
  {
   "cell_type": "code",
   "execution_count": null,
   "id": "2dc65ee5-0f0f-4454-a0eb-2552585d25f7",
   "metadata": {},
   "outputs": [],
   "source": [
    "# DATA PATH\n",
    "DATA_PATH = os.path.join('..','datasets','processed','rfm_dataset.csv')"
   ]
  },
  {
   "cell_type": "code",
   "execution_count": null,
   "id": "675f2885",
   "metadata": {},
   "outputs": [],
   "source": [
    "# Carga de datos\n",
    "data = pd.read_csv(DATA_PATH, index_col='Customer ID')\n",
    "data.sample(5)"
   ]
  },
  {
   "cell_type": "code",
   "execution_count": null,
   "id": "412252e2",
   "metadata": {},
   "outputs": [],
   "source": [
    "data.info()"
   ]
  },
  {
   "cell_type": "code",
   "execution_count": null,
   "id": "fa2702c3",
   "metadata": {},
   "outputs": [],
   "source": [
    "data.describe().T"
   ]
  },
  {
   "cell_type": "code",
   "execution_count": null,
   "id": "1406608f",
   "metadata": {},
   "outputs": [],
   "source": [
    "data = data.drop(data[data['MonetaryValue'] < 0].index)"
   ]
  },
  {
   "cell_type": "code",
   "execution_count": null,
   "id": "d91903d6",
   "metadata": {},
   "outputs": [],
   "source": [
    "data.columns"
   ]
  },
  {
   "cell_type": "markdown",
   "id": "46808b17",
   "metadata": {},
   "source": [
    "#### VARIABLES SIN ESCALADO"
   ]
  },
  {
   "cell_type": "code",
   "execution_count": null,
   "id": "2e689a5f",
   "metadata": {},
   "outputs": [],
   "source": [
    "%run ../auxiliar_functions/plotDistributions.py\n",
    "    \n",
    "plotDistributions(data, 'Distribución de las variables')"
   ]
  },
  {
   "cell_type": "markdown",
   "id": "7e23889a",
   "metadata": {},
   "source": [
    "#### TRANSFORMACIÓN DE VARIABLES"
   ]
  },
  {
   "cell_type": "code",
   "execution_count": null,
   "id": "67e392ca",
   "metadata": {},
   "outputs": [],
   "source": [
    "# Yeo-Johnson Transformation\n",
    "pt = PowerTransformer(method='box-cox')\n",
    "ms = MinMaxScaler(feature_range=(-3,3))\n",
    "\n",
    "transformer = ColumnTransformer(transformers=[('box-cox', pt, ['Recency']),\n",
    "                              ('minmax', ms, ['Frequency', 'MonetaryValue'])])\n",
    "\n",
    "scaled = transformer.fit_transform(data)\n",
    "\n",
    "# Variables escaladas - DataFrame\n",
    "scaled = pd.DataFrame(scaled, index=data.index, columns=data.columns)\n",
    "scaled.sample(5)"
   ]
  },
  {
   "cell_type": "code",
   "execution_count": null,
   "id": "aa6afeed-682d-4960-b728-71f9a63789ba",
   "metadata": {},
   "outputs": [],
   "source": [
    "scaled.describe().T"
   ]
  },
  {
   "cell_type": "code",
   "execution_count": null,
   "id": "6db71dd2-7a09-4d3d-bd5d-c91f19577ecd",
   "metadata": {},
   "outputs": [],
   "source": [
    "plotDistributions(scaled, 'Distribución de las variables transformadas')"
   ]
  },
  {
   "cell_type": "code",
   "execution_count": null,
   "id": "dee966c5-0978-49e1-8cff-b834076256a1",
   "metadata": {},
   "outputs": [],
   "source": [
    "pca = PCA(n_components=2, random_state=0)\n",
    "scaled_pca = pca.fit_transform(scaled)\n",
    "pca.explained_variance_ratio_"
   ]
  },
  {
   "cell_type": "markdown",
   "id": "0941d6b4",
   "metadata": {},
   "source": [
    "## KMeans"
   ]
  },
  {
   "cell_type": "markdown",
   "id": "e5553f0c",
   "metadata": {},
   "source": [
    "#### MÉTODO DE CODO"
   ]
  },
  {
   "cell_type": "code",
   "execution_count": null,
   "id": "7f240126",
   "metadata": {},
   "outputs": [],
   "source": [
    "# MÉTODO DE CODO\n",
    "# ============================================================================\n",
    "\n",
    "model = KMeans()\n",
    "visualizer = KElbowVisualizer(model, k=(2,12))\n",
    "\n",
    "visualizer.fit(scaled_pca)        # Fit the data to the visualizer\n",
    "visualizer.show()        # Finalize and render the figure\n",
    "plt.show()\n"
   ]
  },
  {
   "cell_type": "markdown",
   "id": "86517c6a",
   "metadata": {},
   "source": [
    "#### ENTRENAMIENTO DEL MODELO - KMEANS"
   ]
  },
  {
   "cell_type": "code",
   "execution_count": null,
   "id": "422c9e90",
   "metadata": {
    "scrolled": true
   },
   "outputs": [],
   "source": [
    "# Modelo - KMeans\n",
    "kmeans_model = KMeans(n_clusters=5)\n",
    "\n",
    "# Modelo entrenado\n",
    "kmeans_model.fit_transform(scaled_pca)\n",
    "\n",
    "data['cluster_labels'] = kmeans_model.labels_\n",
    "\n",
    "kmeansData = data.groupby('cluster_labels').agg({'Recency':['mean','median','std'],\n",
    "                                           'Frequency':['mean','median','std'],\n",
    "                                           'MonetaryValue':['mean','median','std']})\n",
    "kmeansData.T"
   ]
  },
  {
   "cell_type": "code",
   "execution_count": null,
   "id": "da90a246-fb75-4b4e-b88f-a57867133e2a",
   "metadata": {
    "tags": []
   },
   "outputs": [],
   "source": [
    "fig = px.scatter_3d(data, x=\"Recency\", y=\"Frequency\",z=\"MonetaryValue\", color=\"cluster_labels\")\n",
    "#fig.write_html(\"scater_3d.html\")\n",
    "fig.show()"
   ]
  },
  {
   "cell_type": "code",
   "execution_count": null,
   "id": "d9cb58c3-0863-4047-8e93-e1c76cb11c45",
   "metadata": {},
   "outputs": [],
   "source": [
    "fig, ax = plt.subplots(1,3, figsize=(18,6))\n",
    "for i, feat in enumerate(['Frequency','Recency','MonetaryValue']):\n",
    "    sns.boxplot(x='cluster_labels', y=feat, data=data,ax=ax[i])\n",
    "    ax[i].set_title(feat)\n",
    "plt.savefig(os.path.join('..','img','kmeans_clusters_boxplots_dist.png'))\n",
    "plt.show()"
   ]
  },
  {
   "cell_type": "code",
   "execution_count": null,
   "id": "846a2e64-ca98-4ac1-bddf-16142582d768",
   "metadata": {},
   "outputs": [],
   "source": []
  }
 ],
 "metadata": {
  "kernelspec": {
   "display_name": "Python 3 (ipykernel)",
   "language": "python",
   "name": "python3"
  },
  "language_info": {
   "codemirror_mode": {
    "name": "ipython",
    "version": 3
   },
   "file_extension": ".py",
   "mimetype": "text/x-python",
   "name": "python",
   "nbconvert_exporter": "python",
   "pygments_lexer": "ipython3",
   "version": "3.10.12"
  }
 },
 "nbformat": 4,
 "nbformat_minor": 5
}
