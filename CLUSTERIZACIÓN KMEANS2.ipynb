{
 "cells": [
  {
   "cell_type": "code",
   "execution_count": 24,
   "id": "0fc07343",
   "metadata": {
    "cell_id": "3e62375d-d6a8-4fd2-8cdc-0f012cad9ca9",
    "deepnote_cell_height": 369,
    "deepnote_cell_type": "code",
    "deepnote_to_be_reexecuted": false,
    "execution_millis": 4682,
    "execution_start": 1655070812156,
    "source_hash": "ad90ee51"
   },
   "outputs": [],
   "source": [
    "import numpy as np\n",
    "import pandas as pd\n",
    "import matplotlib.pyplot as plt\n",
    "import seaborn as sns\n",
    "import plotly.express as px\n",
    "\n",
    "import datetime as dt\n",
    "\n",
    "from sklearn.compose import ColumnTransformer\n",
    "from sklearn.preprocessing import normalize, StandardScaler, RobustScaler\n",
    "from sklearn.decomposition import PCA\n",
    "from scipy.cluster.hierarchy import linkage, dendrogram, fcluster\n",
    "from sklearn.cluster import KMeans\n",
    "from sklearn.metrics import silhouette_score, silhouette_samples\n",
    "\n",
    "import warnings\n",
    "warnings.filterwarnings('ignore')"
   ]
  },
  {
   "cell_type": "code",
   "execution_count": 25,
   "id": "1e27df0a",
   "metadata": {
    "cell_id": "00001-b32d362d-24f7-4b84-822d-a8a7e2f3cc5d",
    "deepnote_cell_height": 153,
    "deepnote_cell_type": "code",
    "deepnote_to_be_reexecuted": false,
    "execution_millis": 10,
    "execution_start": 1655070816845,
    "source_hash": "634e1e3d"
   },
   "outputs": [],
   "source": [
    "# Configuración de números flotantes a 3 decimales\n",
    "pd.set_option('display.float_format','{:.3f}'.format)\n",
    "\n",
    "# Estilo de visualización\n",
    "sns.set_style(\"darkgrid\", {\"grid.color\": \".6\", \"grid.linestyle\": \":\"})"
   ]
  },
  {
   "cell_type": "markdown",
   "id": "5a776174",
   "metadata": {
    "cell_id": "00002-a683a072-fa6a-4009-a59f-4dd211a41005",
    "deepnote_cell_height": 70,
    "deepnote_cell_type": "markdown"
   },
   "source": [
    "## CARGA Y EXPLORACIÓN DE DATOS"
   ]
  },
  {
   "cell_type": "code",
   "execution_count": 26,
   "id": "a7a35ff0",
   "metadata": {
    "cell_id": "00003-e0d5f1d5-d933-45a9-8b89-95ca97305d15",
    "deepnote_cell_height": 449,
    "deepnote_cell_type": "code",
    "deepnote_output_heights": [
     208
    ],
    "deepnote_to_be_reexecuted": false,
    "execution_millis": 387,
    "execution_start": 1655070816867,
    "source_hash": "ca294fef"
   },
   "outputs": [
    {
     "data": {
      "text/html": [
       "<div>\n",
       "<style scoped>\n",
       "    .dataframe tbody tr th:only-of-type {\n",
       "        vertical-align: middle;\n",
       "    }\n",
       "\n",
       "    .dataframe tbody tr th {\n",
       "        vertical-align: top;\n",
       "    }\n",
       "\n",
       "    .dataframe thead th {\n",
       "        text-align: right;\n",
       "    }\n",
       "</style>\n",
       "<table border=\"1\" class=\"dataframe\">\n",
       "  <thead>\n",
       "    <tr style=\"text-align: right;\">\n",
       "      <th></th>\n",
       "      <th>Row ID</th>\n",
       "      <th>Order ID</th>\n",
       "      <th>Order Date</th>\n",
       "      <th>Ship Date</th>\n",
       "      <th>Ship Mode</th>\n",
       "      <th>Customer ID</th>\n",
       "      <th>Customer Name</th>\n",
       "      <th>Segment</th>\n",
       "      <th>Country</th>\n",
       "      <th>City</th>\n",
       "      <th>...</th>\n",
       "      <th>Postal Code</th>\n",
       "      <th>Region</th>\n",
       "      <th>Product ID</th>\n",
       "      <th>Category</th>\n",
       "      <th>Sub-Category</th>\n",
       "      <th>Product Name</th>\n",
       "      <th>Sales</th>\n",
       "      <th>Quantity</th>\n",
       "      <th>Discount</th>\n",
       "      <th>Profit</th>\n",
       "    </tr>\n",
       "  </thead>\n",
       "  <tbody>\n",
       "    <tr>\n",
       "      <th>4287</th>\n",
       "      <td>4288</td>\n",
       "      <td>CA-2017-127516</td>\n",
       "      <td>12/28/2017</td>\n",
       "      <td>1/3/2018</td>\n",
       "      <td>Standard Class</td>\n",
       "      <td>EH-14005</td>\n",
       "      <td>Erica Hernandez</td>\n",
       "      <td>Home Office</td>\n",
       "      <td>United States</td>\n",
       "      <td>Nashville</td>\n",
       "      <td>...</td>\n",
       "      <td>37211</td>\n",
       "      <td>South</td>\n",
       "      <td>OFF-ST-10000736</td>\n",
       "      <td>Office Supplies</td>\n",
       "      <td>Storage</td>\n",
       "      <td>Carina Double Wide Media Storage Towers in Nat...</td>\n",
       "      <td>64.784</td>\n",
       "      <td>1</td>\n",
       "      <td>0.200</td>\n",
       "      <td>-12.957</td>\n",
       "    </tr>\n",
       "    <tr>\n",
       "      <th>8524</th>\n",
       "      <td>8525</td>\n",
       "      <td>CA-2017-161172</td>\n",
       "      <td>3/16/2017</td>\n",
       "      <td>3/16/2017</td>\n",
       "      <td>Same Day</td>\n",
       "      <td>SP-20920</td>\n",
       "      <td>Susan Pistek</td>\n",
       "      <td>Consumer</td>\n",
       "      <td>United States</td>\n",
       "      <td>Columbus</td>\n",
       "      <td>...</td>\n",
       "      <td>43229</td>\n",
       "      <td>East</td>\n",
       "      <td>TEC-PH-10004348</td>\n",
       "      <td>Technology</td>\n",
       "      <td>Phones</td>\n",
       "      <td>OtterBox Defender Series Case - iPhone 5c</td>\n",
       "      <td>44.376</td>\n",
       "      <td>2</td>\n",
       "      <td>0.400</td>\n",
       "      <td>-7.396</td>\n",
       "    </tr>\n",
       "    <tr>\n",
       "      <th>1863</th>\n",
       "      <td>1864</td>\n",
       "      <td>US-2016-100839</td>\n",
       "      <td>10/13/2016</td>\n",
       "      <td>10/17/2016</td>\n",
       "      <td>Standard Class</td>\n",
       "      <td>NC-18625</td>\n",
       "      <td>Noah Childs</td>\n",
       "      <td>Corporate</td>\n",
       "      <td>United States</td>\n",
       "      <td>Aurora</td>\n",
       "      <td>...</td>\n",
       "      <td>80013</td>\n",
       "      <td>West</td>\n",
       "      <td>FUR-TA-10004575</td>\n",
       "      <td>Furniture</td>\n",
       "      <td>Tables</td>\n",
       "      <td>Hon 5100 Series Wood Tables</td>\n",
       "      <td>727.450</td>\n",
       "      <td>5</td>\n",
       "      <td>0.500</td>\n",
       "      <td>-465.568</td>\n",
       "    </tr>\n",
       "    <tr>\n",
       "      <th>2107</th>\n",
       "      <td>2108</td>\n",
       "      <td>CA-2015-164882</td>\n",
       "      <td>10/31/2015</td>\n",
       "      <td>10/31/2015</td>\n",
       "      <td>Same Day</td>\n",
       "      <td>SG-20080</td>\n",
       "      <td>Sandra Glassco</td>\n",
       "      <td>Consumer</td>\n",
       "      <td>United States</td>\n",
       "      <td>Redlands</td>\n",
       "      <td>...</td>\n",
       "      <td>92374</td>\n",
       "      <td>West</td>\n",
       "      <td>OFF-PA-10000157</td>\n",
       "      <td>Office Supplies</td>\n",
       "      <td>Paper</td>\n",
       "      <td>Xerox 191</td>\n",
       "      <td>19.980</td>\n",
       "      <td>1</td>\n",
       "      <td>0.000</td>\n",
       "      <td>9.391</td>\n",
       "    </tr>\n",
       "    <tr>\n",
       "      <th>285</th>\n",
       "      <td>286</td>\n",
       "      <td>CA-2015-130883</td>\n",
       "      <td>9/26/2015</td>\n",
       "      <td>10/2/2015</td>\n",
       "      <td>Standard Class</td>\n",
       "      <td>TB-21520</td>\n",
       "      <td>Tracy Blumstein</td>\n",
       "      <td>Consumer</td>\n",
       "      <td>United States</td>\n",
       "      <td>Portland</td>\n",
       "      <td>...</td>\n",
       "      <td>97206</td>\n",
       "      <td>West</td>\n",
       "      <td>OFF-PA-10004100</td>\n",
       "      <td>Office Supplies</td>\n",
       "      <td>Paper</td>\n",
       "      <td>Xerox 216</td>\n",
       "      <td>31.104</td>\n",
       "      <td>6</td>\n",
       "      <td>0.200</td>\n",
       "      <td>10.886</td>\n",
       "    </tr>\n",
       "  </tbody>\n",
       "</table>\n",
       "<p>5 rows × 21 columns</p>\n",
       "</div>"
      ],
      "text/plain": [
       "      Row ID        Order ID  Order Date   Ship Date       Ship Mode  \\\n",
       "4287    4288  CA-2017-127516  12/28/2017    1/3/2018  Standard Class   \n",
       "8524    8525  CA-2017-161172   3/16/2017   3/16/2017        Same Day   \n",
       "1863    1864  US-2016-100839  10/13/2016  10/17/2016  Standard Class   \n",
       "2107    2108  CA-2015-164882  10/31/2015  10/31/2015        Same Day   \n",
       "285      286  CA-2015-130883   9/26/2015   10/2/2015  Standard Class   \n",
       "\n",
       "     Customer ID    Customer Name      Segment        Country       City  ...  \\\n",
       "4287    EH-14005  Erica Hernandez  Home Office  United States  Nashville  ...   \n",
       "8524    SP-20920     Susan Pistek     Consumer  United States   Columbus  ...   \n",
       "1863    NC-18625      Noah Childs    Corporate  United States     Aurora  ...   \n",
       "2107    SG-20080   Sandra Glassco     Consumer  United States   Redlands  ...   \n",
       "285     TB-21520  Tracy Blumstein     Consumer  United States   Portland  ...   \n",
       "\n",
       "     Postal Code  Region       Product ID         Category Sub-Category  \\\n",
       "4287       37211   South  OFF-ST-10000736  Office Supplies      Storage   \n",
       "8524       43229    East  TEC-PH-10004348       Technology       Phones   \n",
       "1863       80013    West  FUR-TA-10004575        Furniture       Tables   \n",
       "2107       92374    West  OFF-PA-10000157  Office Supplies        Paper   \n",
       "285        97206    West  OFF-PA-10004100  Office Supplies        Paper   \n",
       "\n",
       "                                           Product Name   Sales  Quantity  \\\n",
       "4287  Carina Double Wide Media Storage Towers in Nat...  64.784         1   \n",
       "8524          OtterBox Defender Series Case - iPhone 5c  44.376         2   \n",
       "1863                        Hon 5100 Series Wood Tables 727.450         5   \n",
       "2107                                          Xerox 191  19.980         1   \n",
       "285                                           Xerox 216  31.104         6   \n",
       "\n",
       "      Discount   Profit  \n",
       "4287     0.200  -12.957  \n",
       "8524     0.400   -7.396  \n",
       "1863     0.500 -465.568  \n",
       "2107     0.000    9.391  \n",
       "285      0.200   10.886  \n",
       "\n",
       "[5 rows x 21 columns]"
      ]
     },
     "execution_count": 26,
     "metadata": {},
     "output_type": "execute_result"
    }
   ],
   "source": [
    "url = \"https://raw.githubusercontent.com/PabloJRW/super_store_projects/main/datasets/Superstore.csv\"\n",
    "# Carga de datos\n",
    "data = pd.read_csv(url, encoding='windows-1252', date_parser='Order Date')\n",
    "data.sample(5)"
   ]
  },
  {
   "cell_type": "code",
   "execution_count": 27,
   "id": "f9948d7c",
   "metadata": {
    "cell_id": "00004-d54c488c-5c95-4db0-a60e-c7a199715769",
    "deepnote_cell_height": 629.5999755859375,
    "deepnote_cell_type": "code",
    "deepnote_to_be_reexecuted": false,
    "execution_millis": 34,
    "execution_start": 1655070817261,
    "source_hash": "957547ae"
   },
   "outputs": [
    {
     "name": "stdout",
     "output_type": "stream",
     "text": [
      "<class 'pandas.core.frame.DataFrame'>\n",
      "RangeIndex: 9994 entries, 0 to 9993\n",
      "Data columns (total 21 columns):\n",
      " #   Column         Non-Null Count  Dtype  \n",
      "---  ------         --------------  -----  \n",
      " 0   Row ID         9994 non-null   int64  \n",
      " 1   Order ID       9994 non-null   object \n",
      " 2   Order Date     9994 non-null   object \n",
      " 3   Ship Date      9994 non-null   object \n",
      " 4   Ship Mode      9994 non-null   object \n",
      " 5   Customer ID    9994 non-null   object \n",
      " 6   Customer Name  9994 non-null   object \n",
      " 7   Segment        9994 non-null   object \n",
      " 8   Country        9994 non-null   object \n",
      " 9   City           9994 non-null   object \n",
      " 10  State          9994 non-null   object \n",
      " 11  Postal Code    9994 non-null   int64  \n",
      " 12  Region         9994 non-null   object \n",
      " 13  Product ID     9994 non-null   object \n",
      " 14  Category       9994 non-null   object \n",
      " 15  Sub-Category   9994 non-null   object \n",
      " 16  Product Name   9994 non-null   object \n",
      " 17  Sales          9994 non-null   float64\n",
      " 18  Quantity       9994 non-null   int64  \n",
      " 19  Discount       9994 non-null   float64\n",
      " 20  Profit         9994 non-null   float64\n",
      "dtypes: float64(3), int64(3), object(15)\n",
      "memory usage: 1.6+ MB\n"
     ]
    }
   ],
   "source": [
    "data.info()"
   ]
  },
  {
   "cell_type": "code",
   "execution_count": 28,
   "id": "a591960f",
   "metadata": {
    "cell_id": "00005-a2cda969-d077-4239-9ae2-f52f1c7e6cdd",
    "deepnote_cell_height": 436,
    "deepnote_cell_type": "code",
    "deepnote_output_heights": [
     206
    ],
    "deepnote_to_be_reexecuted": false,
    "execution_millis": 122,
    "execution_start": 1655070817302,
    "source_hash": "894e8f26"
   },
   "outputs": [
    {
     "data": {
      "text/html": [
       "<div>\n",
       "<style scoped>\n",
       "    .dataframe tbody tr th:only-of-type {\n",
       "        vertical-align: middle;\n",
       "    }\n",
       "\n",
       "    .dataframe tbody tr th {\n",
       "        vertical-align: top;\n",
       "    }\n",
       "\n",
       "    .dataframe thead th {\n",
       "        text-align: right;\n",
       "    }\n",
       "</style>\n",
       "<table border=\"1\" class=\"dataframe\">\n",
       "  <thead>\n",
       "    <tr style=\"text-align: right;\">\n",
       "      <th></th>\n",
       "      <th>count</th>\n",
       "      <th>mean</th>\n",
       "      <th>std</th>\n",
       "      <th>min</th>\n",
       "      <th>25%</th>\n",
       "      <th>50%</th>\n",
       "      <th>75%</th>\n",
       "      <th>max</th>\n",
       "    </tr>\n",
       "  </thead>\n",
       "  <tbody>\n",
       "    <tr>\n",
       "      <th>Row ID</th>\n",
       "      <td>9994.000</td>\n",
       "      <td>4997.500</td>\n",
       "      <td>2885.164</td>\n",
       "      <td>1.000</td>\n",
       "      <td>2499.250</td>\n",
       "      <td>4997.500</td>\n",
       "      <td>7495.750</td>\n",
       "      <td>9994.000</td>\n",
       "    </tr>\n",
       "    <tr>\n",
       "      <th>Postal Code</th>\n",
       "      <td>9994.000</td>\n",
       "      <td>55190.379</td>\n",
       "      <td>32063.693</td>\n",
       "      <td>1040.000</td>\n",
       "      <td>23223.000</td>\n",
       "      <td>56430.500</td>\n",
       "      <td>90008.000</td>\n",
       "      <td>99301.000</td>\n",
       "    </tr>\n",
       "    <tr>\n",
       "      <th>Sales</th>\n",
       "      <td>9994.000</td>\n",
       "      <td>229.858</td>\n",
       "      <td>623.245</td>\n",
       "      <td>0.444</td>\n",
       "      <td>17.280</td>\n",
       "      <td>54.490</td>\n",
       "      <td>209.940</td>\n",
       "      <td>22638.480</td>\n",
       "    </tr>\n",
       "    <tr>\n",
       "      <th>Quantity</th>\n",
       "      <td>9994.000</td>\n",
       "      <td>3.790</td>\n",
       "      <td>2.225</td>\n",
       "      <td>1.000</td>\n",
       "      <td>2.000</td>\n",
       "      <td>3.000</td>\n",
       "      <td>5.000</td>\n",
       "      <td>14.000</td>\n",
       "    </tr>\n",
       "    <tr>\n",
       "      <th>Discount</th>\n",
       "      <td>9994.000</td>\n",
       "      <td>0.156</td>\n",
       "      <td>0.206</td>\n",
       "      <td>0.000</td>\n",
       "      <td>0.000</td>\n",
       "      <td>0.200</td>\n",
       "      <td>0.200</td>\n",
       "      <td>0.800</td>\n",
       "    </tr>\n",
       "    <tr>\n",
       "      <th>Profit</th>\n",
       "      <td>9994.000</td>\n",
       "      <td>28.657</td>\n",
       "      <td>234.260</td>\n",
       "      <td>-6599.978</td>\n",
       "      <td>1.729</td>\n",
       "      <td>8.666</td>\n",
       "      <td>29.364</td>\n",
       "      <td>8399.976</td>\n",
       "    </tr>\n",
       "  </tbody>\n",
       "</table>\n",
       "</div>"
      ],
      "text/plain": [
       "               count      mean       std       min       25%       50%  \\\n",
       "Row ID      9994.000  4997.500  2885.164     1.000  2499.250  4997.500   \n",
       "Postal Code 9994.000 55190.379 32063.693  1040.000 23223.000 56430.500   \n",
       "Sales       9994.000   229.858   623.245     0.444    17.280    54.490   \n",
       "Quantity    9994.000     3.790     2.225     1.000     2.000     3.000   \n",
       "Discount    9994.000     0.156     0.206     0.000     0.000     0.200   \n",
       "Profit      9994.000    28.657   234.260 -6599.978     1.729     8.666   \n",
       "\n",
       "                  75%       max  \n",
       "Row ID       7495.750  9994.000  \n",
       "Postal Code 90008.000 99301.000  \n",
       "Sales         209.940 22638.480  \n",
       "Quantity        5.000    14.000  \n",
       "Discount        0.200     0.800  \n",
       "Profit         29.364  8399.976  "
      ]
     },
     "execution_count": 28,
     "metadata": {},
     "output_type": "execute_result"
    }
   ],
   "source": [
    "data.describe().T"
   ]
  },
  {
   "cell_type": "code",
   "execution_count": 29,
   "id": "ae2e3cf6",
   "metadata": {
    "cell_id": "00006-d0f69115-9352-4d5d-a7a3-80d4c3421644",
    "deepnote_cell_height": 195,
    "deepnote_cell_type": "code",
    "deepnote_output_heights": [
     98
    ],
    "deepnote_to_be_reexecuted": false,
    "execution_millis": 144337,
    "execution_start": 1655070817438,
    "source_hash": "c8a8c27a"
   },
   "outputs": [
    {
     "data": {
      "text/plain": [
       "Index(['Row ID', 'Order ID', 'Order Date', 'Ship Date', 'Ship Mode',\n",
       "       'Customer ID', 'Customer Name', 'Segment', 'Country', 'City', 'State',\n",
       "       'Postal Code', 'Region', 'Product ID', 'Category', 'Sub-Category',\n",
       "       'Product Name', 'Sales', 'Quantity', 'Discount', 'Profit'],\n",
       "      dtype='object')"
      ]
     },
     "execution_count": 29,
     "metadata": {},
     "output_type": "execute_result"
    }
   ],
   "source": [
    "data.columns"
   ]
  },
  {
   "cell_type": "markdown",
   "id": "beecaf3d",
   "metadata": {
    "cell_id": "00007-073d2c11-6651-4d93-9fda-69200f4e4e8c",
    "deepnote_cell_height": 70,
    "deepnote_cell_type": "markdown"
   },
   "source": [
    "## TRANSFORMACIONES DE DATOS"
   ]
  },
  {
   "cell_type": "code",
   "execution_count": 30,
   "id": "a63674f6",
   "metadata": {
    "cell_id": "00008-3d5eaee8-8517-4d6e-892c-835e67572c8d",
    "deepnote_cell_height": 261,
    "deepnote_cell_type": "code",
    "deepnote_to_be_reexecuted": false,
    "execution_millis": 143,
    "execution_start": 1655070817498,
    "source_hash": "29dcec95"
   },
   "outputs": [],
   "source": [
    "# Datos de los corporativos\n",
    "consumer_data = data[data.Segment=='Consumer']\n",
    "\n",
    "# Transformación de tipo de dato\n",
    "consumer_data['Order Date'] = pd.to_datetime(consumer_data['Order Date'])\n",
    "\n",
    "# Seleccinar los datos del último año - 2017\n",
    "consumer_data = consumer_data[consumer_data['Order Date'] >= '2017']\n",
    "\n",
    "# Calculo de variable 'Discount'\n",
    "consumer_data['Discount'] = consumer_data['Discount']  * consumer_data['Sales'] "
   ]
  },
  {
   "cell_type": "code",
   "execution_count": 31,
   "id": "f89a34bd",
   "metadata": {
    "cell_id": "00009-75ebdbd3-9166-4eea-95f8-e7ffa0e3fe9b",
    "deepnote_cell_height": 403,
    "deepnote_cell_type": "code",
    "deepnote_output_heights": [
     119
    ],
    "deepnote_to_be_reexecuted": false,
    "execution_millis": 145,
    "execution_start": 1655070817643,
    "source_hash": "f3659153"
   },
   "outputs": [
    {
     "data": {
      "text/html": [
       "<div>\n",
       "<style scoped>\n",
       "    .dataframe tbody tr th:only-of-type {\n",
       "        vertical-align: middle;\n",
       "    }\n",
       "\n",
       "    .dataframe tbody tr th {\n",
       "        vertical-align: top;\n",
       "    }\n",
       "\n",
       "    .dataframe thead th {\n",
       "        text-align: right;\n",
       "    }\n",
       "</style>\n",
       "<table border=\"1\" class=\"dataframe\">\n",
       "  <thead>\n",
       "    <tr style=\"text-align: right;\">\n",
       "      <th></th>\n",
       "      <th>Customer ID</th>\n",
       "      <th>Order ID</th>\n",
       "      <th>Order Date</th>\n",
       "      <th>Sales</th>\n",
       "      <th>Quantity</th>\n",
       "      <th>Discount</th>\n",
       "      <th>Profit</th>\n",
       "    </tr>\n",
       "  </thead>\n",
       "  <tbody>\n",
       "    <tr>\n",
       "      <th>676</th>\n",
       "      <td>RB-19330</td>\n",
       "      <td>CA-2017-106068</td>\n",
       "      <td>2017-10-23</td>\n",
       "      <td>337.818</td>\n",
       "      <td>9</td>\n",
       "      <td>73.421</td>\n",
       "      <td>-74.306</td>\n",
       "    </tr>\n",
       "    <tr>\n",
       "      <th>357</th>\n",
       "      <td>HG-15025</td>\n",
       "      <td>CA-2017-117821</td>\n",
       "      <td>2017-06-12</td>\n",
       "      <td>63.920</td>\n",
       "      <td>2</td>\n",
       "      <td>12.784</td>\n",
       "      <td>19.176</td>\n",
       "    </tr>\n",
       "    <tr>\n",
       "      <th>759</th>\n",
       "      <td>SG-20470</td>\n",
       "      <td>US-2017-102890</td>\n",
       "      <td>2017-06-30</td>\n",
       "      <td>1044.630</td>\n",
       "      <td>5</td>\n",
       "      <td>417.852</td>\n",
       "      <td>-295.978</td>\n",
       "    </tr>\n",
       "  </tbody>\n",
       "</table>\n",
       "</div>"
      ],
      "text/plain": [
       "    Customer ID        Order ID Order Date    Sales  Quantity  Discount  \\\n",
       "676    RB-19330  CA-2017-106068 2017-10-23  337.818         9    73.421   \n",
       "357    HG-15025  CA-2017-117821 2017-06-12   63.920         2    12.784   \n",
       "759    SG-20470  US-2017-102890 2017-06-30 1044.630         5   417.852   \n",
       "\n",
       "      Profit  \n",
       "676  -74.306  \n",
       "357   19.176  \n",
       "759 -295.978  "
      ]
     },
     "execution_count": 31,
     "metadata": {},
     "output_type": "execute_result"
    }
   ],
   "source": [
    "# Datos agrupados \n",
    "consumer_data = consumer_data.groupby(['Customer ID','Order ID','Order Date']).sum()\n",
    "consumer_data.drop(['Row ID','Postal Code'], axis=1, inplace=True)\n",
    "consumer_data = consumer_data.reset_index([0,1,2])\n",
    "\n",
    "consumer_data.sample(3)"
   ]
  },
  {
   "cell_type": "code",
   "execution_count": 32,
   "id": "3616540b",
   "metadata": {
    "cell_id": "00010-bc416175-fe35-4f0f-abf6-fe16e932d5ea",
    "deepnote_cell_height": 665,
    "deepnote_cell_type": "code",
    "deepnote_output_heights": [
     206
    ],
    "deepnote_to_be_reexecuted": false,
    "execution_millis": 185,
    "execution_start": 1655070817788,
    "scrolled": true,
    "source_hash": "498af002"
   },
   "outputs": [
    {
     "data": {
      "text/html": [
       "<div>\n",
       "<style scoped>\n",
       "    .dataframe tbody tr th:only-of-type {\n",
       "        vertical-align: middle;\n",
       "    }\n",
       "\n",
       "    .dataframe tbody tr th {\n",
       "        vertical-align: top;\n",
       "    }\n",
       "\n",
       "    .dataframe thead th {\n",
       "        text-align: right;\n",
       "    }\n",
       "</style>\n",
       "<table border=\"1\" class=\"dataframe\">\n",
       "  <thead>\n",
       "    <tr style=\"text-align: right;\">\n",
       "      <th></th>\n",
       "      <th>Recency</th>\n",
       "      <th>Frequency</th>\n",
       "      <th>MonetaryValue</th>\n",
       "    </tr>\n",
       "    <tr>\n",
       "      <th>Customer ID</th>\n",
       "      <th></th>\n",
       "      <th></th>\n",
       "      <th></th>\n",
       "    </tr>\n",
       "  </thead>\n",
       "  <tbody>\n",
       "    <tr>\n",
       "      <th>DW-13540</th>\n",
       "      <td>99</td>\n",
       "      <td>3</td>\n",
       "      <td>239.850</td>\n",
       "    </tr>\n",
       "    <tr>\n",
       "      <th>TS-21505</th>\n",
       "      <td>12</td>\n",
       "      <td>4</td>\n",
       "      <td>868.950</td>\n",
       "    </tr>\n",
       "    <tr>\n",
       "      <th>CK-12205</th>\n",
       "      <td>40</td>\n",
       "      <td>4</td>\n",
       "      <td>1578.620</td>\n",
       "    </tr>\n",
       "    <tr>\n",
       "      <th>CT-11995</th>\n",
       "      <td>97</td>\n",
       "      <td>3</td>\n",
       "      <td>599.420</td>\n",
       "    </tr>\n",
       "    <tr>\n",
       "      <th>HZ-14950</th>\n",
       "      <td>36</td>\n",
       "      <td>4</td>\n",
       "      <td>864.640</td>\n",
       "    </tr>\n",
       "  </tbody>\n",
       "</table>\n",
       "</div>"
      ],
      "text/plain": [
       "             Recency  Frequency  MonetaryValue\n",
       "Customer ID                                   \n",
       "DW-13540          99          3        239.850\n",
       "TS-21505          12          4        868.950\n",
       "CK-12205          40          4       1578.620\n",
       "CT-11995          97          3        599.420\n",
       "HZ-14950          36          4        864.640"
      ]
     },
     "execution_count": 32,
     "metadata": {},
     "output_type": "execute_result"
    }
   ],
   "source": [
    "# CREATING RFM FEATURES\n",
    "# =============================================================================================\n",
    "\n",
    "snapshot_date = consumer_data['Order Date'].max() + dt.timedelta(days=1)\n",
    "\n",
    "# Aggregate data on a customer level\n",
    "consumerData = consumer_data.groupby('Customer ID').agg({'Order Date': lambda x: (snapshot_date - x.max()).days,\n",
    "                                          'Order ID': 'count',\n",
    "                                          'Sales': 'sum'})\n",
    "\n",
    "# Rename columns\n",
    "consumerData.rename(columns={'Order Date': 'Recency',\n",
    "                        'Order ID': 'Frequency',\n",
    "                        'Sales': 'MonetaryValue'}, inplace=True)\n",
    "\n",
    "consumerData.sample(5).round(2)"
   ]
  },
  {
   "cell_type": "markdown",
   "id": "62188ae2",
   "metadata": {
    "cell_id": "00011-a93360ee-77c8-467d-9e71-33b2275e2139",
    "deepnote_cell_height": 54,
    "deepnote_cell_type": "markdown"
   },
   "source": [
    "#### VARIABLES SIN ESCALADO"
   ]
  },
  {
   "cell_type": "code",
   "execution_count": 33,
   "id": "fecd10b7",
   "metadata": {
    "cell_id": "00012-9e95c99c-3ff4-48a7-b330-a0016b8c3d49",
    "deepnote_cell_height": 761,
    "deepnote_cell_type": "code",
    "deepnote_output_heights": [
     322,
     320
    ],
    "deepnote_to_be_reexecuted": false,
    "execution_millis": 2274,
    "execution_start": 1655070817975,
    "source_hash": "eccdf2a6"
   },
   "outputs": [
    {
     "data": {
      "image/png": "[encoded data removed]",
      "text/plain": [
       "<Figure size 1080x288 with 3 Axes>"
      ]
     },
     "metadata": {},
     "output_type": "display_data"
    }
   ],
   "source": [
    "# DISTRIBUCIONES DE VARIABLES SIN ESCALAR\n",
    "# ==============================================================================\n",
    "\n",
    "fig, axes = plt.subplots(nrows=1, ncols=3, figsize=(15, 4))\n",
    "axes = axes.flat\n",
    "\n",
    "for i, feature in enumerate(consumerData.columns):\n",
    "    sns.distplot(\n",
    "        x       = consumerData[feature],\n",
    "        color   = (list(plt.rcParams['axes.prop_cycle'])*2)[i][\"color\"],\n",
    "        ax      = axes[i]\n",
    "    )\n",
    "    axes[i].set_title(feature, fontsize = 12, fontweight = \"bold\")\n",
    "    axes[i].tick_params(labelsize = 9)\n",
    "    axes[i].set_xlabel(\"\")\n",
    "    \n",
    "    \n",
    "fig.tight_layout()\n",
    "fig.suptitle('Distribución de Variables', y=1.1,fontsize = 15, fontweight = \"bold\")\n",
    "plt.show()"
   ]
  },
  {
   "cell_type": "code",
   "execution_count": 34,
   "id": "0e2881f6",
   "metadata": {
    "cell_id": "00013-13edf572-37ed-45f6-9b7a-97b9be140e16",
    "deepnote_cell_height": 313,
    "deepnote_cell_type": "code",
    "deepnote_output_heights": [
     119
    ],
    "deepnote_to_be_reexecuted": false,
    "execution_millis": 91,
    "execution_start": 1655070820310,
    "source_hash": "b5e3216e"
   },
   "outputs": [
    {
     "data": {
      "text/html": [
       "<div>\n",
       "<style scoped>\n",
       "    .dataframe tbody tr th:only-of-type {\n",
       "        vertical-align: middle;\n",
       "    }\n",
       "\n",
       "    .dataframe tbody tr th {\n",
       "        vertical-align: top;\n",
       "    }\n",
       "\n",
       "    .dataframe thead th {\n",
       "        text-align: right;\n",
       "    }\n",
       "</style>\n",
       "<table border=\"1\" class=\"dataframe\">\n",
       "  <thead>\n",
       "    <tr style=\"text-align: right;\">\n",
       "      <th></th>\n",
       "      <th>count</th>\n",
       "      <th>mean</th>\n",
       "      <th>std</th>\n",
       "      <th>min</th>\n",
       "      <th>25%</th>\n",
       "      <th>50%</th>\n",
       "      <th>75%</th>\n",
       "      <th>max</th>\n",
       "    </tr>\n",
       "  </thead>\n",
       "  <tbody>\n",
       "    <tr>\n",
       "      <th>Recency</th>\n",
       "      <td>361.000</td>\n",
       "      <td>88.740</td>\n",
       "      <td>84.240</td>\n",
       "      <td>1.000</td>\n",
       "      <td>28.000</td>\n",
       "      <td>56.000</td>\n",
       "      <td>120.000</td>\n",
       "      <td>358.000</td>\n",
       "    </tr>\n",
       "    <tr>\n",
       "      <th>Frequency</th>\n",
       "      <td>361.000</td>\n",
       "      <td>2.430</td>\n",
       "      <td>1.280</td>\n",
       "      <td>1.000</td>\n",
       "      <td>1.000</td>\n",
       "      <td>2.000</td>\n",
       "      <td>3.000</td>\n",
       "      <td>8.000</td>\n",
       "    </tr>\n",
       "    <tr>\n",
       "      <th>MonetaryValue</th>\n",
       "      <td>361.000</td>\n",
       "      <td>919.400</td>\n",
       "      <td>1395.870</td>\n",
       "      <td>2.810</td>\n",
       "      <td>186.540</td>\n",
       "      <td>520.220</td>\n",
       "      <td>1124.440</td>\n",
       "      <td>14203.280</td>\n",
       "    </tr>\n",
       "  </tbody>\n",
       "</table>\n",
       "</div>"
      ],
      "text/plain": [
       "                count    mean      std   min     25%     50%      75%  \\\n",
       "Recency       361.000  88.740   84.240 1.000  28.000  56.000  120.000   \n",
       "Frequency     361.000   2.430    1.280 1.000   1.000   2.000    3.000   \n",
       "MonetaryValue 361.000 919.400 1395.870 2.810 186.540 520.220 1124.440   \n",
       "\n",
       "                    max  \n",
       "Recency         358.000  \n",
       "Frequency         8.000  \n",
       "MonetaryValue 14203.280  "
      ]
     },
     "execution_count": 34,
     "metadata": {},
     "output_type": "execute_result"
    }
   ],
   "source": [
    "consumerData.describe().T.round(2)"
   ]
  },
  {
   "cell_type": "markdown",
   "id": "17e7d6b1",
   "metadata": {
    "cell_id": "00014-141707c2-e878-4ad3-b7fb-51509e1211c6",
    "deepnote_cell_height": 54,
    "deepnote_cell_type": "markdown"
   },
   "source": [
    "#### PREPROCESAMINETO DE VARIABLES"
   ]
  },
  {
   "cell_type": "code",
   "execution_count": 35,
   "id": "5b6a7168",
   "metadata": {
    "cell_id": "00015-daefbd4d-12ba-438e-b6ad-a50c22d0260c",
    "deepnote_cell_height": 647,
    "deepnote_cell_type": "code",
    "deepnote_output_heights": [
     206
    ],
    "deepnote_to_be_reexecuted": false,
    "execution_millis": 49,
    "execution_start": 1655070820400,
    "source_hash": "7c04b0b9"
   },
   "outputs": [
    {
     "data": {
      "text/html": [
       "<div>\n",
       "<style scoped>\n",
       "    .dataframe tbody tr th:only-of-type {\n",
       "        vertical-align: middle;\n",
       "    }\n",
       "\n",
       "    .dataframe tbody tr th {\n",
       "        vertical-align: top;\n",
       "    }\n",
       "\n",
       "    .dataframe thead th {\n",
       "        text-align: right;\n",
       "    }\n",
       "</style>\n",
       "<table border=\"1\" class=\"dataframe\">\n",
       "  <thead>\n",
       "    <tr style=\"text-align: right;\">\n",
       "      <th></th>\n",
       "      <th>Recency</th>\n",
       "      <th>Frequency</th>\n",
       "      <th>MonetaryValue</th>\n",
       "    </tr>\n",
       "    <tr>\n",
       "      <th>Customer ID</th>\n",
       "      <th></th>\n",
       "      <th></th>\n",
       "      <th></th>\n",
       "    </tr>\n",
       "  </thead>\n",
       "  <tbody>\n",
       "    <tr>\n",
       "      <th>PF-19225</th>\n",
       "      <td>0.680</td>\n",
       "      <td>-0.091</td>\n",
       "      <td>0.248</td>\n",
       "    </tr>\n",
       "    <tr>\n",
       "      <th>JH-15820</th>\n",
       "      <td>1.051</td>\n",
       "      <td>-0.091</td>\n",
       "      <td>0.054</td>\n",
       "    </tr>\n",
       "    <tr>\n",
       "      <th>MS-17770</th>\n",
       "      <td>0.733</td>\n",
       "      <td>-1.357</td>\n",
       "      <td>-0.456</td>\n",
       "    </tr>\n",
       "    <tr>\n",
       "      <th>ES-14020</th>\n",
       "      <td>-0.229</td>\n",
       "      <td>-0.091</td>\n",
       "      <td>1.361</td>\n",
       "    </tr>\n",
       "    <tr>\n",
       "      <th>TM-21010</th>\n",
       "      <td>0.592</td>\n",
       "      <td>0.650</td>\n",
       "      <td>0.209</td>\n",
       "    </tr>\n",
       "  </tbody>\n",
       "</table>\n",
       "</div>"
      ],
      "text/plain": [
       "             Recency  Frequency  MonetaryValue\n",
       "Customer ID                                   \n",
       "PF-19225       0.680     -0.091          0.248\n",
       "JH-15820       1.051     -0.091          0.054\n",
       "MS-17770       0.733     -1.357         -0.456\n",
       "ES-14020      -0.229     -0.091          1.361\n",
       "TM-21010       0.592      0.650          0.209"
      ]
     },
     "execution_count": 35,
     "metadata": {},
     "output_type": "execute_result"
    }
   ],
   "source": [
    "# Transformación logarítmica\n",
    "consumerData_log = np.log(consumerData)\n",
    "\n",
    "# x - X.mean / X.std\n",
    "scaler = StandardScaler()\n",
    "\n",
    "# \n",
    "scaler.fit(consumerData_log)\n",
    "\n",
    "# Escalado de variables\n",
    "scaled_features = scaler.transform(consumerData_log)\n",
    "\n",
    "# Variables escaladas - DataFrame\n",
    "scaled_features = pd.DataFrame(scaled_features, index=consumerData.index, columns=consumerData.columns)\n",
    "scaled_features.sample(5).round(3)"
   ]
  },
  {
   "cell_type": "markdown",
   "id": "08cdb94a",
   "metadata": {
    "cell_id": "00016-0bb4e4f8-489e-40ab-aee5-f2d30676e385",
    "deepnote_cell_height": 54,
    "deepnote_cell_type": "markdown"
   },
   "source": [
    "#### VARIABLES ESCALADAS"
   ]
  },
  {
   "cell_type": "code",
   "execution_count": 36,
   "id": "a7a0d687",
   "metadata": {
    "cell_id": "00017-03165665-3175-47ab-a96d-66a11d43b598",
    "deepnote_cell_height": 779,
    "deepnote_cell_type": "code",
    "deepnote_output_heights": [
     322
    ],
    "deepnote_to_be_reexecuted": false,
    "execution_millis": 1976,
    "execution_start": 1655070820456,
    "source_hash": "2df0a047"
   },
   "outputs": [
    {
     "data": {
      "image/png": "[encoded data removed]",
      "text/plain": [
       "<Figure size 1080x288 with 3 Axes>"
      ]
     },
     "metadata": {},
     "output_type": "display_data"
    }
   ],
   "source": [
    "# DISTRIBUCIONES DE VARIABLES ESCALADAS\n",
    "# ==============================================================================\n",
    "\n",
    "fig, axes = plt.subplots(nrows=1, ncols=3, figsize=(15, 4))\n",
    "axes = axes.flat\n",
    "\n",
    "\n",
    "for i, feature in enumerate(scaled_features.columns):\n",
    "    sns.distplot(\n",
    "        x       = scaled_features[feature],\n",
    "        color   = (list(plt.rcParams['axes.prop_cycle'])*2)[i][\"color\"],\n",
    "        ax      = axes[i]\n",
    "    )\n",
    "    axes[i].set_title(feature, fontsize = 12, fontweight = \"bold\")\n",
    "    axes[i].tick_params(labelsize = 9)\n",
    "    axes[i].set_xlabel(\"\")\n",
    "    \n",
    "    \n",
    "fig.tight_layout()\n",
    "plt.subplots_adjust(top = 0.9)\n",
    "fig.suptitle('DISTRIBUCIÓN DE VARIABLES ESCALADAS', y=1.1, fontsize = 15, fontweight = \"bold\");"
   ]
  },
  {
   "cell_type": "code",
   "execution_count": 37,
   "id": "b3405276",
   "metadata": {
    "cell_id": "00018-4b506f80-f687-4543-8a00-b1335c89d5e5",
    "deepnote_cell_height": 313,
    "deepnote_cell_type": "code",
    "deepnote_output_heights": [
     119
    ],
    "deepnote_to_be_reexecuted": false,
    "execution_millis": 97,
    "execution_start": 1655070867251,
    "owner_user_id": "f579454d-9b43-4f49-be2a-585951cb1da4",
    "source_hash": "446d4984"
   },
   "outputs": [
    {
     "data": {
      "text/html": [
       "<div>\n",
       "<style scoped>\n",
       "    .dataframe tbody tr th:only-of-type {\n",
       "        vertical-align: middle;\n",
       "    }\n",
       "\n",
       "    .dataframe tbody tr th {\n",
       "        vertical-align: top;\n",
       "    }\n",
       "\n",
       "    .dataframe thead th {\n",
       "        text-align: right;\n",
       "    }\n",
       "</style>\n",
       "<table border=\"1\" class=\"dataframe\">\n",
       "  <thead>\n",
       "    <tr style=\"text-align: right;\">\n",
       "      <th></th>\n",
       "      <th>count</th>\n",
       "      <th>mean</th>\n",
       "      <th>std</th>\n",
       "      <th>min</th>\n",
       "      <th>25%</th>\n",
       "      <th>50%</th>\n",
       "      <th>75%</th>\n",
       "      <th>max</th>\n",
       "    </tr>\n",
       "  </thead>\n",
       "  <tbody>\n",
       "    <tr>\n",
       "      <th>Recency</th>\n",
       "      <td>361.000</td>\n",
       "      <td>-0.000</td>\n",
       "      <td>1.001</td>\n",
       "      <td>-3.504</td>\n",
       "      <td>-0.565</td>\n",
       "      <td>0.046</td>\n",
       "      <td>0.718</td>\n",
       "      <td>1.682</td>\n",
       "    </tr>\n",
       "    <tr>\n",
       "      <th>Frequency</th>\n",
       "      <td>361.000</td>\n",
       "      <td>0.000</td>\n",
       "      <td>1.001</td>\n",
       "      <td>-1.357</td>\n",
       "      <td>-1.357</td>\n",
       "      <td>-0.091</td>\n",
       "      <td>0.650</td>\n",
       "      <td>2.441</td>\n",
       "    </tr>\n",
       "    <tr>\n",
       "      <th>MonetaryValue</th>\n",
       "      <td>361.000</td>\n",
       "      <td>-0.000</td>\n",
       "      <td>1.001</td>\n",
       "      <td>-3.226</td>\n",
       "      <td>-0.482</td>\n",
       "      <td>0.189</td>\n",
       "      <td>0.693</td>\n",
       "      <td>2.352</td>\n",
       "    </tr>\n",
       "  </tbody>\n",
       "</table>\n",
       "</div>"
      ],
      "text/plain": [
       "                count   mean   std    min    25%    50%   75%   max\n",
       "Recency       361.000 -0.000 1.001 -3.504 -0.565  0.046 0.718 1.682\n",
       "Frequency     361.000  0.000 1.001 -1.357 -1.357 -0.091 0.650 2.441\n",
       "MonetaryValue 361.000 -0.000 1.001 -3.226 -0.482  0.189 0.693 2.352"
      ]
     },
     "execution_count": 37,
     "metadata": {},
     "output_type": "execute_result"
    }
   ],
   "source": [
    "scaled_features.describe().T.round(3)"
   ]
  },
  {
   "cell_type": "markdown",
   "id": "c1de3f4a",
   "metadata": {
    "cell_id": "00019-9fc5e334-011e-41ad-8711-fb7985592838",
    "deepnote_cell_height": 70,
    "deepnote_cell_type": "markdown"
   },
   "source": [
    "## KMeans"
   ]
  },
  {
   "cell_type": "markdown",
   "id": "b7dea53f",
   "metadata": {
    "cell_id": "00020-dc8471e4-db2e-4f8f-aedc-c3d33425616d",
    "deepnote_cell_height": 54,
    "deepnote_cell_type": "markdown"
   },
   "source": [
    "#### MÉTODO DE CODO"
   ]
  },
  {
   "cell_type": "code",
   "execution_count": 38,
   "id": "afade19c",
   "metadata": {
    "cell_id": "00021-83007592-c6b2-4a10-84b0-244424582d8d",
    "deepnote_cell_height": 816.2000122070312,
    "deepnote_cell_type": "code",
    "deepnote_output_heights": [
     361,
     362
    ],
    "deepnote_to_be_reexecuted": false,
    "execution_millis": 13105,
    "execution_start": 1655070822555,
    "source_hash": "efd9631a"
   },
   "outputs": [
    {
     "data": {
      "image/png": "[encoded data removed]",
      "text/plain": [
       "<Figure size 576x396 with 2 Axes>"
      ]
     },
     "metadata": {},
     "output_type": "display_data"
    }
   ],
   "source": [
    "# MÉTODO DE CODO\n",
    "# ============================================================================\n",
    "from yellowbrick.cluster import SilhouetteVisualizer\n",
    "from yellowbrick.cluster import KElbowVisualizer\n",
    "\n",
    "\n",
    "model = KMeans()\n",
    "visualizer = KElbowVisualizer(model, k=(2,12))\n",
    "\n",
    "visualizer.fit(scaled_features)        # Fit the data to the visualizer\n",
    "visualizer.show()        # Finalize and render the figure\n",
    "plt.show()\n"
   ]
  },
  {
   "cell_type": "markdown",
   "id": "1dee1314",
   "metadata": {
    "cell_id": "00022-b1868e71-509c-48ae-ab03-a20f24585527",
    "deepnote_cell_height": 54,
    "deepnote_cell_type": "markdown"
   },
   "source": [
    "#### ENTRENAMIENTO DEL MODELO - KMEANS"
   ]
  },
  {
   "cell_type": "code",
   "execution_count": 39,
   "id": "f4d104e7",
   "metadata": {
    "cell_id": "00023-5ae17070-0195-477b-ba51-1a16f7bfb01e",
    "deepnote_cell_height": 634,
    "deepnote_cell_type": "code",
    "deepnote_output_heights": [
     235
    ],
    "deepnote_to_be_reexecuted": false,
    "execution_millis": 592,
    "execution_start": 1655070835342,
    "scrolled": true,
    "source_hash": "f0757309"
   },
   "outputs": [
    {
     "data": {
      "text/html": [
       "<div>\n",
       "<style scoped>\n",
       "    .dataframe tbody tr th:only-of-type {\n",
       "        vertical-align: middle;\n",
       "    }\n",
       "\n",
       "    .dataframe tbody tr th {\n",
       "        vertical-align: top;\n",
       "    }\n",
       "\n",
       "    .dataframe thead tr th {\n",
       "        text-align: left;\n",
       "    }\n",
       "\n",
       "    .dataframe thead tr:last-of-type th {\n",
       "        text-align: right;\n",
       "    }\n",
       "</style>\n",
       "<table border=\"1\" class=\"dataframe\">\n",
       "  <thead>\n",
       "    <tr>\n",
       "      <th></th>\n",
       "      <th>Recency</th>\n",
       "      <th>Frequency</th>\n",
       "      <th colspan=\"2\" halign=\"left\">MonetaryValue</th>\n",
       "    </tr>\n",
       "    <tr>\n",
       "      <th></th>\n",
       "      <th>mean</th>\n",
       "      <th>mean</th>\n",
       "      <th>mean</th>\n",
       "      <th>count</th>\n",
       "    </tr>\n",
       "    <tr>\n",
       "      <th>labels_5k</th>\n",
       "      <th></th>\n",
       "      <th></th>\n",
       "      <th></th>\n",
       "      <th></th>\n",
       "    </tr>\n",
       "  </thead>\n",
       "  <tbody>\n",
       "    <tr>\n",
       "      <th>0</th>\n",
       "      <td>163.350</td>\n",
       "      <td>1.180</td>\n",
       "      <td>25.410</td>\n",
       "      <td>40</td>\n",
       "    </tr>\n",
       "    <tr>\n",
       "      <th>1</th>\n",
       "      <td>47.230</td>\n",
       "      <td>3.540</td>\n",
       "      <td>1773.870</td>\n",
       "      <td>100</td>\n",
       "    </tr>\n",
       "    <tr>\n",
       "      <th>2</th>\n",
       "      <td>8.430</td>\n",
       "      <td>3.620</td>\n",
       "      <td>1656.410</td>\n",
       "      <td>40</td>\n",
       "    </tr>\n",
       "    <tr>\n",
       "      <th>3</th>\n",
       "      <td>27.870</td>\n",
       "      <td>1.780</td>\n",
       "      <td>331.120</td>\n",
       "      <td>55</td>\n",
       "    </tr>\n",
       "    <tr>\n",
       "      <th>4</th>\n",
       "      <td>167.980</td>\n",
       "      <td>1.000</td>\n",
       "      <td>468.710</td>\n",
       "      <td>53</td>\n",
       "    </tr>\n",
       "    <tr>\n",
       "      <th>5</th>\n",
       "      <td>137.050</td>\n",
       "      <td>2.450</td>\n",
       "      <td>605.360</td>\n",
       "      <td>73</td>\n",
       "    </tr>\n",
       "  </tbody>\n",
       "</table>\n",
       "</div>"
      ],
      "text/plain": [
       "          Recency Frequency MonetaryValue      \n",
       "             mean      mean          mean count\n",
       "labels_5k                                      \n",
       "0         163.350     1.180        25.410    40\n",
       "1          47.230     3.540      1773.870   100\n",
       "2           8.430     3.620      1656.410    40\n",
       "3          27.870     1.780       331.120    55\n",
       "4         167.980     1.000       468.710    53\n",
       "5         137.050     2.450       605.360    73"
      ]
     },
     "execution_count": 39,
     "metadata": {},
     "output_type": "execute_result"
    }
   ],
   "source": [
    "# Modelo - KMeans\n",
    "kmeans_model = KMeans(n_clusters=6, random_state=42)\n",
    "\n",
    "# Modelo entrenado\n",
    "kmeans_model.fit_transform(scaled_features)\n",
    "\n",
    "consumerData['labels_5k'] = kmeans_model.labels_\n",
    "\n",
    "kmeansData = consumerData.groupby('labels_5k').agg({'Recency':'mean',\n",
    "                                           'Frequency':'mean',\n",
    "                                           'MonetaryValue':['mean','count']})\n",
    "kmeansData.round(2)"
   ]
  },
  {
   "cell_type": "code",
   "execution_count": 40,
   "id": "b4f025bc",
   "metadata": {
    "cell_id": "0f97ba39aa014c02b1204509bc63bf00",
    "deepnote_cell_height": 739.4000244140625,
    "deepnote_cell_type": "code",
    "deepnote_output_heights": [
     416,
     416
    ],
    "deepnote_to_be_reexecuted": true,
    "execution_millis": 1832,
    "execution_start": 1655069763807,
    "source_hash": "b519f13b",
    "tags": []
   },
   "outputs": [
    {
     "data": {
      "image/png": "[encoded data removed]",
      "text/plain": [
       "<Figure size 1296x432 with 3 Axes>"
      ]
     },
     "metadata": {},
     "output_type": "display_data"
    }
   ],
   "source": [
    "fig, ax = plt.subplots(1,3, figsize=(18,6))\n",
    "plt.suptitle(\"KMeans: Distribución de Variables (5 Clústers)\", fontweight='bold')\n",
    "\n",
    "for i, col in enumerate(consumerData.columns[0:3]):\n",
    "    ax[i].set_title(col)\n",
    "    sns.boxplot(x=consumerData.labels_5k, y=consumerData[col], ax=ax[i])\n",
    "    ax[i].set_xlabel(\"Cluster Labels\")\n",
    "\n",
    "plt.subplots_adjust(wspace=.3) \n",
    "plt.show()"
   ]
  },
  {
   "cell_type": "code",
   "execution_count": 41,
   "id": "025e6918",
   "metadata": {
    "cell_id": "891399de028c4e719b8492485777d973",
    "deepnote_cell_height": 660,
    "deepnote_cell_type": "code",
    "deepnote_output_heights": [
     527
    ],
    "deepnote_to_be_reexecuted": true,
    "execution_millis": 1590,
    "execution_start": 1655069765645,
    "source_hash": "71269633",
    "tags": []
   },
   "outputs": [
    {
     "data": {
      "application/vnd.plotly.v1+json": {
       "config": {
        "plotlyServerURL": "https://plot.ly"
       },
       "data": [
        {
         "hovertemplate": "Recency=%{x}<br>Frequency=%{y}<br>MonetaryValue=%{z}<br>labels_5k=%{marker.color}<extra></extra>",
         "legendgroup": "",
         "marker": {
          "color": [
           4,
           3,
           0,
           0,
           1,
           3,
           1,
           2,
           4,
           1,
           0,
           2,
           0,
           5,
           5,
           2,
           5,
           3,
           2,
           5,
           0,
           5,
           5,
           0,
           2,
           1,
           0,
           2,
           3,
           4,
           1,
           1,
           4,
           4,
           3,
           1,
           5,
           5,
           3,
           1,
           5,
           1,
           3,
           4,
           0,
           3,
           4,
           5,
           3,
           2,
           2,
           3,
           4,
           0,
           1,
           5,
           1,
           3,
           0,
           1,
           3,
           1,
           3,
           1,
           1,
           5,
           1,
           0,
           1,
           1,
           1,
           5,
           5,
           2,
           1,
           2,
           1,
           4,
           5,
           1,
           2,
           3,
           4,
           5,
           5,
           2,
           2,
           5,
           3,
           2,
           1,
           3,
           3,
           3,
           1,
           3,
           1,
           1,
           0,
           0,
           1,
           0,
           1,
           4,
           5,
           1,
           5,
           1,
           5,
           5,
           4,
           4,
           0,
           5,
           1,
           5,
           0,
           4,
           1,
           4,
           3,
           0,
           2,
           1,
           5,
           5,
           1,
           3,
           5,
           2,
           3,
           4,
           3,
           1,
           5,
           4,
           1,
           3,
           3,
           2,
           5,
           3,
           3,
           1,
           2,
           1,
           5,
           1,
           4,
           4,
           1,
           1,
           0,
           4,
           1,
           0,
           5,
           4,
           4,
           1,
           1,
           1,
           5,
           5,
           2,
           5,
           4,
           2,
           2,
           5,
           1,
           3,
           4,
           1,
           4,
           5,
           1,
           2,
           5,
           1,
           1,
           1,
           0,
           3,
           5,
           1,
           4,
           2,
           4,
           1,
           2,
           1,
           4,
           4,
           3,
           2,
           1,
           1,
           3,
           3,
           1,
           5,
           0,
           1,
           2,
           5,
           2,
           3,
           3,
           5,
           3,
           4,
           5,
           3,
           2,
           3,
           3,
           3,
           3,
           0,
           1,
           1,
           1,
           0,
           1,
           2,
           1,
           5,
           1,
           5,
           5,
           1,
           1,
           5,
           1,
           4,
           5,
           2,
           1,
           1,
           4,
           0,
           4,
           4,
           3,
           1,
           3,
           3,
           4,
           4,
           1,
           1,
           4,
           0,
           3,
           1,
           5,
           4,
           2,
           0,
           5,
           3,
           4,
           4,
           5,
           1,
           1,
           5,
           2,
           2,
           2,
           1,
           5,
           3,
           2,
           3,
           5,
           4,
           1,
           3,
           3,
           0,
           1,
           5,
           1,
           4,
           3,
           0,
           5,
           3,
           3,
           0,
           1,
           4,
           4,
           1,
           3,
           3,
           1,
           1,
           5,
           5,
           0,
           1,
           1,
           5,
           5,
           0,
           4,
           2,
           5,
           1,
           3,
           4,
           5,
           1,
           1,
           4,
           2,
           1,
           5,
           5,
           0,
           0,
           1,
           0,
           2,
           5,
           1,
           5,
           5,
           4,
           5,
           5,
           0,
           1,
           1,
           1,
           4,
           4,
           4,
           5,
           5,
           2,
           1,
           4,
           0,
           0,
           2,
           1,
           5,
           1,
           5,
           0,
           5,
           0,
           4,
           1,
           1,
           1,
           0
          ],
          "coloraxis": "coloraxis",
          "symbol": "circle"
         },
         "mode": "markers",
         "name": "",
         "scene": "scene",
         "showlegend": false,
         "type": "scatter3d",
         "x": [
          185,
          20,
          260,
          56,
          42,
          42,
          26,
          12,
          283,
          42,
          279,
          9,
          115,
          98,
          97,
          7,
          231,
          22,
          14,
          86,
          75,
          163,
          99,
          15,
          7,
          29,
          193,
          14,
          21,
          161,
          34,
          36,
          98,
          70,
          10,
          94,
          328,
          99,
          26,
          29,
          58,
          24,
          78,
          308,
          219,
          10,
          76,
          90,
          40,
          13,
          2,
          21,
          213,
          204,
          57,
          121,
          48,
          27,
          107,
          21,
          44,
          40,
          28,
          30,
          41,
          55,
          43,
          339,
          190,
          40,
          44,
          107,
          285,
          9,
          27,
          9,
          38,
          79,
          163,
          26,
          7,
          28,
          59,
          97,
          255,
          17,
          10,
          188,
          34,
          13,
          38,
          24,
          42,
          13,
          46,
          8,
          43,
          20,
          101,
          58,
          23,
          58,
          58,
          218,
          134,
          27,
          127,
          30,
          99,
          101,
          162,
          114,
          83,
          54,
          23,
          218,
          106,
          303,
          58,
          152,
          48,
          288,
          13,
          41,
          213,
          146,
          39,
          24,
          150,
          6,
          14,
          51,
          3,
          84,
          107,
          153,
          37,
          35,
          29,
          8,
          70,
          21,
          22,
          55,
          7,
          44,
          248,
          36,
          72,
          143,
          93,
          44,
          115,
          176,
          159,
          118,
          113,
          301,
          194,
          47,
          52,
          66,
          226,
          106,
          3,
          122,
          55,
          2,
          6,
          175,
          42,
          30,
          62,
          45,
          62,
          85,
          29,
          9,
          120,
          50,
          22,
          38,
          103,
          1,
          110,
          58,
          93,
          9,
          69,
          29,
          6,
          37,
          297,
          98,
          42,
          2,
          23,
          48,
          16,
          29,
          101,
          97,
          49,
          28,
          17,
          55,
          14,
          22,
          23,
          152,
          22,
          240,
          250,
          41,
          10,
          27,
          35,
          27,
          35,
          206,
          22,
          49,
          45,
          77,
          28,
          2,
          42,
          118,
          29,
          85,
          86,
          50,
          23,
          241,
          55,
          101,
          169,
          8,
          62,
          35,
          73,
          181,
          274,
          122,
          50,
          28,
          20,
          18,
          225,
          42,
          28,
          80,
          49,
          245,
          26,
          59,
          139,
          211,
          7,
          173,
          66,
          58,
          98,
          197,
          115,
          37,
          58,
          135,
          10,
          5,
          1,
          37,
          108,
          72,
          6,
          13,
          62,
          69,
          97,
          20,
          26,
          111,
          73,
          181,
          22,
          115,
          43,
          303,
          90,
          7,
          33,
          120,
          122,
          346,
          300,
          36,
          34,
          20,
          80,
          64,
          202,
          189,
          350,
          30,
          31,
          93,
          188,
          31,
          132,
          10,
          60,
          60,
          9,
          184,
          109,
          24,
          30,
          254,
          9,
          30,
          71,
          111,
          121,
          126,
          102,
          321,
          3,
          82,
          31,
          163,
          120,
          350,
          203,
          108,
          286,
          31,
          28,
          38,
          338,
          115,
          345,
          104,
          131,
          9,
          105,
          194,
          358,
          227,
          12,
          56,
          239,
          32,
          184,
          36,
          155,
          118,
          222,
          21,
          44,
          55,
          203
         ],
         "y": [
          1,
          2,
          1,
          1,
          5,
          2,
          4,
          2,
          1,
          3,
          1,
          4,
          1,
          4,
          3,
          5,
          2,
          2,
          4,
          2,
          1,
          3,
          3,
          1,
          2,
          3,
          1,
          4,
          2,
          1,
          4,
          2,
          1,
          1,
          1,
          4,
          2,
          2,
          2,
          3,
          2,
          3,
          2,
          1,
          1,
          2,
          1,
          3,
          1,
          3,
          3,
          2,
          1,
          2,
          5,
          2,
          5,
          3,
          1,
          4,
          2,
          4,
          3,
          2,
          2,
          2,
          2,
          1,
          4,
          4,
          4,
          2,
          2,
          3,
          4,
          3,
          2,
          1,
          3,
          4,
          6,
          2,
          1,
          3,
          2,
          3,
          3,
          2,
          3,
          4,
          5,
          2,
          3,
          1,
          3,
          2,
          4,
          3,
          2,
          1,
          3,
          1,
          3,
          1,
          4,
          6,
          3,
          2,
          3,
          3,
          1,
          1,
          1,
          3,
          3,
          2,
          1,
          1,
          3,
          1,
          2,
          1,
          8,
          2,
          2,
          2,
          4,
          2,
          3,
          5,
          2,
          1,
          1,
          4,
          3,
          1,
          4,
          2,
          2,
          3,
          2,
          2,
          1,
          3,
          3,
          2,
          2,
          4,
          1,
          1,
          5,
          5,
          1,
          1,
          5,
          2,
          3,
          1,
          1,
          3,
          4,
          4,
          2,
          4,
          2,
          4,
          1,
          3,
          3,
          2,
          3,
          1,
          1,
          3,
          1,
          4,
          2,
          3,
          2,
          3,
          6,
          5,
          2,
          1,
          2,
          3,
          1,
          2,
          1,
          3,
          5,
          3,
          1,
          1,
          2,
          2,
          2,
          3,
          1,
          1,
          5,
          2,
          2,
          3,
          3,
          2,
          4,
          2,
          2,
          2,
          2,
          1,
          2,
          2,
          4,
          1,
          1,
          1,
          2,
          1,
          3,
          4,
          3,
          1,
          3,
          3,
          3,
          3,
          4,
          2,
          3,
          3,
          2,
          2,
          4,
          1,
          2,
          4,
          4,
          3,
          1,
          1,
          1,
          1,
          2,
          4,
          1,
          1,
          1,
          1,
          4,
          3,
          1,
          1,
          1,
          2,
          2,
          1,
          3,
          1,
          2,
          2,
          1,
          1,
          2,
          3,
          4,
          3,
          5,
          5,
          4,
          2,
          2,
          2,
          4,
          2,
          2,
          1,
          3,
          2,
          2,
          1,
          3,
          3,
          3,
          1,
          2,
          1,
          2,
          2,
          3,
          1,
          4,
          1,
          1,
          2,
          2,
          1,
          4,
          5,
          2,
          2,
          1,
          4,
          5,
          3,
          3,
          2,
          1,
          4,
          2,
          3,
          1,
          1,
          2,
          6,
          3,
          1,
          2,
          4,
          2,
          2,
          1,
          2,
          4,
          1,
          5,
          2,
          4,
          2,
          3,
          1,
          2,
          2,
          1,
          3,
          5,
          6,
          1,
          1,
          1,
          3,
          3,
          3,
          3,
          1,
          1,
          1,
          4,
          4,
          2,
          2,
          2,
          1,
          3,
          1,
          1,
          3,
          4,
          4,
          1
         ],
         "z": [
          374.48,
          206.73200000000003,
          15.552,
          12.96,
          2291.044,
          230.656,
          416.27200000000005,
          3459.6,
          143.728,
          363.6,
          15.008,
          412.15200000000004,
          19.76,
          202.816,
          604.91,
          3300.64,
          577.4900000000001,
          255.22400000000002,
          581.634,
          648.0740000000001,
          10.64,
          2207.22,
          436.63,
          10.8,
          5820.58,
          841.36,
          59.176,
          514.98,
          606.232,
          121.536,
          613.864,
          3372.629,
          253.82399999999998,
          582.0699999999999,
          71,
          1113.87,
          245.552,
          520.216,
          258.28,
          698.2359999999999,
          546.68,
          583.774,
          68.32,
          356.79,
          23.08,
          127.41000000000001,
          124.75,
          73.675,
          70.98,
          943.191,
          506.62000000000006,
          101.36,
          324.744,
          28.576,
          1526.6572,
          651.6700000000001,
          1047.58,
          213.344,
          31.744,
          1939.696,
          227.88799999999998,
          800.6020000000001,
          113.832,
          1216.2435,
          1572.6280000000002,
          614.982,
          1205.5839999999998,
          18.16,
          5723.398,
          1578.6219999999996,
          872.5560000000002,
          1121.722,
          1823.336,
          1643.97,
          431.63400000000007,
          941.992,
          2271.7599999999998,
          904.9,
          46.64,
          561.538,
          1569.4619999999998,
          550.644,
          168.1,
          599.422,
          1252.5520000000001,
          1161.288,
          791.6700000000001,
          1023.0840000000001,
          192.62,
          922.244,
          2493.8860000000004,
          390.046,
          137.984,
          2888.518,
          1621.552,
          326.48,
          1258.4460000000001,
          520.406,
          18.294,
          75.9,
          521.5300000000001,
          41.37,
          1506.1090000000002,
          477.3,
          529.874,
          1190.676,
          242.522,
          1143.2330000000002,
          239.84799999999998,
          475.02600000000007,
          526.344,
          258.528,
          10.816,
          157.36,
          468.972,
          94.38,
          20.544,
          1219.7920000000001,
          513.29,
          186.54,
          41.546,
          23.832,
          1603.478,
          3121.352,
          1104.038,
          228.47199999999998,
          406.41999999999996,
          382.256,
          624.2040000000001,
          593.558,
          824.28,
          111.79,
          106.02080000000001,
          601.692,
          375.94399999999996,
          285.576,
          1196.8519999999999,
          112.91199999999999,
          721.7460000000001,
          582.1899999999999,
          879.256,
          45.272000000000006,
          43.85,
          713.3159999999999,
          372.06,
          10522.55,
          162.324,
          864.64,
          199.17,
          1645.87,
          5054.209000000001,
          595.6528000000001,
          47.94,
          1058.1080000000002,
          1622.0369999999998,
          50.784,
          229.25400000000002,
          375.71,
          201.262,
          836.016,
          1823.373,
          1372.062,
          412.75199999999995,
          379.56,
          1954.732,
          224.976,
          831.3680000000002,
          1608.31,
          253.60899999999998,
          422.894,
          279.347,
          376.09999999999997,
          1993.772,
          429.25,
          911.82,
          344.24199999999996,
          2854.578,
          1162.3159999999998,
          1007.232,
          2638.95,
          5301.62,
          2660.514,
          40.76,
          3.024,
          387.464,
          765.852,
          243.92,
          1824.1840000000002,
          863.88,
          1047.998,
          895.318,
          837.8880000000001,
          510.82399999999996,
          103.056,
          83.28,
          1840.1519999999998,
          4021.2350000000006,
          570.388,
          273.92600000000004,
          1271.1699999999998,
          318.8564,
          598.818,
          28.708,
          1315.0559999999998,
          1124.4360000000001,
          328.56,
          1269.856,
          650.6899999999999,
          256.75,
          280.856,
          315.286,
          120.783,
          121.55399999999999,
          227.71800000000002,
          2738.7870000000003,
          649,
          164.34,
          74.352,
          291.702,
          10.36,
          308.406,
          566.6959999999999,
          849.043,
          14.73,
          633.777,
          2105.2219999999998,
          845.862,
          1031.104,
          1607.8252,
          1415.606,
          530.73,
          1632.218,
          993.156,
          678.74,
          2008.53,
          151.96,
          484.56100000000004,
          242.996,
          1678.757,
          1867.3379999999997,
          91.275,
          24,
          127.46000000000001,
          193.95,
          335.38,
          1081.922,
          63.339999999999996,
          31.44,
          891.53,
          1729.286,
          1094.865,
          1782.0960000000002,
          779.1600000000001,
          5.76,
          92.94,
          2353.94,
          454.368,
          1111.6979999999999,
          2048.639,
          30.32,
          692.19,
          71.676,
          199.8,
          169.28,
          569.2220000000001,
          366.99,
          780.25,
          1432.586,
          5979.1359999999995,
          5308.107,
          1139.462,
          1527.9299999999998,
          1079.9589999999998,
          61.936,
          1290.69,
          514.673,
          467.74199999999996,
          337.81800000000004,
          14203.277999999998,
          821.8900000000001,
          229.394,
          34.504,
          2172.196,
          261.108,
          392.448,
          317.624,
          289.074,
          26.88,
          1211.39,
          49.62,
          129.66400000000002,
          12.192,
          1968.923,
          637.1800000000001,
          98.35,
          1772.306,
          120.042,
          608.552,
          3492.364,
          1216.5059999999999,
          1309.4479999999999,
          492.2,
          12.7,
          762.833,
          5259.486,
          204.42600000000002,
          1459.68,
          6.628,
          266.52000000000004,
          1545.758,
          302.062,
          2909.234,
          839.43,
          1044.63,
          123.89,
          341.577,
          964.7999999999998,
          97.264,
          876.2489999999999,
          828.056,
          339.033,
          212.66,
          42.91,
          50.687999999999995,
          8459.936,
          35.730000000000004,
          1617.4629999999997,
          668.0619999999999,
          1058.7,
          299.892,
          263.01599999999996,
          147.63600000000002,
          890.28,
          92.562,
          2.91,
          1929.166,
          1237.8980000000001,
          173.444,
          137.94,
          248.82,
          160.776,
          536.336,
          1094.6779999999999,
          2840.6500000000005,
          4826.878,
          249.79,
          2.808,
          17.608,
          868.946,
          1657.308,
          1475.69,
          3813.1659999999997,
          742.4939999999999,
          5.16,
          327.666,
          14.82,
          171.288,
          1237.733,
          449.312,
          227.06599999999997,
          61.44
         ]
        }
       ],
       "layout": {
        "coloraxis": {
         "colorbar": {
          "title": {
           "text": "labels_5k"
          }
         },
         "colorscale": [
          [
           0,
           "#0d0887"
          ],
          [
           0.1111111111111111,
           "#46039f"
          ],
          [
           0.2222222222222222,
           "#7201a8"
          ],
          [
           0.3333333333333333,
           "#9c179e"
          ],
          [
           0.4444444444444444,
           "#bd3786"
          ],
          [
           0.5555555555555556,
           "#d8576b"
          ],
          [
           0.6666666666666666,
           "#ed7953"
          ],
          [
           0.7777777777777778,
           "#fb9f3a"
          ],
          [
           0.8888888888888888,
           "#fdca26"
          ],
          [
           1,
           "#f0f921"
          ]
         ]
        },
        "legend": {
         "tracegroupgap": 0
        },
        "margin": {
         "t": 60
        },
        "scene": {
         "domain": {
          "x": [
           0,
           1
          ],
          "y": [
           0,
           1
          ]
         },
         "xaxis": {
          "title": {
           "text": "Recency"
          }
         },
         "yaxis": {
          "title": {
           "text": "Frequency"
          }
         },
         "zaxis": {
          "title": {
           "text": "MonetaryValue"
          }
         }
        },
        "template": {
         "data": {
          "bar": [
           {
            "error_x": {
             "color": "#2a3f5f"
            },
            "error_y": {
             "color": "#2a3f5f"
            },
            "marker": {
             "line": {
              "color": "#E5ECF6",
              "width": 0.5
             },
             "pattern": {
              "fillmode": "overlay",
              "size": 10,
              "solidity": 0.2
             }
            },
            "type": "bar"
           }
          ],
          "barpolar": [
           {
            "marker": {
             "line": {
              "color": "#E5ECF6",
              "width": 0.5
             },
             "pattern": {
              "fillmode": "overlay",
              "size": 10,
              "solidity": 0.2
             }
            },
            "type": "barpolar"
           }
          ],
          "carpet": [
           {
            "aaxis": {
             "endlinecolor": "#2a3f5f",
             "gridcolor": "white",
             "linecolor": "white",
             "minorgridcolor": "white",
             "startlinecolor": "#2a3f5f"
            },
            "baxis": {
             "endlinecolor": "#2a3f5f",
             "gridcolor": "white",
             "linecolor": "white",
             "minorgridcolor": "white",
             "startlinecolor": "#2a3f5f"
            },
            "type": "carpet"
           }
          ],
          "choropleth": [
           {
            "colorbar": {
             "outlinewidth": 0,
             "ticks": ""
            },
            "type": "choropleth"
           }
          ],
          "contour": [
           {
            "colorbar": {
             "outlinewidth": 0,
             "ticks": ""
            },
            "colorscale": [
             [
              0,
              "#0d0887"
             ],
             [
              0.1111111111111111,
              "#46039f"
             ],
             [
              0.2222222222222222,
              "#7201a8"
             ],
             [
              0.3333333333333333,
              "#9c179e"
             ],
             [
              0.4444444444444444,
              "#bd3786"
             ],
             [
              0.5555555555555556,
              "#d8576b"
             ],
             [
              0.6666666666666666,
              "#ed7953"
             ],
             [
              0.7777777777777778,
              "#fb9f3a"
             ],
             [
              0.8888888888888888,
              "#fdca26"
             ],
             [
              1,
              "#f0f921"
             ]
            ],
            "type": "contour"
           }
          ],
          "contourcarpet": [
           {
            "colorbar": {
             "outlinewidth": 0,
             "ticks": ""
            },
            "type": "contourcarpet"
           }
          ],
          "heatmap": [
           {
            "colorbar": {
             "outlinewidth": 0,
             "ticks": ""
            },
            "colorscale": [
             [
              0,
              "#0d0887"
             ],
             [
              0.1111111111111111,
              "#46039f"
             ],
             [
              0.2222222222222222,
              "#7201a8"
             ],
             [
              0.3333333333333333,
              "#9c179e"
             ],
             [
              0.4444444444444444,
              "#bd3786"
             ],
             [
              0.5555555555555556,
              "#d8576b"
             ],
             [
              0.6666666666666666,
              "#ed7953"
             ],
             [
              0.7777777777777778,
              "#fb9f3a"
             ],
             [
              0.8888888888888888,
              "#fdca26"
             ],
             [
              1,
              "#f0f921"
             ]
            ],
            "type": "heatmap"
           }
          ],
          "heatmapgl": [
           {
            "colorbar": {
             "outlinewidth": 0,
             "ticks": ""
            },
            "colorscale": [
             [
              0,
              "#0d0887"
             ],
             [
              0.1111111111111111,
              "#46039f"
             ],
             [
              0.2222222222222222,
              "#7201a8"
             ],
             [
              0.3333333333333333,
              "#9c179e"
             ],
             [
              0.4444444444444444,
              "#bd3786"
             ],
             [
              0.5555555555555556,
              "#d8576b"
             ],
             [
              0.6666666666666666,
              "#ed7953"
             ],
             [
              0.7777777777777778,
              "#fb9f3a"
             ],
             [
              0.8888888888888888,
              "#fdca26"
             ],
             [
              1,
              "#f0f921"
             ]
            ],
            "type": "heatmapgl"
           }
          ],
          "histogram": [
           {
            "marker": {
             "pattern": {
              "fillmode": "overlay",
              "size": 10,
              "solidity": 0.2
             }
            },
            "type": "histogram"
           }
          ],
          "histogram2d": [
           {
            "colorbar": {
             "outlinewidth": 0,
             "ticks": ""
            },
            "colorscale": [
             [
              0,
              "#0d0887"
             ],
             [
              0.1111111111111111,
              "#46039f"
             ],
             [
              0.2222222222222222,
              "#7201a8"
             ],
             [
              0.3333333333333333,
              "#9c179e"
             ],
             [
              0.4444444444444444,
              "#bd3786"
             ],
             [
              0.5555555555555556,
              "#d8576b"
             ],
             [
              0.6666666666666666,
              "#ed7953"
             ],
             [
              0.7777777777777778,
              "#fb9f3a"
             ],
             [
              0.8888888888888888,
              "#fdca26"
             ],
             [
              1,
              "#f0f921"
             ]
            ],
            "type": "histogram2d"
           }
          ],
          "histogram2dcontour": [
           {
            "colorbar": {
             "outlinewidth": 0,
             "ticks": ""
            },
            "colorscale": [
             [
              0,
              "#0d0887"
             ],
             [
              0.1111111111111111,
              "#46039f"
             ],
             [
              0.2222222222222222,
              "#7201a8"
             ],
             [
              0.3333333333333333,
              "#9c179e"
             ],
             [
              0.4444444444444444,
              "#bd3786"
             ],
             [
              0.5555555555555556,
              "#d8576b"
             ],
             [
              0.6666666666666666,
              "#ed7953"
             ],
             [
              0.7777777777777778,
              "#fb9f3a"
             ],
             [
              0.8888888888888888,
              "#fdca26"
             ],
             [
              1,
              "#f0f921"
             ]
            ],
            "type": "histogram2dcontour"
           }
          ],
          "mesh3d": [
           {
            "colorbar": {
             "outlinewidth": 0,
             "ticks": ""
            },
            "type": "mesh3d"
           }
          ],
          "parcoords": [
           {
            "line": {
             "colorbar": {
              "outlinewidth": 0,
              "ticks": ""
             }
            },
            "type": "parcoords"
           }
          ],
          "pie": [
           {
            "automargin": true,
            "type": "pie"
           }
          ],
          "scatter": [
           {
            "marker": {
             "colorbar": {
              "outlinewidth": 0,
              "ticks": ""
             }
            },
            "type": "scatter"
           }
          ],
          "scatter3d": [
           {
            "line": {
             "colorbar": {
              "outlinewidth": 0,
              "ticks": ""
             }
            },
            "marker": {
             "colorbar": {
              "outlinewidth": 0,
              "ticks": ""
             }
            },
            "type": "scatter3d"
           }
          ],
          "scattercarpet": [
           {
            "marker": {
             "colorbar": {
              "outlinewidth": 0,
              "ticks": ""
             }
            },
            "type": "scattercarpet"
           }
          ],
          "scattergeo": [
           {
            "marker": {
             "colorbar": {
              "outlinewidth": 0,
              "ticks": ""
             }
            },
            "type": "scattergeo"
           }
          ],
          "scattergl": [
           {
            "marker": {
             "colorbar": {
              "outlinewidth": 0,
              "ticks": ""
             }
            },
            "type": "scattergl"
           }
          ],
          "scattermapbox": [
           {
            "marker": {
             "colorbar": {
              "outlinewidth": 0,
              "ticks": ""
             }
            },
            "type": "scattermapbox"
           }
          ],
          "scatterpolar": [
           {
            "marker": {
             "colorbar": {
              "outlinewidth": 0,
              "ticks": ""
             }
            },
            "type": "scatterpolar"
           }
          ],
          "scatterpolargl": [
           {
            "marker": {
             "colorbar": {
              "outlinewidth": 0,
              "ticks": ""
             }
            },
            "type": "scatterpolargl"
           }
          ],
          "scatterternary": [
           {
            "marker": {
             "colorbar": {
              "outlinewidth": 0,
              "ticks": ""
             }
            },
            "type": "scatterternary"
           }
          ],
          "surface": [
           {
            "colorbar": {
             "outlinewidth": 0,
             "ticks": ""
            },
            "colorscale": [
             [
              0,
              "#0d0887"
             ],
             [
              0.1111111111111111,
              "#46039f"
             ],
             [
              0.2222222222222222,
              "#7201a8"
             ],
             [
              0.3333333333333333,
              "#9c179e"
             ],
             [
              0.4444444444444444,
              "#bd3786"
             ],
             [
              0.5555555555555556,
              "#d8576b"
             ],
             [
              0.6666666666666666,
              "#ed7953"
             ],
             [
              0.7777777777777778,
              "#fb9f3a"
             ],
             [
              0.8888888888888888,
              "#fdca26"
             ],
             [
              1,
              "#f0f921"
             ]
            ],
            "type": "surface"
           }
          ],
          "table": [
           {
            "cells": {
             "fill": {
              "color": "#EBF0F8"
             },
             "line": {
              "color": "white"
             }
            },
            "header": {
             "fill": {
              "color": "#C8D4E3"
             },
             "line": {
              "color": "white"
             }
            },
            "type": "table"
           }
          ]
         },
         "layout": {
          "annotationdefaults": {
           "arrowcolor": "#2a3f5f",
           "arrowhead": 0,
           "arrowwidth": 1
          },
          "autotypenumbers": "strict",
          "coloraxis": {
           "colorbar": {
            "outlinewidth": 0,
            "ticks": ""
           }
          },
          "colorscale": {
           "diverging": [
            [
             0,
             "#8e0152"
            ],
            [
             0.1,
             "#c51b7d"
            ],
            [
             0.2,
             "#de77ae"
            ],
            [
             0.3,
             "#f1b6da"
            ],
            [
             0.4,
             "#fde0ef"
            ],
            [
             0.5,
             "#f7f7f7"
            ],
            [
             0.6,
             "#e6f5d0"
            ],
            [
             0.7,
             "#b8e186"
            ],
            [
             0.8,
             "#7fbc41"
            ],
            [
             0.9,
             "#4d9221"
            ],
            [
             1,
             "#276419"
            ]
           ],
           "sequential": [
            [
             0,
             "#0d0887"
            ],
            [
             0.1111111111111111,
             "#46039f"
            ],
            [
             0.2222222222222222,
             "#7201a8"
            ],
            [
             0.3333333333333333,
             "#9c179e"
            ],
            [
             0.4444444444444444,
             "#bd3786"
            ],
            [
             0.5555555555555556,
             "#d8576b"
            ],
            [
             0.6666666666666666,
             "#ed7953"
            ],
            [
             0.7777777777777778,
             "#fb9f3a"
            ],
            [
             0.8888888888888888,
             "#fdca26"
            ],
            [
             1,
             "#f0f921"
            ]
           ],
           "sequentialminus": [
            [
             0,
             "#0d0887"
            ],
            [
             0.1111111111111111,
             "#46039f"
            ],
            [
             0.2222222222222222,
             "#7201a8"
            ],
            [
             0.3333333333333333,
             "#9c179e"
            ],
            [
             0.4444444444444444,
             "#bd3786"
            ],
            [
             0.5555555555555556,
             "#d8576b"
            ],
            [
             0.6666666666666666,
             "#ed7953"
            ],
            [
             0.7777777777777778,
             "#fb9f3a"
            ],
            [
             0.8888888888888888,
             "#fdca26"
            ],
            [
             1,
             "#f0f921"
            ]
           ]
          },
          "colorway": [
           "#636efa",
           "#EF553B",
           "#00cc96",
           "#ab63fa",
           "#FFA15A",
           "#19d3f3",
           "#FF6692",
           "#B6E880",
           "#FF97FF",
           "#FECB52"
          ],
          "font": {
           "color": "#2a3f5f"
          },
          "geo": {
           "bgcolor": "white",
           "lakecolor": "white",
           "landcolor": "#E5ECF6",
           "showlakes": true,
           "showland": true,
           "subunitcolor": "white"
          },
          "hoverlabel": {
           "align": "left"
          },
          "hovermode": "closest",
          "mapbox": {
           "style": "light"
          },
          "paper_bgcolor": "white",
          "plot_bgcolor": "#E5ECF6",
          "polar": {
           "angularaxis": {
            "gridcolor": "white",
            "linecolor": "white",
            "ticks": ""
           },
           "bgcolor": "#E5ECF6",
           "radialaxis": {
            "gridcolor": "white",
            "linecolor": "white",
            "ticks": ""
           }
          },
          "scene": {
           "xaxis": {
            "backgroundcolor": "#E5ECF6",
            "gridcolor": "white",
            "gridwidth": 2,
            "linecolor": "white",
            "showbackground": true,
            "ticks": "",
            "zerolinecolor": "white"
           },
           "yaxis": {
            "backgroundcolor": "#E5ECF6",
            "gridcolor": "white",
            "gridwidth": 2,
            "linecolor": "white",
            "showbackground": true,
            "ticks": "",
            "zerolinecolor": "white"
           },
           "zaxis": {
            "backgroundcolor": "#E5ECF6",
            "gridcolor": "white",
            "gridwidth": 2,
            "linecolor": "white",
            "showbackground": true,
            "ticks": "",
            "zerolinecolor": "white"
           }
          },
          "shapedefaults": {
           "line": {
            "color": "#2a3f5f"
           }
          },
          "ternary": {
           "aaxis": {
            "gridcolor": "white",
            "linecolor": "white",
            "ticks": ""
           },
           "baxis": {
            "gridcolor": "white",
            "linecolor": "white",
            "ticks": ""
           },
           "bgcolor": "#E5ECF6",
           "caxis": {
            "gridcolor": "white",
            "linecolor": "white",
            "ticks": ""
           }
          },
          "title": {
           "x": 0.05
          },
          "xaxis": {
           "automargin": true,
           "gridcolor": "white",
           "linecolor": "white",
           "ticks": "",
           "title": {
            "standoff": 15
           },
           "zerolinecolor": "white",
           "zerolinewidth": 2
          },
          "yaxis": {
           "automargin": true,
           "gridcolor": "white",
           "linecolor": "white",
           "ticks": "",
           "title": {
            "standoff": 15
           },
           "zerolinecolor": "white",
           "zerolinewidth": 2
          }
         }
        }
       }
      },
      "text/html": [
       "<div>                            <div id=\"4d484191-e864-44ca-bc00-5c0e5a544fad\" class=\"plotly-graph-div\" style=\"height:525px; width:100%;\"></div>            <script type=\"text/javascript\">                require([\"plotly\"], function(Plotly) {                    window.PLOTLYENV=window.PLOTLYENV || {};                                    if (document.getElementById(\"4d484191-e864-44ca-bc00-5c0e5a544fad\")) {                    Plotly.newPlot(                        \"4d484191-e864-44ca-bc00-5c0e5a544fad\",                        [{\"hovertemplate\":\"Recency=%{x}<br>Frequency=%{y}<br>MonetaryValue=%{z}<br>labels_5k=%{marker.color}<extra></extra>\",\"legendgroup\":\"\",\"marker\":{\"color\":[4,3,0,0,1,3,1,2,4,1,0,2,0,5,5,2,5,3,2,5,0,5,5,0,2,1,0,2,3,4,1,1,4,4,3,1,5,5,3,1,5,1,3,4,0,3,4,5,3,2,2,3,4,0,1,5,1,3,0,1,3,1,3,1,1,5,1,0,1,1,1,5,5,2,1,2,1,4,5,1,2,3,4,5,5,2,2,5,3,2,1,3,3,3,1,3,1,1,0,0,1,0,1,4,5,1,5,1,5,5,4,4,0,5,1,5,0,4,1,4,3,0,2,1,5,5,1,3,5,2,3,4,3,1,5,4,1,3,3,2,5,3,3,1,2,1,5,1,4,4,1,1,0,4,1,0,5,4,4,1,1,1,5,5,2,5,4,2,2,5,1,3,4,1,4,5,1,2,5,1,1,1,0,3,5,1,4,2,4,1,2,1,4,4,3,2,1,1,3,3,1,5,0,1,2,5,2,3,3,5,3,4,5,3,2,3,3,3,3,0,1,1,1,0,1,2,1,5,1,5,5,1,1,5,1,4,5,2,1,1,4,0,4,4,3,1,3,3,4,4,1,1,4,0,3,1,5,4,2,0,5,3,4,4,5,1,1,5,2,2,2,1,5,3,2,3,5,4,1,3,3,0,1,5,1,4,3,0,5,3,3,0,1,4,4,1,3,3,1,1,5,5,0,1,1,5,5,0,4,2,5,1,3,4,5,1,1,4,2,1,5,5,0,0,1,0,2,5,1,5,5,4,5,5,0,1,1,1,4,4,4,5,5,2,1,4,0,0,2,1,5,1,5,0,5,0,4,1,1,1,0],\"coloraxis\":\"coloraxis\",\"symbol\":\"circle\"},\"mode\":\"markers\",\"name\":\"\",\"scene\":\"scene\",\"showlegend\":false,\"x\":[185,20,260,56,42,42,26,12,283,42,279,9,115,98,97,7,231,22,14,86,75,163,99,15,7,29,193,14,21,161,34,36,98,70,10,94,328,99,26,29,58,24,78,308,219,10,76,90,40,13,2,21,213,204,57,121,48,27,107,21,44,40,28,30,41,55,43,339,190,40,44,107,285,9,27,9,38,79,163,26,7,28,59,97,255,17,10,188,34,13,38,24,42,13,46,8,43,20,101,58,23,58,58,218,134,27,127,30,99,101,162,114,83,54,23,218,106,303,58,152,48,288,13,41,213,146,39,24,150,6,14,51,3,84,107,153,37,35,29,8,70,21,22,55,7,44,248,36,72,143,93,44,115,176,159,118,113,301,194,47,52,66,226,106,3,122,55,2,6,175,42,30,62,45,62,85,29,9,120,50,22,38,103,1,110,58,93,9,69,29,6,37,297,98,42,2,23,48,16,29,101,97,49,28,17,55,14,22,23,152,22,240,250,41,10,27,35,27,35,206,22,49,45,77,28,2,42,118,29,85,86,50,23,241,55,101,169,8,62,35,73,181,274,122,50,28,20,18,225,42,28,80,49,245,26,59,139,211,7,173,66,58,98,197,115,37,58,135,10,5,1,37,108,72,6,13,62,69,97,20,26,111,73,181,22,115,43,303,90,7,33,120,122,346,300,36,34,20,80,64,202,189,350,30,31,93,188,31,132,10,60,60,9,184,109,24,30,254,9,30,71,111,121,126,102,321,3,82,31,163,120,350,203,108,286,31,28,38,338,115,345,104,131,9,105,194,358,227,12,56,239,32,184,36,155,118,222,21,44,55,203],\"y\":[1,2,1,1,5,2,4,2,1,3,1,4,1,4,3,5,2,2,4,2,1,3,3,1,2,3,1,4,2,1,4,2,1,1,1,4,2,2,2,3,2,3,2,1,1,2,1,3,1,3,3,2,1,2,5,2,5,3,1,4,2,4,3,2,2,2,2,1,4,4,4,2,2,3,4,3,2,1,3,4,6,2,1,3,2,3,3,2,3,4,5,2,3,1,3,2,4,3,2,1,3,1,3,1,4,6,3,2,3,3,1,1,1,3,3,2,1,1,3,1,2,1,8,2,2,2,4,2,3,5,2,1,1,4,3,1,4,2,2,3,2,2,1,3,3,2,2,4,1,1,5,5,1,1,5,2,3,1,1,3,4,4,2,4,2,4,1,3,3,2,3,1,1,3,1,4,2,3,2,3,6,5,2,1,2,3,1,2,1,3,5,3,1,1,2,2,2,3,1,1,5,2,2,3,3,2,4,2,2,2,2,1,2,2,4,1,1,1,2,1,3,4,3,1,3,3,3,3,4,2,3,3,2,2,4,1,2,4,4,3,1,1,1,1,2,4,1,1,1,1,4,3,1,1,1,2,2,1,3,1,2,2,1,1,2,3,4,3,5,5,4,2,2,2,4,2,2,1,3,2,2,1,3,3,3,1,2,1,2,2,3,1,4,1,1,2,2,1,4,5,2,2,1,4,5,3,3,2,1,4,2,3,1,1,2,6,3,1,2,4,2,2,1,2,4,1,5,2,4,2,3,1,2,2,1,3,5,6,1,1,1,3,3,3,3,1,1,1,4,4,2,2,2,1,3,1,1,3,4,4,1],\"z\":[374.48,206.73200000000003,15.552,12.96,2291.044,230.656,416.27200000000005,3459.6,143.728,363.6,15.008,412.15200000000004,19.76,202.816,604.91,3300.64,577.4900000000001,255.22400000000002,581.634,648.0740000000001,10.64,2207.22,436.63,10.8,5820.58,841.36,59.176,514.98,606.232,121.536,613.864,3372.629,253.82399999999998,582.0699999999999,71.0,1113.87,245.552,520.216,258.28,698.2359999999999,546.68,583.774,68.32,356.79,23.08,127.41000000000001,124.75,73.675,70.98,943.191,506.62000000000006,101.36,324.744,28.576,1526.6572,651.6700000000001,1047.58,213.344,31.744,1939.696,227.88799999999998,800.6020000000001,113.832,1216.2435,1572.6280000000002,614.982,1205.5839999999998,18.16,5723.398,1578.6219999999996,872.5560000000002,1121.722,1823.336,1643.97,431.63400000000007,941.992,2271.7599999999998,904.9,46.64,561.538,1569.4619999999998,550.644,168.1,599.422,1252.5520000000001,1161.288,791.6700000000001,1023.0840000000001,192.62,922.244,2493.8860000000004,390.046,137.984,2888.518,1621.552,326.48,1258.4460000000001,520.406,18.294,75.9,521.5300000000001,41.37,1506.1090000000002,477.3,529.874,1190.676,242.522,1143.2330000000002,239.84799999999998,475.02600000000007,526.344,258.528,10.816,157.36,468.972,94.38,20.544,1219.7920000000001,513.29,186.54,41.546,23.832,1603.478,3121.352,1104.038,228.47199999999998,406.41999999999996,382.256,624.2040000000001,593.558,824.28,111.79,106.02080000000001,601.692,375.94399999999996,285.576,1196.8519999999999,112.91199999999999,721.7460000000001,582.1899999999999,879.256,45.272000000000006,43.85,713.3159999999999,372.06,10522.55,162.324,864.64,199.17,1645.87,5054.209000000001,595.6528000000001,47.94,1058.1080000000002,1622.0369999999998,50.784,229.25400000000002,375.71,201.262,836.016,1823.373,1372.062,412.75199999999995,379.56,1954.732,224.976,831.3680000000002,1608.31,253.60899999999998,422.894,279.347,376.09999999999997,1993.772,429.25,911.82,344.24199999999996,2854.578,1162.3159999999998,1007.232,2638.95,5301.62,2660.514,40.76,3.024,387.464,765.852,243.92,1824.1840000000002,863.88,1047.998,895.318,837.8880000000001,510.82399999999996,103.056,83.28,1840.1519999999998,4021.2350000000006,570.388,273.92600000000004,1271.1699999999998,318.8564,598.818,28.708,1315.0559999999998,1124.4360000000001,328.56,1269.856,650.6899999999999,256.75,280.856,315.286,120.783,121.55399999999999,227.71800000000002,2738.7870000000003,649.0,164.34,74.352,291.702,10.36,308.406,566.6959999999999,849.043,14.73,633.777,2105.2219999999998,845.862,1031.104,1607.8252,1415.606,530.73,1632.218,993.156,678.74,2008.53,151.96,484.56100000000004,242.996,1678.757,1867.3379999999997,91.275,24.0,127.46000000000001,193.95,335.38,1081.922,63.339999999999996,31.44,891.53,1729.286,1094.865,1782.0960000000002,779.1600000000001,5.76,92.94,2353.94,454.368,1111.6979999999999,2048.639,30.32,692.19,71.676,199.8,169.28,569.2220000000001,366.99,780.25,1432.586,5979.1359999999995,5308.107,1139.462,1527.9299999999998,1079.9589999999998,61.936,1290.69,514.673,467.74199999999996,337.81800000000004,14203.277999999998,821.8900000000001,229.394,34.504,2172.196,261.108,392.448,317.624,289.074,26.88,1211.39,49.62,129.66400000000002,12.192,1968.923,637.1800000000001,98.35,1772.306,120.042,608.552,3492.364,1216.5059999999999,1309.4479999999999,492.2,12.7,762.833,5259.486,204.42600000000002,1459.68,6.628,266.52000000000004,1545.758,302.062,2909.234,839.43,1044.63,123.89,341.577,964.7999999999998,97.264,876.2489999999999,828.056,339.033,212.66,42.91,50.687999999999995,8459.936,35.730000000000004,1617.4629999999997,668.0619999999999,1058.7,299.892,263.01599999999996,147.63600000000002,890.28,92.562,2.91,1929.166,1237.8980000000001,173.444,137.94,248.82,160.776,536.336,1094.6779999999999,2840.6500000000005,4826.878,249.79,2.808,17.608,868.946,1657.308,1475.69,3813.1659999999997,742.4939999999999,5.16,327.666,14.82,171.288,1237.733,449.312,227.06599999999997,61.44],\"type\":\"scatter3d\"}],                        {\"template\":{\"data\":{\"bar\":[{\"error_x\":{\"color\":\"#2a3f5f\"},\"error_y\":{\"color\":\"#2a3f5f\"},\"marker\":{\"line\":{\"color\":\"#E5ECF6\",\"width\":0.5},\"pattern\":{\"fillmode\":\"overlay\",\"size\":10,\"solidity\":0.2}},\"type\":\"bar\"}],\"barpolar\":[{\"marker\":{\"line\":{\"color\":\"#E5ECF6\",\"width\":0.5},\"pattern\":{\"fillmode\":\"overlay\",\"size\":10,\"solidity\":0.2}},\"type\":\"barpolar\"}],\"carpet\":[{\"aaxis\":{\"endlinecolor\":\"#2a3f5f\",\"gridcolor\":\"white\",\"linecolor\":\"white\",\"minorgridcolor\":\"white\",\"startlinecolor\":\"#2a3f5f\"},\"baxis\":{\"endlinecolor\":\"#2a3f5f\",\"gridcolor\":\"white\",\"linecolor\":\"white\",\"minorgridcolor\":\"white\",\"startlinecolor\":\"#2a3f5f\"},\"type\":\"carpet\"}],\"choropleth\":[{\"colorbar\":{\"outlinewidth\":0,\"ticks\":\"\"},\"type\":\"choropleth\"}],\"contour\":[{\"colorbar\":{\"outlinewidth\":0,\"ticks\":\"\"},\"colorscale\":[[0.0,\"#0d0887\"],[0.1111111111111111,\"#46039f\"],[0.2222222222222222,\"#7201a8\"],[0.3333333333333333,\"#9c179e\"],[0.4444444444444444,\"#bd3786\"],[0.5555555555555556,\"#d8576b\"],[0.6666666666666666,\"#ed7953\"],[0.7777777777777778,\"#fb9f3a\"],[0.8888888888888888,\"#fdca26\"],[1.0,\"#f0f921\"]],\"type\":\"contour\"}],\"contourcarpet\":[{\"colorbar\":{\"outlinewidth\":0,\"ticks\":\"\"},\"type\":\"contourcarpet\"}],\"heatmap\":[{\"colorbar\":{\"outlinewidth\":0,\"ticks\":\"\"},\"colorscale\":[[0.0,\"#0d0887\"],[0.1111111111111111,\"#46039f\"],[0.2222222222222222,\"#7201a8\"],[0.3333333333333333,\"#9c179e\"],[0.4444444444444444,\"#bd3786\"],[0.5555555555555556,\"#d8576b\"],[0.6666666666666666,\"#ed7953\"],[0.7777777777777778,\"#fb9f3a\"],[0.8888888888888888,\"#fdca26\"],[1.0,\"#f0f921\"]],\"type\":\"heatmap\"}],\"heatmapgl\":[{\"colorbar\":{\"outlinewidth\":0,\"ticks\":\"\"},\"colorscale\":[[0.0,\"#0d0887\"],[0.1111111111111111,\"#46039f\"],[0.2222222222222222,\"#7201a8\"],[0.3333333333333333,\"#9c179e\"],[0.4444444444444444,\"#bd3786\"],[0.5555555555555556,\"#d8576b\"],[0.6666666666666666,\"#ed7953\"],[0.7777777777777778,\"#fb9f3a\"],[0.8888888888888888,\"#fdca26\"],[1.0,\"#f0f921\"]],\"type\":\"heatmapgl\"}],\"histogram\":[{\"marker\":{\"pattern\":{\"fillmode\":\"overlay\",\"size\":10,\"solidity\":0.2}},\"type\":\"histogram\"}],\"histogram2d\":[{\"colorbar\":{\"outlinewidth\":0,\"ticks\":\"\"},\"colorscale\":[[0.0,\"#0d0887\"],[0.1111111111111111,\"#46039f\"],[0.2222222222222222,\"#7201a8\"],[0.3333333333333333,\"#9c179e\"],[0.4444444444444444,\"#bd3786\"],[0.5555555555555556,\"#d8576b\"],[0.6666666666666666,\"#ed7953\"],[0.7777777777777778,\"#fb9f3a\"],[0.8888888888888888,\"#fdca26\"],[1.0,\"#f0f921\"]],\"type\":\"histogram2d\"}],\"histogram2dcontour\":[{\"colorbar\":{\"outlinewidth\":0,\"ticks\":\"\"},\"colorscale\":[[0.0,\"#0d0887\"],[0.1111111111111111,\"#46039f\"],[0.2222222222222222,\"#7201a8\"],[0.3333333333333333,\"#9c179e\"],[0.4444444444444444,\"#bd3786\"],[0.5555555555555556,\"#d8576b\"],[0.6666666666666666,\"#ed7953\"],[0.7777777777777778,\"#fb9f3a\"],[0.8888888888888888,\"#fdca26\"],[1.0,\"#f0f921\"]],\"type\":\"histogram2dcontour\"}],\"mesh3d\":[{\"colorbar\":{\"outlinewidth\":0,\"ticks\":\"\"},\"type\":\"mesh3d\"}],\"parcoords\":[{\"line\":{\"colorbar\":{\"outlinewidth\":0,\"ticks\":\"\"}},\"type\":\"parcoords\"}],\"pie\":[{\"automargin\":true,\"type\":\"pie\"}],\"scatter\":[{\"marker\":{\"colorbar\":{\"outlinewidth\":0,\"ticks\":\"\"}},\"type\":\"scatter\"}],\"scatter3d\":[{\"line\":{\"colorbar\":{\"outlinewidth\":0,\"ticks\":\"\"}},\"marker\":{\"colorbar\":{\"outlinewidth\":0,\"ticks\":\"\"}},\"type\":\"scatter3d\"}],\"scattercarpet\":[{\"marker\":{\"colorbar\":{\"outlinewidth\":0,\"ticks\":\"\"}},\"type\":\"scattercarpet\"}],\"scattergeo\":[{\"marker\":{\"colorbar\":{\"outlinewidth\":0,\"ticks\":\"\"}},\"type\":\"scattergeo\"}],\"scattergl\":[{\"marker\":{\"colorbar\":{\"outlinewidth\":0,\"ticks\":\"\"}},\"type\":\"scattergl\"}],\"scattermapbox\":[{\"marker\":{\"colorbar\":{\"outlinewidth\":0,\"ticks\":\"\"}},\"type\":\"scattermapbox\"}],\"scatterpolar\":[{\"marker\":{\"colorbar\":{\"outlinewidth\":0,\"ticks\":\"\"}},\"type\":\"scatterpolar\"}],\"scatterpolargl\":[{\"marker\":{\"colorbar\":{\"outlinewidth\":0,\"ticks\":\"\"}},\"type\":\"scatterpolargl\"}],\"scatterternary\":[{\"marker\":{\"colorbar\":{\"outlinewidth\":0,\"ticks\":\"\"}},\"type\":\"scatterternary\"}],\"surface\":[{\"colorbar\":{\"outlinewidth\":0,\"ticks\":\"\"},\"colorscale\":[[0.0,\"#0d0887\"],[0.1111111111111111,\"#46039f\"],[0.2222222222222222,\"#7201a8\"],[0.3333333333333333,\"#9c179e\"],[0.4444444444444444,\"#bd3786\"],[0.5555555555555556,\"#d8576b\"],[0.6666666666666666,\"#ed7953\"],[0.7777777777777778,\"#fb9f3a\"],[0.8888888888888888,\"#fdca26\"],[1.0,\"#f0f921\"]],\"type\":\"surface\"}],\"table\":[{\"cells\":{\"fill\":{\"color\":\"#EBF0F8\"},\"line\":{\"color\":\"white\"}},\"header\":{\"fill\":{\"color\":\"#C8D4E3\"},\"line\":{\"color\":\"white\"}},\"type\":\"table\"}]},\"layout\":{\"annotationdefaults\":{\"arrowcolor\":\"#2a3f5f\",\"arrowhead\":0,\"arrowwidth\":1},\"autotypenumbers\":\"strict\",\"coloraxis\":{\"colorbar\":{\"outlinewidth\":0,\"ticks\":\"\"}},\"colorscale\":{\"diverging\":[[0,\"#8e0152\"],[0.1,\"#c51b7d\"],[0.2,\"#de77ae\"],[0.3,\"#f1b6da\"],[0.4,\"#fde0ef\"],[0.5,\"#f7f7f7\"],[0.6,\"#e6f5d0\"],[0.7,\"#b8e186\"],[0.8,\"#7fbc41\"],[0.9,\"#4d9221\"],[1,\"#276419\"]],\"sequential\":[[0.0,\"#0d0887\"],[0.1111111111111111,\"#46039f\"],[0.2222222222222222,\"#7201a8\"],[0.3333333333333333,\"#9c179e\"],[0.4444444444444444,\"#bd3786\"],[0.5555555555555556,\"#d8576b\"],[0.6666666666666666,\"#ed7953\"],[0.7777777777777778,\"#fb9f3a\"],[0.8888888888888888,\"#fdca26\"],[1.0,\"#f0f921\"]],\"sequentialminus\":[[0.0,\"#0d0887\"],[0.1111111111111111,\"#46039f\"],[0.2222222222222222,\"#7201a8\"],[0.3333333333333333,\"#9c179e\"],[0.4444444444444444,\"#bd3786\"],[0.5555555555555556,\"#d8576b\"],[0.6666666666666666,\"#ed7953\"],[0.7777777777777778,\"#fb9f3a\"],[0.8888888888888888,\"#fdca26\"],[1.0,\"#f0f921\"]]},\"colorway\":[\"#636efa\",\"#EF553B\",\"#00cc96\",\"#ab63fa\",\"#FFA15A\",\"#19d3f3\",\"#FF6692\",\"#B6E880\",\"#FF97FF\",\"#FECB52\"],\"font\":{\"color\":\"#2a3f5f\"},\"geo\":{\"bgcolor\":\"white\",\"lakecolor\":\"white\",\"landcolor\":\"#E5ECF6\",\"showlakes\":true,\"showland\":true,\"subunitcolor\":\"white\"},\"hoverlabel\":{\"align\":\"left\"},\"hovermode\":\"closest\",\"mapbox\":{\"style\":\"light\"},\"paper_bgcolor\":\"white\",\"plot_bgcolor\":\"#E5ECF6\",\"polar\":{\"angularaxis\":{\"gridcolor\":\"white\",\"linecolor\":\"white\",\"ticks\":\"\"},\"bgcolor\":\"#E5ECF6\",\"radialaxis\":{\"gridcolor\":\"white\",\"linecolor\":\"white\",\"ticks\":\"\"}},\"scene\":{\"xaxis\":{\"backgroundcolor\":\"#E5ECF6\",\"gridcolor\":\"white\",\"gridwidth\":2,\"linecolor\":\"white\",\"showbackground\":true,\"ticks\":\"\",\"zerolinecolor\":\"white\"},\"yaxis\":{\"backgroundcolor\":\"#E5ECF6\",\"gridcolor\":\"white\",\"gridwidth\":2,\"linecolor\":\"white\",\"showbackground\":true,\"ticks\":\"\",\"zerolinecolor\":\"white\"},\"zaxis\":{\"backgroundcolor\":\"#E5ECF6\",\"gridcolor\":\"white\",\"gridwidth\":2,\"linecolor\":\"white\",\"showbackground\":true,\"ticks\":\"\",\"zerolinecolor\":\"white\"}},\"shapedefaults\":{\"line\":{\"color\":\"#2a3f5f\"}},\"ternary\":{\"aaxis\":{\"gridcolor\":\"white\",\"linecolor\":\"white\",\"ticks\":\"\"},\"baxis\":{\"gridcolor\":\"white\",\"linecolor\":\"white\",\"ticks\":\"\"},\"bgcolor\":\"#E5ECF6\",\"caxis\":{\"gridcolor\":\"white\",\"linecolor\":\"white\",\"ticks\":\"\"}},\"title\":{\"x\":0.05},\"xaxis\":{\"automargin\":true,\"gridcolor\":\"white\",\"linecolor\":\"white\",\"ticks\":\"\",\"title\":{\"standoff\":15},\"zerolinecolor\":\"white\",\"zerolinewidth\":2},\"yaxis\":{\"automargin\":true,\"gridcolor\":\"white\",\"linecolor\":\"white\",\"ticks\":\"\",\"title\":{\"standoff\":15},\"zerolinecolor\":\"white\",\"zerolinewidth\":2}}},\"scene\":{\"domain\":{\"x\":[0.0,1.0],\"y\":[0.0,1.0]},\"xaxis\":{\"title\":{\"text\":\"Recency\"}},\"yaxis\":{\"title\":{\"text\":\"Frequency\"}},\"zaxis\":{\"title\":{\"text\":\"MonetaryValue\"}}},\"coloraxis\":{\"colorbar\":{\"title\":{\"text\":\"labels_5k\"}},\"colorscale\":[[0.0,\"#0d0887\"],[0.1111111111111111,\"#46039f\"],[0.2222222222222222,\"#7201a8\"],[0.3333333333333333,\"#9c179e\"],[0.4444444444444444,\"#bd3786\"],[0.5555555555555556,\"#d8576b\"],[0.6666666666666666,\"#ed7953\"],[0.7777777777777778,\"#fb9f3a\"],[0.8888888888888888,\"#fdca26\"],[1.0,\"#f0f921\"]]},\"legend\":{\"tracegroupgap\":0},\"margin\":{\"t\":60}},                        {\"responsive\": true}                    ).then(function(){\n",
       "                            \n",
       "var gd = document.getElementById('4d484191-e864-44ca-bc00-5c0e5a544fad');\n",
       "var x = new MutationObserver(function (mutations, observer) {{\n",
       "        var display = window.getComputedStyle(gd).display;\n",
       "        if (!display || display === 'none') {{\n",
       "            console.log([gd, 'removed!']);\n",
       "            Plotly.purge(gd);\n",
       "            observer.disconnect();\n",
       "        }}\n",
       "}});\n",
       "\n",
       "// Listen for the removal of the full notebook cells\n",
       "var notebookContainer = gd.closest('#notebook-container');\n",
       "if (notebookContainer) {{\n",
       "    x.observe(notebookContainer, {childList: true});\n",
       "}}\n",
       "\n",
       "// Listen for the clearing of the current output cell\n",
       "var outputEl = gd.closest('.output');\n",
       "if (outputEl) {{\n",
       "    x.observe(outputEl, {childList: true});\n",
       "}}\n",
       "\n",
       "                        })                };                });            </script>        </div>"
      ]
     },
     "metadata": {},
     "output_type": "display_data"
    }
   ],
   "source": [
    "fig = px.scatter_3d(consumerData, x=\"Recency\", y=\"Frequency\",z=\"MonetaryValue\", color=\"labels_5k\")\n",
    "#fig.write_html(\"scater_3d.html\")\n",
    "fig.show()"
   ]
  },
  {
   "cell_type": "markdown",
   "id": "c725cfff",
   "metadata": {
    "cell_id": "00024-58cce60d-bfc7-4b47-8758-cb25bc23344b",
    "deepnote_cell_height": 70,
    "deepnote_cell_type": "markdown"
   },
   "source": [
    "## Hierarchical Clustering"
   ]
  },
  {
   "cell_type": "code",
   "execution_count": 42,
   "id": "6e3848b1",
   "metadata": {
    "cell_id": "00025-a3939b7b-938e-4026-9574-a8acdab6d1c0",
    "deepnote_cell_height": 99,
    "deepnote_cell_type": "code",
    "deepnote_to_be_reexecuted": true,
    "execution_millis": 11,
    "execution_start": 1655069767245,
    "source_hash": "c291d33b"
   },
   "outputs": [],
   "source": [
    "# Modelo de segmentación jerárquica\n",
    "hierarchy_model = linkage(scaled_features, method='ward')"
   ]
  },
  {
   "cell_type": "code",
   "execution_count": 43,
   "id": "ae338d56",
   "metadata": {
    "cell_id": "00026-1bc28cff-73b8-45f6-aae5-c6bdf1d18c0a",
    "deepnote_cell_height": 565.4000244140625,
    "deepnote_cell_type": "code",
    "deepnote_output_heights": [
     330,
     332
    ],
    "deepnote_to_be_reexecuted": true,
    "execution_millis": 24264,
    "execution_start": 1655069767288,
    "scrolled": true,
    "source_hash": "e9a8181f"
   },
   "outputs": [
    {
     "data": {
      "image/png": "[encoded data removed]",
      "text/plain": [
       "<Figure size 576x396 with 1 Axes>"
      ]
     },
     "metadata": {},
     "output_type": "display_data"
    }
   ],
   "source": [
    "# Dendrograma\n",
    "drendogram = dendrogram(hierarchy_model)\n",
    "\n",
    "# Visualización del dendrograma\n",
    "plt.show()"
   ]
  },
  {
   "cell_type": "code",
   "execution_count": 44,
   "id": "328df732",
   "metadata": {
    "cell_id": "00027-d86430a7-03ec-4efc-ac5b-f67375e8e80d",
    "deepnote_cell_height": 652,
    "deepnote_cell_type": "code",
    "deepnote_output_heights": [
     235
    ],
    "deepnote_to_be_reexecuted": true,
    "execution_millis": 94,
    "execution_start": 1655069833044,
    "source_hash": "e42cacb5"
   },
   "outputs": [
    {
     "data": {
      "text/html": [
       "<div>\n",
       "<style scoped>\n",
       "    .dataframe tbody tr th:only-of-type {\n",
       "        vertical-align: middle;\n",
       "    }\n",
       "\n",
       "    .dataframe tbody tr th {\n",
       "        vertical-align: top;\n",
       "    }\n",
       "\n",
       "    .dataframe thead tr th {\n",
       "        text-align: left;\n",
       "    }\n",
       "\n",
       "    .dataframe thead tr:last-of-type th {\n",
       "        text-align: right;\n",
       "    }\n",
       "</style>\n",
       "<table border=\"1\" class=\"dataframe\">\n",
       "  <thead>\n",
       "    <tr>\n",
       "      <th></th>\n",
       "      <th>Recency</th>\n",
       "      <th>Frequency</th>\n",
       "      <th colspan=\"2\" halign=\"left\">MonetaryValue</th>\n",
       "    </tr>\n",
       "    <tr>\n",
       "      <th></th>\n",
       "      <th>mean</th>\n",
       "      <th>mean</th>\n",
       "      <th>mean</th>\n",
       "      <th>count</th>\n",
       "    </tr>\n",
       "    <tr>\n",
       "      <th>labels_H</th>\n",
       "      <th></th>\n",
       "      <th></th>\n",
       "      <th></th>\n",
       "      <th></th>\n",
       "    </tr>\n",
       "  </thead>\n",
       "  <tbody>\n",
       "    <tr>\n",
       "      <th>1</th>\n",
       "      <td>190.090</td>\n",
       "      <td>1.000</td>\n",
       "      <td>366.670</td>\n",
       "      <td>44</td>\n",
       "    </tr>\n",
       "    <tr>\n",
       "      <th>2</th>\n",
       "      <td>127.310</td>\n",
       "      <td>1.080</td>\n",
       "      <td>44.490</td>\n",
       "      <td>48</td>\n",
       "    </tr>\n",
       "    <tr>\n",
       "      <th>3</th>\n",
       "      <td>7.820</td>\n",
       "      <td>3.850</td>\n",
       "      <td>1529.120</td>\n",
       "      <td>34</td>\n",
       "    </tr>\n",
       "    <tr>\n",
       "      <th>4</th>\n",
       "      <td>52.920</td>\n",
       "      <td>3.730</td>\n",
       "      <td>1617.850</td>\n",
       "      <td>89</td>\n",
       "    </tr>\n",
       "    <tr>\n",
       "      <th>5</th>\n",
       "      <td>33.120</td>\n",
       "      <td>1.630</td>\n",
       "      <td>1803.320</td>\n",
       "      <td>41</td>\n",
       "    </tr>\n",
       "    <tr>\n",
       "      <th>6</th>\n",
       "      <td>106.910</td>\n",
       "      <td>2.380</td>\n",
       "      <td>416.400</td>\n",
       "      <td>105</td>\n",
       "    </tr>\n",
       "  </tbody>\n",
       "</table>\n",
       "</div>"
      ],
      "text/plain": [
       "         Recency Frequency MonetaryValue      \n",
       "            mean      mean          mean count\n",
       "labels_H                                      \n",
       "1        190.090     1.000       366.670    44\n",
       "2        127.310     1.080        44.490    48\n",
       "3          7.820     3.850      1529.120    34\n",
       "4         52.920     3.730      1617.850    89\n",
       "5         33.120     1.630      1803.320    41\n",
       "6        106.910     2.380       416.400   105"
      ]
     },
     "execution_count": 44,
     "metadata": {},
     "output_type": "execute_result"
    }
   ],
   "source": [
    "# Punto de corte\n",
    "cluster_labels = fcluster(hierarchy_model, 11, criterion='distance')\n",
    "\n",
    "hierarchicalData = consumerData.copy()\n",
    "\n",
    "# Asignación de las etiquetas de clusters a los datos\n",
    "hierarchicalData['labels_H'] = cluster_labels\n",
    "\n",
    "hierarchicalData.groupby('labels_H').agg({'Recency':'mean',\n",
    "                                                   'Frequency':'mean',\n",
    "                                                   'MonetaryValue':['mean','count']}).round(2)\n",
    "\n"
   ]
  },
  {
   "cell_type": "code",
   "execution_count": 45,
   "id": "26acea6a",
   "metadata": {
    "cell_id": "1575cc5f27c94ecc99741b6a66967a84",
    "deepnote_cell_height": 675,
    "deepnote_cell_type": "code",
    "deepnote_output_heights": [
     416,
     416
    ],
    "deepnote_to_be_reexecuted": true,
    "execution_millis": 1767,
    "execution_start": 1655069840823,
    "source_hash": "181f7156",
    "tags": []
   },
   "outputs": [
    {
     "data": {
      "image/png": "[encoded data removed]",
      "text/plain": [
       "<Figure size 1296x432 with 3 Axes>"
      ]
     },
     "metadata": {},
     "output_type": "display_data"
    }
   ],
   "source": [
    "fig, ax = plt.subplots(1,3, figsize=(18,6))\n",
    "plt.suptitle(\"Hierarchical Clustering: Distribución de Variables (5 Clústers)\", fontweight='bold')\n",
    "\n",
    "for i, col in enumerate(hierarchicalData.columns[0:3]):\n",
    "    ax[i].set_title(col)\n",
    "    sns.boxplot(x=hierarchicalData.labels_H, y=hierarchicalData[col], ax=ax[i])\n",
    "    ax[i].set_xlabel(\"Cluster Labels\")\n",
    "\n",
    "plt.subplots_adjust(wspace=.3) \n",
    "plt.show()"
   ]
  },
  {
   "cell_type": "code",
   "execution_count": 46,
   "id": "cd08e742",
   "metadata": {
    "cell_id": "b7f791a582194199a9bb6bf998b44d3e",
    "deepnote_cell_height": 642,
    "deepnote_cell_type": "code",
    "deepnote_output_heights": [
     527
    ],
    "deepnote_to_be_reexecuted": true,
    "execution_millis": 273,
    "execution_start": 1655069793753,
    "source_hash": "7ec19be2",
    "tags": []
   },
   "outputs": [
    {
     "data": {
      "application/vnd.plotly.v1+json": {
       "config": {
        "plotlyServerURL": "https://plot.ly"
       },
       "data": [
        {
         "hovertemplate": "Recency=%{x}<br>Frequency=%{y}<br>MonetaryValue=%{z}<br>labels_H=%{marker.color}<extra></extra>",
         "legendgroup": "",
         "marker": {
          "color": [
           1,
           6,
           2,
           2,
           4,
           6,
           4,
           5,
           1,
           4,
           2,
           3,
           2,
           6,
           6,
           3,
           6,
           6,
           3,
           6,
           2,
           4,
           6,
           2,
           5,
           4,
           2,
           3,
           5,
           1,
           4,
           5,
           1,
           5,
           2,
           4,
           6,
           6,
           6,
           4,
           6,
           4,
           6,
           1,
           2,
           2,
           1,
           6,
           2,
           3,
           3,
           6,
           1,
           6,
           4,
           6,
           4,
           6,
           2,
           4,
           6,
           4,
           6,
           5,
           5,
           6,
           5,
           2,
           4,
           4,
           4,
           6,
           6,
           3,
           4,
           3,
           5,
           5,
           6,
           4,
           3,
           5,
           1,
           6,
           6,
           4,
           3,
           6,
           6,
           3,
           4,
           6,
           6,
           5,
           4,
           2,
           4,
           4,
           6,
           2,
           4,
           2,
           4,
           1,
           6,
           4,
           6,
           5,
           6,
           6,
           1,
           1,
           2,
           6,
           4,
           6,
           2,
           1,
           4,
           1,
           6,
           2,
           3,
           5,
           6,
           6,
           4,
           6,
           6,
           3,
           5,
           2,
           2,
           6,
           6,
           1,
           4,
           6,
           5,
           3,
           6,
           6,
           2,
           4,
           3,
           5,
           6,
           4,
           1,
           1,
           4,
           4,
           2,
           1,
           4,
           6,
           6,
           1,
           1,
           4,
           4,
           4,
           6,
           6,
           3,
           6,
           5,
           3,
           3,
           6,
           4,
           5,
           5,
           4,
           5,
           6,
           5,
           3,
           6,
           4,
           4,
           4,
           6,
           2,
           6,
           4,
           1,
           5,
           5,
           4,
           3,
           4,
           1,
           1,
           6,
           3,
           5,
           4,
           5,
           5,
           6,
           6,
           6,
           4,
           4,
           6,
           3,
           5,
           6,
           6,
           6,
           1,
           6,
           6,
           3,
           5,
           2,
           2,
           6,
           2,
           4,
           4,
           4,
           2,
           4,
           3,
           4,
           4,
           4,
           6,
           6,
           4,
           5,
           6,
           4,
           1,
           6,
           3,
           4,
           4,
           1,
           2,
           1,
           1,
           6,
           4,
           2,
           2,
           1,
           5,
           4,
           4,
           5,
           2,
           2,
           5,
           6,
           1,
           3,
           2,
           6,
           6,
           1,
           1,
           6,
           4,
           4,
           4,
           3,
           3,
           3,
           5,
           6,
           6,
           3,
           5,
           6,
           1,
           4,
           5,
           6,
           2,
           4,
           6,
           4,
           1,
           6,
           2,
           6,
           2,
           6,
           2,
           4,
           1,
           1,
           5,
           6,
           5,
           4,
           4,
           6,
           6,
           2,
           4,
           4,
           6,
           4,
           2,
           1,
           3,
           6,
           4,
           5,
           1,
           6,
           4,
           4,
           1,
           5,
           4,
           6,
           6,
           2,
           6,
           4,
           2,
           3,
           6,
           4,
           6,
           6,
           1,
           6,
           6,
           2,
           4,
           4,
           4,
           1,
           1,
           1,
           6,
           4,
           3,
           4,
           1,
           2,
           2,
           3,
           4,
           6,
           5,
           6,
           2,
           6,
           2,
           1,
           4,
           4,
           6,
           2
          ],
          "coloraxis": "coloraxis",
          "symbol": "circle"
         },
         "mode": "markers",
         "name": "",
         "scene": "scene",
         "showlegend": false,
         "type": "scatter3d",
         "x": [
          185,
          20,
          260,
          56,
          42,
          42,
          26,
          12,
          283,
          42,
          279,
          9,
          115,
          98,
          97,
          7,
          231,
          22,
          14,
          86,
          75,
          163,
          99,
          15,
          7,
          29,
          193,
          14,
          21,
          161,
          34,
          36,
          98,
          70,
          10,
          94,
          328,
          99,
          26,
          29,
          58,
          24,
          78,
          308,
          219,
          10,
          76,
          90,
          40,
          13,
          2,
          21,
          213,
          204,
          57,
          121,
          48,
          27,
          107,
          21,
          44,
          40,
          28,
          30,
          41,
          55,
          43,
          339,
          190,
          40,
          44,
          107,
          285,
          9,
          27,
          9,
          38,
          79,
          163,
          26,
          7,
          28,
          59,
          97,
          255,
          17,
          10,
          188,
          34,
          13,
          38,
          24,
          42,
          13,
          46,
          8,
          43,
          20,
          101,
          58,
          23,
          58,
          58,
          218,
          134,
          27,
          127,
          30,
          99,
          101,
          162,
          114,
          83,
          54,
          23,
          218,
          106,
          303,
          58,
          152,
          48,
          288,
          13,
          41,
          213,
          146,
          39,
          24,
          150,
          6,
          14,
          51,
          3,
          84,
          107,
          153,
          37,
          35,
          29,
          8,
          70,
          21,
          22,
          55,
          7,
          44,
          248,
          36,
          72,
          143,
          93,
          44,
          115,
          176,
          159,
          118,
          113,
          301,
          194,
          47,
          52,
          66,
          226,
          106,
          3,
          122,
          55,
          2,
          6,
          175,
          42,
          30,
          62,
          45,
          62,
          85,
          29,
          9,
          120,
          50,
          22,
          38,
          103,
          1,
          110,
          58,
          93,
          9,
          69,
          29,
          6,
          37,
          297,
          98,
          42,
          2,
          23,
          48,
          16,
          29,
          101,
          97,
          49,
          28,
          17,
          55,
          14,
          22,
          23,
          152,
          22,
          240,
          250,
          41,
          10,
          27,
          35,
          27,
          35,
          206,
          22,
          49,
          45,
          77,
          28,
          2,
          42,
          118,
          29,
          85,
          86,
          50,
          23,
          241,
          55,
          101,
          169,
          8,
          62,
          35,
          73,
          181,
          274,
          122,
          50,
          28,
          20,
          18,
          225,
          42,
          28,
          80,
          49,
          245,
          26,
          59,
          139,
          211,
          7,
          173,
          66,
          58,
          98,
          197,
          115,
          37,
          58,
          135,
          10,
          5,
          1,
          37,
          108,
          72,
          6,
          13,
          62,
          69,
          97,
          20,
          26,
          111,
          73,
          181,
          22,
          115,
          43,
          303,
          90,
          7,
          33,
          120,
          122,
          346,
          300,
          36,
          34,
          20,
          80,
          64,
          202,
          189,
          350,
          30,
          31,
          93,
          188,
          31,
          132,
          10,
          60,
          60,
          9,
          184,
          109,
          24,
          30,
          254,
          9,
          30,
          71,
          111,
          121,
          126,
          102,
          321,
          3,
          82,
          31,
          163,
          120,
          350,
          203,
          108,
          286,
          31,
          28,
          38,
          338,
          115,
          345,
          104,
          131,
          9,
          105,
          194,
          358,
          227,
          12,
          56,
          239,
          32,
          184,
          36,
          155,
          118,
          222,
          21,
          44,
          55,
          203
         ],
         "y": [
          1,
          2,
          1,
          1,
          5,
          2,
          4,
          2,
          1,
          3,
          1,
          4,
          1,
          4,
          3,
          5,
          2,
          2,
          4,
          2,
          1,
          3,
          3,
          1,
          2,
          3,
          1,
          4,
          2,
          1,
          4,
          2,
          1,
          1,
          1,
          4,
          2,
          2,
          2,
          3,
          2,
          3,
          2,
          1,
          1,
          2,
          1,
          3,
          1,
          3,
          3,
          2,
          1,
          2,
          5,
          2,
          5,
          3,
          1,
          4,
          2,
          4,
          3,
          2,
          2,
          2,
          2,
          1,
          4,
          4,
          4,
          2,
          2,
          3,
          4,
          3,
          2,
          1,
          3,
          4,
          6,
          2,
          1,
          3,
          2,
          3,
          3,
          2,
          3,
          4,
          5,
          2,
          3,
          1,
          3,
          2,
          4,
          3,
          2,
          1,
          3,
          1,
          3,
          1,
          4,
          6,
          3,
          2,
          3,
          3,
          1,
          1,
          1,
          3,
          3,
          2,
          1,
          1,
          3,
          1,
          2,
          1,
          8,
          2,
          2,
          2,
          4,
          2,
          3,
          5,
          2,
          1,
          1,
          4,
          3,
          1,
          4,
          2,
          2,
          3,
          2,
          2,
          1,
          3,
          3,
          2,
          2,
          4,
          1,
          1,
          5,
          5,
          1,
          1,
          5,
          2,
          3,
          1,
          1,
          3,
          4,
          4,
          2,
          4,
          2,
          4,
          1,
          3,
          3,
          2,
          3,
          1,
          1,
          3,
          1,
          4,
          2,
          3,
          2,
          3,
          6,
          5,
          2,
          1,
          2,
          3,
          1,
          2,
          1,
          3,
          5,
          3,
          1,
          1,
          2,
          2,
          2,
          3,
          1,
          1,
          5,
          2,
          2,
          3,
          3,
          2,
          4,
          2,
          2,
          2,
          2,
          1,
          2,
          2,
          4,
          1,
          1,
          1,
          2,
          1,
          3,
          4,
          3,
          1,
          3,
          3,
          3,
          3,
          4,
          2,
          3,
          3,
          2,
          2,
          4,
          1,
          2,
          4,
          4,
          3,
          1,
          1,
          1,
          1,
          2,
          4,
          1,
          1,
          1,
          1,
          4,
          3,
          1,
          1,
          1,
          2,
          2,
          1,
          3,
          1,
          2,
          2,
          1,
          1,
          2,
          3,
          4,
          3,
          5,
          5,
          4,
          2,
          2,
          2,
          4,
          2,
          2,
          1,
          3,
          2,
          2,
          1,
          3,
          3,
          3,
          1,
          2,
          1,
          2,
          2,
          3,
          1,
          4,
          1,
          1,
          2,
          2,
          1,
          4,
          5,
          2,
          2,
          1,
          4,
          5,
          3,
          3,
          2,
          1,
          4,
          2,
          3,
          1,
          1,
          2,
          6,
          3,
          1,
          2,
          4,
          2,
          2,
          1,
          2,
          4,
          1,
          5,
          2,
          4,
          2,
          3,
          1,
          2,
          2,
          1,
          3,
          5,
          6,
          1,
          1,
          1,
          3,
          3,
          3,
          3,
          1,
          1,
          1,
          4,
          4,
          2,
          2,
          2,
          1,
          3,
          1,
          1,
          3,
          4,
          4,
          1
         ],
         "z": [
          374.48,
          206.73200000000003,
          15.552,
          12.96,
          2291.044,
          230.656,
          416.27200000000005,
          3459.6,
          143.728,
          363.6,
          15.008,
          412.15200000000004,
          19.76,
          202.816,
          604.91,
          3300.64,
          577.4900000000001,
          255.22400000000002,
          581.634,
          648.0740000000001,
          10.64,
          2207.22,
          436.63,
          10.8,
          5820.58,
          841.36,
          59.176,
          514.98,
          606.232,
          121.536,
          613.864,
          3372.629,
          253.82399999999998,
          582.0699999999999,
          71,
          1113.87,
          245.552,
          520.216,
          258.28,
          698.2359999999999,
          546.68,
          583.774,
          68.32,
          356.79,
          23.08,
          127.41000000000001,
          124.75,
          73.675,
          70.98,
          943.191,
          506.62000000000006,
          101.36,
          324.744,
          28.576,
          1526.6572,
          651.6700000000001,
          1047.58,
          213.344,
          31.744,
          1939.696,
          227.88799999999998,
          800.6020000000001,
          113.832,
          1216.2435,
          1572.6280000000002,
          614.982,
          1205.5839999999998,
          18.16,
          5723.398,
          1578.6219999999996,
          872.5560000000002,
          1121.722,
          1823.336,
          1643.97,
          431.63400000000007,
          941.992,
          2271.7599999999998,
          904.9,
          46.64,
          561.538,
          1569.4619999999998,
          550.644,
          168.1,
          599.422,
          1252.5520000000001,
          1161.288,
          791.6700000000001,
          1023.0840000000001,
          192.62,
          922.244,
          2493.8860000000004,
          390.046,
          137.984,
          2888.518,
          1621.552,
          326.48,
          1258.4460000000001,
          520.406,
          18.294,
          75.9,
          521.5300000000001,
          41.37,
          1506.1090000000002,
          477.3,
          529.874,
          1190.676,
          242.522,
          1143.2330000000002,
          239.84799999999998,
          475.02600000000007,
          526.344,
          258.528,
          10.816,
          157.36,
          468.972,
          94.38,
          20.544,
          1219.7920000000001,
          513.29,
          186.54,
          41.546,
          23.832,
          1603.478,
          3121.352,
          1104.038,
          228.47199999999998,
          406.41999999999996,
          382.256,
          624.2040000000001,
          593.558,
          824.28,
          111.79,
          106.02080000000001,
          601.692,
          375.94399999999996,
          285.576,
          1196.8519999999999,
          112.91199999999999,
          721.7460000000001,
          582.1899999999999,
          879.256,
          45.272000000000006,
          43.85,
          713.3159999999999,
          372.06,
          10522.55,
          162.324,
          864.64,
          199.17,
          1645.87,
          5054.209000000001,
          595.6528000000001,
          47.94,
          1058.1080000000002,
          1622.0369999999998,
          50.784,
          229.25400000000002,
          375.71,
          201.262,
          836.016,
          1823.373,
          1372.062,
          412.75199999999995,
          379.56,
          1954.732,
          224.976,
          831.3680000000002,
          1608.31,
          253.60899999999998,
          422.894,
          279.347,
          376.09999999999997,
          1993.772,
          429.25,
          911.82,
          344.24199999999996,
          2854.578,
          1162.3159999999998,
          1007.232,
          2638.95,
          5301.62,
          2660.514,
          40.76,
          3.024,
          387.464,
          765.852,
          243.92,
          1824.1840000000002,
          863.88,
          1047.998,
          895.318,
          837.8880000000001,
          510.82399999999996,
          103.056,
          83.28,
          1840.1519999999998,
          4021.2350000000006,
          570.388,
          273.92600000000004,
          1271.1699999999998,
          318.8564,
          598.818,
          28.708,
          1315.0559999999998,
          1124.4360000000001,
          328.56,
          1269.856,
          650.6899999999999,
          256.75,
          280.856,
          315.286,
          120.783,
          121.55399999999999,
          227.71800000000002,
          2738.7870000000003,
          649,
          164.34,
          74.352,
          291.702,
          10.36,
          308.406,
          566.6959999999999,
          849.043,
          14.73,
          633.777,
          2105.2219999999998,
          845.862,
          1031.104,
          1607.8252,
          1415.606,
          530.73,
          1632.218,
          993.156,
          678.74,
          2008.53,
          151.96,
          484.56100000000004,
          242.996,
          1678.757,
          1867.3379999999997,
          91.275,
          24,
          127.46000000000001,
          193.95,
          335.38,
          1081.922,
          63.339999999999996,
          31.44,
          891.53,
          1729.286,
          1094.865,
          1782.0960000000002,
          779.1600000000001,
          5.76,
          92.94,
          2353.94,
          454.368,
          1111.6979999999999,
          2048.639,
          30.32,
          692.19,
          71.676,
          199.8,
          169.28,
          569.2220000000001,
          366.99,
          780.25,
          1432.586,
          5979.1359999999995,
          5308.107,
          1139.462,
          1527.9299999999998,
          1079.9589999999998,
          61.936,
          1290.69,
          514.673,
          467.74199999999996,
          337.81800000000004,
          14203.277999999998,
          821.8900000000001,
          229.394,
          34.504,
          2172.196,
          261.108,
          392.448,
          317.624,
          289.074,
          26.88,
          1211.39,
          49.62,
          129.66400000000002,
          12.192,
          1968.923,
          637.1800000000001,
          98.35,
          1772.306,
          120.042,
          608.552,
          3492.364,
          1216.5059999999999,
          1309.4479999999999,
          492.2,
          12.7,
          762.833,
          5259.486,
          204.42600000000002,
          1459.68,
          6.628,
          266.52000000000004,
          1545.758,
          302.062,
          2909.234,
          839.43,
          1044.63,
          123.89,
          341.577,
          964.7999999999998,
          97.264,
          876.2489999999999,
          828.056,
          339.033,
          212.66,
          42.91,
          50.687999999999995,
          8459.936,
          35.730000000000004,
          1617.4629999999997,
          668.0619999999999,
          1058.7,
          299.892,
          263.01599999999996,
          147.63600000000002,
          890.28,
          92.562,
          2.91,
          1929.166,
          1237.8980000000001,
          173.444,
          137.94,
          248.82,
          160.776,
          536.336,
          1094.6779999999999,
          2840.6500000000005,
          4826.878,
          249.79,
          2.808,
          17.608,
          868.946,
          1657.308,
          1475.69,
          3813.1659999999997,
          742.4939999999999,
          5.16,
          327.666,
          14.82,
          171.288,
          1237.733,
          449.312,
          227.06599999999997,
          61.44
         ]
        }
       ],
       "layout": {
        "coloraxis": {
         "colorbar": {
          "title": {
           "text": "labels_H"
          }
         },
         "colorscale": [
          [
           0,
           "#0d0887"
          ],
          [
           0.1111111111111111,
           "#46039f"
          ],
          [
           0.2222222222222222,
           "#7201a8"
          ],
          [
           0.3333333333333333,
           "#9c179e"
          ],
          [
           0.4444444444444444,
           "#bd3786"
          ],
          [
           0.5555555555555556,
           "#d8576b"
          ],
          [
           0.6666666666666666,
           "#ed7953"
          ],
          [
           0.7777777777777778,
           "#fb9f3a"
          ],
          [
           0.8888888888888888,
           "#fdca26"
          ],
          [
           1,
           "#f0f921"
          ]
         ]
        },
        "legend": {
         "tracegroupgap": 0
        },
        "margin": {
         "t": 60
        },
        "scene": {
         "domain": {
          "x": [
           0,
           1
          ],
          "y": [
           0,
           1
          ]
         },
         "xaxis": {
          "title": {
           "text": "Recency"
          }
         },
         "yaxis": {
          "title": {
           "text": "Frequency"
          }
         },
         "zaxis": {
          "title": {
           "text": "MonetaryValue"
          }
         }
        },
        "template": {
         "data": {
          "bar": [
           {
            "error_x": {
             "color": "#2a3f5f"
            },
            "error_y": {
             "color": "#2a3f5f"
            },
            "marker": {
             "line": {
              "color": "#E5ECF6",
              "width": 0.5
             },
             "pattern": {
              "fillmode": "overlay",
              "size": 10,
              "solidity": 0.2
             }
            },
            "type": "bar"
           }
          ],
          "barpolar": [
           {
            "marker": {
             "line": {
              "color": "#E5ECF6",
              "width": 0.5
             },
             "pattern": {
              "fillmode": "overlay",
              "size": 10,
              "solidity": 0.2
             }
            },
            "type": "barpolar"
           }
          ],
          "carpet": [
           {
            "aaxis": {
             "endlinecolor": "#2a3f5f",
             "gridcolor": "white",
             "linecolor": "white",
             "minorgridcolor": "white",
             "startlinecolor": "#2a3f5f"
            },
            "baxis": {
             "endlinecolor": "#2a3f5f",
             "gridcolor": "white",
             "linecolor": "white",
             "minorgridcolor": "white",
             "startlinecolor": "#2a3f5f"
            },
            "type": "carpet"
           }
          ],
          "choropleth": [
           {
            "colorbar": {
             "outlinewidth": 0,
             "ticks": ""
            },
            "type": "choropleth"
           }
          ],
          "contour": [
           {
            "colorbar": {
             "outlinewidth": 0,
             "ticks": ""
            },
            "colorscale": [
             [
              0,
              "#0d0887"
             ],
             [
              0.1111111111111111,
              "#46039f"
             ],
             [
              0.2222222222222222,
              "#7201a8"
             ],
             [
              0.3333333333333333,
              "#9c179e"
             ],
             [
              0.4444444444444444,
              "#bd3786"
             ],
             [
              0.5555555555555556,
              "#d8576b"
             ],
             [
              0.6666666666666666,
              "#ed7953"
             ],
             [
              0.7777777777777778,
              "#fb9f3a"
             ],
             [
              0.8888888888888888,
              "#fdca26"
             ],
             [
              1,
              "#f0f921"
             ]
            ],
            "type": "contour"
           }
          ],
          "contourcarpet": [
           {
            "colorbar": {
             "outlinewidth": 0,
             "ticks": ""
            },
            "type": "contourcarpet"
           }
          ],
          "heatmap": [
           {
            "colorbar": {
             "outlinewidth": 0,
             "ticks": ""
            },
            "colorscale": [
             [
              0,
              "#0d0887"
             ],
             [
              0.1111111111111111,
              "#46039f"
             ],
             [
              0.2222222222222222,
              "#7201a8"
             ],
             [
              0.3333333333333333,
              "#9c179e"
             ],
             [
              0.4444444444444444,
              "#bd3786"
             ],
             [
              0.5555555555555556,
              "#d8576b"
             ],
             [
              0.6666666666666666,
              "#ed7953"
             ],
             [
              0.7777777777777778,
              "#fb9f3a"
             ],
             [
              0.8888888888888888,
              "#fdca26"
             ],
             [
              1,
              "#f0f921"
             ]
            ],
            "type": "heatmap"
           }
          ],
          "heatmapgl": [
           {
            "colorbar": {
             "outlinewidth": 0,
             "ticks": ""
            },
            "colorscale": [
             [
              0,
              "#0d0887"
             ],
             [
              0.1111111111111111,
              "#46039f"
             ],
             [
              0.2222222222222222,
              "#7201a8"
             ],
             [
              0.3333333333333333,
              "#9c179e"
             ],
             [
              0.4444444444444444,
              "#bd3786"
             ],
             [
              0.5555555555555556,
              "#d8576b"
             ],
             [
              0.6666666666666666,
              "#ed7953"
             ],
             [
              0.7777777777777778,
              "#fb9f3a"
             ],
             [
              0.8888888888888888,
              "#fdca26"
             ],
             [
              1,
              "#f0f921"
             ]
            ],
            "type": "heatmapgl"
           }
          ],
          "histogram": [
           {
            "marker": {
             "pattern": {
              "fillmode": "overlay",
              "size": 10,
              "solidity": 0.2
             }
            },
            "type": "histogram"
           }
          ],
          "histogram2d": [
           {
            "colorbar": {
             "outlinewidth": 0,
             "ticks": ""
            },
            "colorscale": [
             [
              0,
              "#0d0887"
             ],
             [
              0.1111111111111111,
              "#46039f"
             ],
             [
              0.2222222222222222,
              "#7201a8"
             ],
             [
              0.3333333333333333,
              "#9c179e"
             ],
             [
              0.4444444444444444,
              "#bd3786"
             ],
             [
              0.5555555555555556,
              "#d8576b"
             ],
             [
              0.6666666666666666,
              "#ed7953"
             ],
             [
              0.7777777777777778,
              "#fb9f3a"
             ],
             [
              0.8888888888888888,
              "#fdca26"
             ],
             [
              1,
              "#f0f921"
             ]
            ],
            "type": "histogram2d"
           }
          ],
          "histogram2dcontour": [
           {
            "colorbar": {
             "outlinewidth": 0,
             "ticks": ""
            },
            "colorscale": [
             [
              0,
              "#0d0887"
             ],
             [
              0.1111111111111111,
              "#46039f"
             ],
             [
              0.2222222222222222,
              "#7201a8"
             ],
             [
              0.3333333333333333,
              "#9c179e"
             ],
             [
              0.4444444444444444,
              "#bd3786"
             ],
             [
              0.5555555555555556,
              "#d8576b"
             ],
             [
              0.6666666666666666,
              "#ed7953"
             ],
             [
              0.7777777777777778,
              "#fb9f3a"
             ],
             [
              0.8888888888888888,
              "#fdca26"
             ],
             [
              1,
              "#f0f921"
             ]
            ],
            "type": "histogram2dcontour"
           }
          ],
          "mesh3d": [
           {
            "colorbar": {
             "outlinewidth": 0,
             "ticks": ""
            },
            "type": "mesh3d"
           }
          ],
          "parcoords": [
           {
            "line": {
             "colorbar": {
              "outlinewidth": 0,
              "ticks": ""
             }
            },
            "type": "parcoords"
           }
          ],
          "pie": [
           {
            "automargin": true,
            "type": "pie"
           }
          ],
          "scatter": [
           {
            "marker": {
             "colorbar": {
              "outlinewidth": 0,
              "ticks": ""
             }
            },
            "type": "scatter"
           }
          ],
          "scatter3d": [
           {
            "line": {
             "colorbar": {
              "outlinewidth": 0,
              "ticks": ""
             }
            },
            "marker": {
             "colorbar": {
              "outlinewidth": 0,
              "ticks": ""
             }
            },
            "type": "scatter3d"
           }
          ],
          "scattercarpet": [
           {
            "marker": {
             "colorbar": {
              "outlinewidth": 0,
              "ticks": ""
             }
            },
            "type": "scattercarpet"
           }
          ],
          "scattergeo": [
           {
            "marker": {
             "colorbar": {
              "outlinewidth": 0,
              "ticks": ""
             }
            },
            "type": "scattergeo"
           }
          ],
          "scattergl": [
           {
            "marker": {
             "colorbar": {
              "outlinewidth": 0,
              "ticks": ""
             }
            },
            "type": "scattergl"
           }
          ],
          "scattermapbox": [
           {
            "marker": {
             "colorbar": {
              "outlinewidth": 0,
              "ticks": ""
             }
            },
            "type": "scattermapbox"
           }
          ],
          "scatterpolar": [
           {
            "marker": {
             "colorbar": {
              "outlinewidth": 0,
              "ticks": ""
             }
            },
            "type": "scatterpolar"
           }
          ],
          "scatterpolargl": [
           {
            "marker": {
             "colorbar": {
              "outlinewidth": 0,
              "ticks": ""
             }
            },
            "type": "scatterpolargl"
           }
          ],
          "scatterternary": [
           {
            "marker": {
             "colorbar": {
              "outlinewidth": 0,
              "ticks": ""
             }
            },
            "type": "scatterternary"
           }
          ],
          "surface": [
           {
            "colorbar": {
             "outlinewidth": 0,
             "ticks": ""
            },
            "colorscale": [
             [
              0,
              "#0d0887"
             ],
             [
              0.1111111111111111,
              "#46039f"
             ],
             [
              0.2222222222222222,
              "#7201a8"
             ],
             [
              0.3333333333333333,
              "#9c179e"
             ],
             [
              0.4444444444444444,
              "#bd3786"
             ],
             [
              0.5555555555555556,
              "#d8576b"
             ],
             [
              0.6666666666666666,
              "#ed7953"
             ],
             [
              0.7777777777777778,
              "#fb9f3a"
             ],
             [
              0.8888888888888888,
              "#fdca26"
             ],
             [
              1,
              "#f0f921"
             ]
            ],
            "type": "surface"
           }
          ],
          "table": [
           {
            "cells": {
             "fill": {
              "color": "#EBF0F8"
             },
             "line": {
              "color": "white"
             }
            },
            "header": {
             "fill": {
              "color": "#C8D4E3"
             },
             "line": {
              "color": "white"
             }
            },
            "type": "table"
           }
          ]
         },
         "layout": {
          "annotationdefaults": {
           "arrowcolor": "#2a3f5f",
           "arrowhead": 0,
           "arrowwidth": 1
          },
          "autotypenumbers": "strict",
          "coloraxis": {
           "colorbar": {
            "outlinewidth": 0,
            "ticks": ""
           }
          },
          "colorscale": {
           "diverging": [
            [
             0,
             "#8e0152"
            ],
            [
             0.1,
             "#c51b7d"
            ],
            [
             0.2,
             "#de77ae"
            ],
            [
             0.3,
             "#f1b6da"
            ],
            [
             0.4,
             "#fde0ef"
            ],
            [
             0.5,
             "#f7f7f7"
            ],
            [
             0.6,
             "#e6f5d0"
            ],
            [
             0.7,
             "#b8e186"
            ],
            [
             0.8,
             "#7fbc41"
            ],
            [
             0.9,
             "#4d9221"
            ],
            [
             1,
             "#276419"
            ]
           ],
           "sequential": [
            [
             0,
             "#0d0887"
            ],
            [
             0.1111111111111111,
             "#46039f"
            ],
            [
             0.2222222222222222,
             "#7201a8"
            ],
            [
             0.3333333333333333,
             "#9c179e"
            ],
            [
             0.4444444444444444,
             "#bd3786"
            ],
            [
             0.5555555555555556,
             "#d8576b"
            ],
            [
             0.6666666666666666,
             "#ed7953"
            ],
            [
             0.7777777777777778,
             "#fb9f3a"
            ],
            [
             0.8888888888888888,
             "#fdca26"
            ],
            [
             1,
             "#f0f921"
            ]
           ],
           "sequentialminus": [
            [
             0,
             "#0d0887"
            ],
            [
             0.1111111111111111,
             "#46039f"
            ],
            [
             0.2222222222222222,
             "#7201a8"
            ],
            [
             0.3333333333333333,
             "#9c179e"
            ],
            [
             0.4444444444444444,
             "#bd3786"
            ],
            [
             0.5555555555555556,
             "#d8576b"
            ],
            [
             0.6666666666666666,
             "#ed7953"
            ],
            [
             0.7777777777777778,
             "#fb9f3a"
            ],
            [
             0.8888888888888888,
             "#fdca26"
            ],
            [
             1,
             "#f0f921"
            ]
           ]
          },
          "colorway": [
           "#636efa",
           "#EF553B",
           "#00cc96",
           "#ab63fa",
           "#FFA15A",
           "#19d3f3",
           "#FF6692",
           "#B6E880",
           "#FF97FF",
           "#FECB52"
          ],
          "font": {
           "color": "#2a3f5f"
          },
          "geo": {
           "bgcolor": "white",
           "lakecolor": "white",
           "landcolor": "#E5ECF6",
           "showlakes": true,
           "showland": true,
           "subunitcolor": "white"
          },
          "hoverlabel": {
           "align": "left"
          },
          "hovermode": "closest",
          "mapbox": {
           "style": "light"
          },
          "paper_bgcolor": "white",
          "plot_bgcolor": "#E5ECF6",
          "polar": {
           "angularaxis": {
            "gridcolor": "white",
            "linecolor": "white",
            "ticks": ""
           },
           "bgcolor": "#E5ECF6",
           "radialaxis": {
            "gridcolor": "white",
            "linecolor": "white",
            "ticks": ""
           }
          },
          "scene": {
           "xaxis": {
            "backgroundcolor": "#E5ECF6",
            "gridcolor": "white",
            "gridwidth": 2,
            "linecolor": "white",
            "showbackground": true,
            "ticks": "",
            "zerolinecolor": "white"
           },
           "yaxis": {
            "backgroundcolor": "#E5ECF6",
            "gridcolor": "white",
            "gridwidth": 2,
            "linecolor": "white",
            "showbackground": true,
            "ticks": "",
            "zerolinecolor": "white"
           },
           "zaxis": {
            "backgroundcolor": "#E5ECF6",
            "gridcolor": "white",
            "gridwidth": 2,
            "linecolor": "white",
            "showbackground": true,
            "ticks": "",
            "zerolinecolor": "white"
           }
          },
          "shapedefaults": {
           "line": {
            "color": "#2a3f5f"
           }
          },
          "ternary": {
           "aaxis": {
            "gridcolor": "white",
            "linecolor": "white",
            "ticks": ""
           },
           "baxis": {
            "gridcolor": "white",
            "linecolor": "white",
            "ticks": ""
           },
           "bgcolor": "#E5ECF6",
           "caxis": {
            "gridcolor": "white",
            "linecolor": "white",
            "ticks": ""
           }
          },
          "title": {
           "x": 0.05
          },
          "xaxis": {
           "automargin": true,
           "gridcolor": "white",
           "linecolor": "white",
           "ticks": "",
           "title": {
            "standoff": 15
           },
           "zerolinecolor": "white",
           "zerolinewidth": 2
          },
          "yaxis": {
           "automargin": true,
           "gridcolor": "white",
           "linecolor": "white",
           "ticks": "",
           "title": {
            "standoff": 15
           },
           "zerolinecolor": "white",
           "zerolinewidth": 2
          }
         }
        }
       }
      },
      "text/html": [
       "<div>                            <div id=\"ab9002db-2bbe-418d-b94e-d19b310c731c\" class=\"plotly-graph-div\" style=\"height:525px; width:100%;\"></div>            <script type=\"text/javascript\">                require([\"plotly\"], function(Plotly) {                    window.PLOTLYENV=window.PLOTLYENV || {};                                    if (document.getElementById(\"ab9002db-2bbe-418d-b94e-d19b310c731c\")) {                    Plotly.newPlot(                        \"ab9002db-2bbe-418d-b94e-d19b310c731c\",                        [{\"hovertemplate\":\"Recency=%{x}<br>Frequency=%{y}<br>MonetaryValue=%{z}<br>labels_H=%{marker.color}<extra></extra>\",\"legendgroup\":\"\",\"marker\":{\"color\":[1,6,2,2,4,6,4,5,1,4,2,3,2,6,6,3,6,6,3,6,2,4,6,2,5,4,2,3,5,1,4,5,1,5,2,4,6,6,6,4,6,4,6,1,2,2,1,6,2,3,3,6,1,6,4,6,4,6,2,4,6,4,6,5,5,6,5,2,4,4,4,6,6,3,4,3,5,5,6,4,3,5,1,6,6,4,3,6,6,3,4,6,6,5,4,2,4,4,6,2,4,2,4,1,6,4,6,5,6,6,1,1,2,6,4,6,2,1,4,1,6,2,3,5,6,6,4,6,6,3,5,2,2,6,6,1,4,6,5,3,6,6,2,4,3,5,6,4,1,1,4,4,2,1,4,6,6,1,1,4,4,4,6,6,3,6,5,3,3,6,4,5,5,4,5,6,5,3,6,4,4,4,6,2,6,4,1,5,5,4,3,4,1,1,6,3,5,4,5,5,6,6,6,4,4,6,3,5,6,6,6,1,6,6,3,5,2,2,6,2,4,4,4,2,4,3,4,4,4,6,6,4,5,6,4,1,6,3,4,4,1,2,1,1,6,4,2,2,1,5,4,4,5,2,2,5,6,1,3,2,6,6,1,1,6,4,4,4,3,3,3,5,6,6,3,5,6,1,4,5,6,2,4,6,4,1,6,2,6,2,6,2,4,1,1,5,6,5,4,4,6,6,2,4,4,6,4,2,1,3,6,4,5,1,6,4,4,1,5,4,6,6,2,6,4,2,3,6,4,6,6,1,6,6,2,4,4,4,1,1,1,6,4,3,4,1,2,2,3,4,6,5,6,2,6,2,1,4,4,6,2],\"coloraxis\":\"coloraxis\",\"symbol\":\"circle\"},\"mode\":\"markers\",\"name\":\"\",\"scene\":\"scene\",\"showlegend\":false,\"x\":[185,20,260,56,42,42,26,12,283,42,279,9,115,98,97,7,231,22,14,86,75,163,99,15,7,29,193,14,21,161,34,36,98,70,10,94,328,99,26,29,58,24,78,308,219,10,76,90,40,13,2,21,213,204,57,121,48,27,107,21,44,40,28,30,41,55,43,339,190,40,44,107,285,9,27,9,38,79,163,26,7,28,59,97,255,17,10,188,34,13,38,24,42,13,46,8,43,20,101,58,23,58,58,218,134,27,127,30,99,101,162,114,83,54,23,218,106,303,58,152,48,288,13,41,213,146,39,24,150,6,14,51,3,84,107,153,37,35,29,8,70,21,22,55,7,44,248,36,72,143,93,44,115,176,159,118,113,301,194,47,52,66,226,106,3,122,55,2,6,175,42,30,62,45,62,85,29,9,120,50,22,38,103,1,110,58,93,9,69,29,6,37,297,98,42,2,23,48,16,29,101,97,49,28,17,55,14,22,23,152,22,240,250,41,10,27,35,27,35,206,22,49,45,77,28,2,42,118,29,85,86,50,23,241,55,101,169,8,62,35,73,181,274,122,50,28,20,18,225,42,28,80,49,245,26,59,139,211,7,173,66,58,98,197,115,37,58,135,10,5,1,37,108,72,6,13,62,69,97,20,26,111,73,181,22,115,43,303,90,7,33,120,122,346,300,36,34,20,80,64,202,189,350,30,31,93,188,31,132,10,60,60,9,184,109,24,30,254,9,30,71,111,121,126,102,321,3,82,31,163,120,350,203,108,286,31,28,38,338,115,345,104,131,9,105,194,358,227,12,56,239,32,184,36,155,118,222,21,44,55,203],\"y\":[1,2,1,1,5,2,4,2,1,3,1,4,1,4,3,5,2,2,4,2,1,3,3,1,2,3,1,4,2,1,4,2,1,1,1,4,2,2,2,3,2,3,2,1,1,2,1,3,1,3,3,2,1,2,5,2,5,3,1,4,2,4,3,2,2,2,2,1,4,4,4,2,2,3,4,3,2,1,3,4,6,2,1,3,2,3,3,2,3,4,5,2,3,1,3,2,4,3,2,1,3,1,3,1,4,6,3,2,3,3,1,1,1,3,3,2,1,1,3,1,2,1,8,2,2,2,4,2,3,5,2,1,1,4,3,1,4,2,2,3,2,2,1,3,3,2,2,4,1,1,5,5,1,1,5,2,3,1,1,3,4,4,2,4,2,4,1,3,3,2,3,1,1,3,1,4,2,3,2,3,6,5,2,1,2,3,1,2,1,3,5,3,1,1,2,2,2,3,1,1,5,2,2,3,3,2,4,2,2,2,2,1,2,2,4,1,1,1,2,1,3,4,3,1,3,3,3,3,4,2,3,3,2,2,4,1,2,4,4,3,1,1,1,1,2,4,1,1,1,1,4,3,1,1,1,2,2,1,3,1,2,2,1,1,2,3,4,3,5,5,4,2,2,2,4,2,2,1,3,2,2,1,3,3,3,1,2,1,2,2,3,1,4,1,1,2,2,1,4,5,2,2,1,4,5,3,3,2,1,4,2,3,1,1,2,6,3,1,2,4,2,2,1,2,4,1,5,2,4,2,3,1,2,2,1,3,5,6,1,1,1,3,3,3,3,1,1,1,4,4,2,2,2,1,3,1,1,3,4,4,1],\"z\":[374.48,206.73200000000003,15.552,12.96,2291.044,230.656,416.27200000000005,3459.6,143.728,363.6,15.008,412.15200000000004,19.76,202.816,604.91,3300.64,577.4900000000001,255.22400000000002,581.634,648.0740000000001,10.64,2207.22,436.63,10.8,5820.58,841.36,59.176,514.98,606.232,121.536,613.864,3372.629,253.82399999999998,582.0699999999999,71.0,1113.87,245.552,520.216,258.28,698.2359999999999,546.68,583.774,68.32,356.79,23.08,127.41000000000001,124.75,73.675,70.98,943.191,506.62000000000006,101.36,324.744,28.576,1526.6572,651.6700000000001,1047.58,213.344,31.744,1939.696,227.88799999999998,800.6020000000001,113.832,1216.2435,1572.6280000000002,614.982,1205.5839999999998,18.16,5723.398,1578.6219999999996,872.5560000000002,1121.722,1823.336,1643.97,431.63400000000007,941.992,2271.7599999999998,904.9,46.64,561.538,1569.4619999999998,550.644,168.1,599.422,1252.5520000000001,1161.288,791.6700000000001,1023.0840000000001,192.62,922.244,2493.8860000000004,390.046,137.984,2888.518,1621.552,326.48,1258.4460000000001,520.406,18.294,75.9,521.5300000000001,41.37,1506.1090000000002,477.3,529.874,1190.676,242.522,1143.2330000000002,239.84799999999998,475.02600000000007,526.344,258.528,10.816,157.36,468.972,94.38,20.544,1219.7920000000001,513.29,186.54,41.546,23.832,1603.478,3121.352,1104.038,228.47199999999998,406.41999999999996,382.256,624.2040000000001,593.558,824.28,111.79,106.02080000000001,601.692,375.94399999999996,285.576,1196.8519999999999,112.91199999999999,721.7460000000001,582.1899999999999,879.256,45.272000000000006,43.85,713.3159999999999,372.06,10522.55,162.324,864.64,199.17,1645.87,5054.209000000001,595.6528000000001,47.94,1058.1080000000002,1622.0369999999998,50.784,229.25400000000002,375.71,201.262,836.016,1823.373,1372.062,412.75199999999995,379.56,1954.732,224.976,831.3680000000002,1608.31,253.60899999999998,422.894,279.347,376.09999999999997,1993.772,429.25,911.82,344.24199999999996,2854.578,1162.3159999999998,1007.232,2638.95,5301.62,2660.514,40.76,3.024,387.464,765.852,243.92,1824.1840000000002,863.88,1047.998,895.318,837.8880000000001,510.82399999999996,103.056,83.28,1840.1519999999998,4021.2350000000006,570.388,273.92600000000004,1271.1699999999998,318.8564,598.818,28.708,1315.0559999999998,1124.4360000000001,328.56,1269.856,650.6899999999999,256.75,280.856,315.286,120.783,121.55399999999999,227.71800000000002,2738.7870000000003,649.0,164.34,74.352,291.702,10.36,308.406,566.6959999999999,849.043,14.73,633.777,2105.2219999999998,845.862,1031.104,1607.8252,1415.606,530.73,1632.218,993.156,678.74,2008.53,151.96,484.56100000000004,242.996,1678.757,1867.3379999999997,91.275,24.0,127.46000000000001,193.95,335.38,1081.922,63.339999999999996,31.44,891.53,1729.286,1094.865,1782.0960000000002,779.1600000000001,5.76,92.94,2353.94,454.368,1111.6979999999999,2048.639,30.32,692.19,71.676,199.8,169.28,569.2220000000001,366.99,780.25,1432.586,5979.1359999999995,5308.107,1139.462,1527.9299999999998,1079.9589999999998,61.936,1290.69,514.673,467.74199999999996,337.81800000000004,14203.277999999998,821.8900000000001,229.394,34.504,2172.196,261.108,392.448,317.624,289.074,26.88,1211.39,49.62,129.66400000000002,12.192,1968.923,637.1800000000001,98.35,1772.306,120.042,608.552,3492.364,1216.5059999999999,1309.4479999999999,492.2,12.7,762.833,5259.486,204.42600000000002,1459.68,6.628,266.52000000000004,1545.758,302.062,2909.234,839.43,1044.63,123.89,341.577,964.7999999999998,97.264,876.2489999999999,828.056,339.033,212.66,42.91,50.687999999999995,8459.936,35.730000000000004,1617.4629999999997,668.0619999999999,1058.7,299.892,263.01599999999996,147.63600000000002,890.28,92.562,2.91,1929.166,1237.8980000000001,173.444,137.94,248.82,160.776,536.336,1094.6779999999999,2840.6500000000005,4826.878,249.79,2.808,17.608,868.946,1657.308,1475.69,3813.1659999999997,742.4939999999999,5.16,327.666,14.82,171.288,1237.733,449.312,227.06599999999997,61.44],\"type\":\"scatter3d\"}],                        {\"template\":{\"data\":{\"bar\":[{\"error_x\":{\"color\":\"#2a3f5f\"},\"error_y\":{\"color\":\"#2a3f5f\"},\"marker\":{\"line\":{\"color\":\"#E5ECF6\",\"width\":0.5},\"pattern\":{\"fillmode\":\"overlay\",\"size\":10,\"solidity\":0.2}},\"type\":\"bar\"}],\"barpolar\":[{\"marker\":{\"line\":{\"color\":\"#E5ECF6\",\"width\":0.5},\"pattern\":{\"fillmode\":\"overlay\",\"size\":10,\"solidity\":0.2}},\"type\":\"barpolar\"}],\"carpet\":[{\"aaxis\":{\"endlinecolor\":\"#2a3f5f\",\"gridcolor\":\"white\",\"linecolor\":\"white\",\"minorgridcolor\":\"white\",\"startlinecolor\":\"#2a3f5f\"},\"baxis\":{\"endlinecolor\":\"#2a3f5f\",\"gridcolor\":\"white\",\"linecolor\":\"white\",\"minorgridcolor\":\"white\",\"startlinecolor\":\"#2a3f5f\"},\"type\":\"carpet\"}],\"choropleth\":[{\"colorbar\":{\"outlinewidth\":0,\"ticks\":\"\"},\"type\":\"choropleth\"}],\"contour\":[{\"colorbar\":{\"outlinewidth\":0,\"ticks\":\"\"},\"colorscale\":[[0.0,\"#0d0887\"],[0.1111111111111111,\"#46039f\"],[0.2222222222222222,\"#7201a8\"],[0.3333333333333333,\"#9c179e\"],[0.4444444444444444,\"#bd3786\"],[0.5555555555555556,\"#d8576b\"],[0.6666666666666666,\"#ed7953\"],[0.7777777777777778,\"#fb9f3a\"],[0.8888888888888888,\"#fdca26\"],[1.0,\"#f0f921\"]],\"type\":\"contour\"}],\"contourcarpet\":[{\"colorbar\":{\"outlinewidth\":0,\"ticks\":\"\"},\"type\":\"contourcarpet\"}],\"heatmap\":[{\"colorbar\":{\"outlinewidth\":0,\"ticks\":\"\"},\"colorscale\":[[0.0,\"#0d0887\"],[0.1111111111111111,\"#46039f\"],[0.2222222222222222,\"#7201a8\"],[0.3333333333333333,\"#9c179e\"],[0.4444444444444444,\"#bd3786\"],[0.5555555555555556,\"#d8576b\"],[0.6666666666666666,\"#ed7953\"],[0.7777777777777778,\"#fb9f3a\"],[0.8888888888888888,\"#fdca26\"],[1.0,\"#f0f921\"]],\"type\":\"heatmap\"}],\"heatmapgl\":[{\"colorbar\":{\"outlinewidth\":0,\"ticks\":\"\"},\"colorscale\":[[0.0,\"#0d0887\"],[0.1111111111111111,\"#46039f\"],[0.2222222222222222,\"#7201a8\"],[0.3333333333333333,\"#9c179e\"],[0.4444444444444444,\"#bd3786\"],[0.5555555555555556,\"#d8576b\"],[0.6666666666666666,\"#ed7953\"],[0.7777777777777778,\"#fb9f3a\"],[0.8888888888888888,\"#fdca26\"],[1.0,\"#f0f921\"]],\"type\":\"heatmapgl\"}],\"histogram\":[{\"marker\":{\"pattern\":{\"fillmode\":\"overlay\",\"size\":10,\"solidity\":0.2}},\"type\":\"histogram\"}],\"histogram2d\":[{\"colorbar\":{\"outlinewidth\":0,\"ticks\":\"\"},\"colorscale\":[[0.0,\"#0d0887\"],[0.1111111111111111,\"#46039f\"],[0.2222222222222222,\"#7201a8\"],[0.3333333333333333,\"#9c179e\"],[0.4444444444444444,\"#bd3786\"],[0.5555555555555556,\"#d8576b\"],[0.6666666666666666,\"#ed7953\"],[0.7777777777777778,\"#fb9f3a\"],[0.8888888888888888,\"#fdca26\"],[1.0,\"#f0f921\"]],\"type\":\"histogram2d\"}],\"histogram2dcontour\":[{\"colorbar\":{\"outlinewidth\":0,\"ticks\":\"\"},\"colorscale\":[[0.0,\"#0d0887\"],[0.1111111111111111,\"#46039f\"],[0.2222222222222222,\"#7201a8\"],[0.3333333333333333,\"#9c179e\"],[0.4444444444444444,\"#bd3786\"],[0.5555555555555556,\"#d8576b\"],[0.6666666666666666,\"#ed7953\"],[0.7777777777777778,\"#fb9f3a\"],[0.8888888888888888,\"#fdca26\"],[1.0,\"#f0f921\"]],\"type\":\"histogram2dcontour\"}],\"mesh3d\":[{\"colorbar\":{\"outlinewidth\":0,\"ticks\":\"\"},\"type\":\"mesh3d\"}],\"parcoords\":[{\"line\":{\"colorbar\":{\"outlinewidth\":0,\"ticks\":\"\"}},\"type\":\"parcoords\"}],\"pie\":[{\"automargin\":true,\"type\":\"pie\"}],\"scatter\":[{\"marker\":{\"colorbar\":{\"outlinewidth\":0,\"ticks\":\"\"}},\"type\":\"scatter\"}],\"scatter3d\":[{\"line\":{\"colorbar\":{\"outlinewidth\":0,\"ticks\":\"\"}},\"marker\":{\"colorbar\":{\"outlinewidth\":0,\"ticks\":\"\"}},\"type\":\"scatter3d\"}],\"scattercarpet\":[{\"marker\":{\"colorbar\":{\"outlinewidth\":0,\"ticks\":\"\"}},\"type\":\"scattercarpet\"}],\"scattergeo\":[{\"marker\":{\"colorbar\":{\"outlinewidth\":0,\"ticks\":\"\"}},\"type\":\"scattergeo\"}],\"scattergl\":[{\"marker\":{\"colorbar\":{\"outlinewidth\":0,\"ticks\":\"\"}},\"type\":\"scattergl\"}],\"scattermapbox\":[{\"marker\":{\"colorbar\":{\"outlinewidth\":0,\"ticks\":\"\"}},\"type\":\"scattermapbox\"}],\"scatterpolar\":[{\"marker\":{\"colorbar\":{\"outlinewidth\":0,\"ticks\":\"\"}},\"type\":\"scatterpolar\"}],\"scatterpolargl\":[{\"marker\":{\"colorbar\":{\"outlinewidth\":0,\"ticks\":\"\"}},\"type\":\"scatterpolargl\"}],\"scatterternary\":[{\"marker\":{\"colorbar\":{\"outlinewidth\":0,\"ticks\":\"\"}},\"type\":\"scatterternary\"}],\"surface\":[{\"colorbar\":{\"outlinewidth\":0,\"ticks\":\"\"},\"colorscale\":[[0.0,\"#0d0887\"],[0.1111111111111111,\"#46039f\"],[0.2222222222222222,\"#7201a8\"],[0.3333333333333333,\"#9c179e\"],[0.4444444444444444,\"#bd3786\"],[0.5555555555555556,\"#d8576b\"],[0.6666666666666666,\"#ed7953\"],[0.7777777777777778,\"#fb9f3a\"],[0.8888888888888888,\"#fdca26\"],[1.0,\"#f0f921\"]],\"type\":\"surface\"}],\"table\":[{\"cells\":{\"fill\":{\"color\":\"#EBF0F8\"},\"line\":{\"color\":\"white\"}},\"header\":{\"fill\":{\"color\":\"#C8D4E3\"},\"line\":{\"color\":\"white\"}},\"type\":\"table\"}]},\"layout\":{\"annotationdefaults\":{\"arrowcolor\":\"#2a3f5f\",\"arrowhead\":0,\"arrowwidth\":1},\"autotypenumbers\":\"strict\",\"coloraxis\":{\"colorbar\":{\"outlinewidth\":0,\"ticks\":\"\"}},\"colorscale\":{\"diverging\":[[0,\"#8e0152\"],[0.1,\"#c51b7d\"],[0.2,\"#de77ae\"],[0.3,\"#f1b6da\"],[0.4,\"#fde0ef\"],[0.5,\"#f7f7f7\"],[0.6,\"#e6f5d0\"],[0.7,\"#b8e186\"],[0.8,\"#7fbc41\"],[0.9,\"#4d9221\"],[1,\"#276419\"]],\"sequential\":[[0.0,\"#0d0887\"],[0.1111111111111111,\"#46039f\"],[0.2222222222222222,\"#7201a8\"],[0.3333333333333333,\"#9c179e\"],[0.4444444444444444,\"#bd3786\"],[0.5555555555555556,\"#d8576b\"],[0.6666666666666666,\"#ed7953\"],[0.7777777777777778,\"#fb9f3a\"],[0.8888888888888888,\"#fdca26\"],[1.0,\"#f0f921\"]],\"sequentialminus\":[[0.0,\"#0d0887\"],[0.1111111111111111,\"#46039f\"],[0.2222222222222222,\"#7201a8\"],[0.3333333333333333,\"#9c179e\"],[0.4444444444444444,\"#bd3786\"],[0.5555555555555556,\"#d8576b\"],[0.6666666666666666,\"#ed7953\"],[0.7777777777777778,\"#fb9f3a\"],[0.8888888888888888,\"#fdca26\"],[1.0,\"#f0f921\"]]},\"colorway\":[\"#636efa\",\"#EF553B\",\"#00cc96\",\"#ab63fa\",\"#FFA15A\",\"#19d3f3\",\"#FF6692\",\"#B6E880\",\"#FF97FF\",\"#FECB52\"],\"font\":{\"color\":\"#2a3f5f\"},\"geo\":{\"bgcolor\":\"white\",\"lakecolor\":\"white\",\"landcolor\":\"#E5ECF6\",\"showlakes\":true,\"showland\":true,\"subunitcolor\":\"white\"},\"hoverlabel\":{\"align\":\"left\"},\"hovermode\":\"closest\",\"mapbox\":{\"style\":\"light\"},\"paper_bgcolor\":\"white\",\"plot_bgcolor\":\"#E5ECF6\",\"polar\":{\"angularaxis\":{\"gridcolor\":\"white\",\"linecolor\":\"white\",\"ticks\":\"\"},\"bgcolor\":\"#E5ECF6\",\"radialaxis\":{\"gridcolor\":\"white\",\"linecolor\":\"white\",\"ticks\":\"\"}},\"scene\":{\"xaxis\":{\"backgroundcolor\":\"#E5ECF6\",\"gridcolor\":\"white\",\"gridwidth\":2,\"linecolor\":\"white\",\"showbackground\":true,\"ticks\":\"\",\"zerolinecolor\":\"white\"},\"yaxis\":{\"backgroundcolor\":\"#E5ECF6\",\"gridcolor\":\"white\",\"gridwidth\":2,\"linecolor\":\"white\",\"showbackground\":true,\"ticks\":\"\",\"zerolinecolor\":\"white\"},\"zaxis\":{\"backgroundcolor\":\"#E5ECF6\",\"gridcolor\":\"white\",\"gridwidth\":2,\"linecolor\":\"white\",\"showbackground\":true,\"ticks\":\"\",\"zerolinecolor\":\"white\"}},\"shapedefaults\":{\"line\":{\"color\":\"#2a3f5f\"}},\"ternary\":{\"aaxis\":{\"gridcolor\":\"white\",\"linecolor\":\"white\",\"ticks\":\"\"},\"baxis\":{\"gridcolor\":\"white\",\"linecolor\":\"white\",\"ticks\":\"\"},\"bgcolor\":\"#E5ECF6\",\"caxis\":{\"gridcolor\":\"white\",\"linecolor\":\"white\",\"ticks\":\"\"}},\"title\":{\"x\":0.05},\"xaxis\":{\"automargin\":true,\"gridcolor\":\"white\",\"linecolor\":\"white\",\"ticks\":\"\",\"title\":{\"standoff\":15},\"zerolinecolor\":\"white\",\"zerolinewidth\":2},\"yaxis\":{\"automargin\":true,\"gridcolor\":\"white\",\"linecolor\":\"white\",\"ticks\":\"\",\"title\":{\"standoff\":15},\"zerolinecolor\":\"white\",\"zerolinewidth\":2}}},\"scene\":{\"domain\":{\"x\":[0.0,1.0],\"y\":[0.0,1.0]},\"xaxis\":{\"title\":{\"text\":\"Recency\"}},\"yaxis\":{\"title\":{\"text\":\"Frequency\"}},\"zaxis\":{\"title\":{\"text\":\"MonetaryValue\"}}},\"coloraxis\":{\"colorbar\":{\"title\":{\"text\":\"labels_H\"}},\"colorscale\":[[0.0,\"#0d0887\"],[0.1111111111111111,\"#46039f\"],[0.2222222222222222,\"#7201a8\"],[0.3333333333333333,\"#9c179e\"],[0.4444444444444444,\"#bd3786\"],[0.5555555555555556,\"#d8576b\"],[0.6666666666666666,\"#ed7953\"],[0.7777777777777778,\"#fb9f3a\"],[0.8888888888888888,\"#fdca26\"],[1.0,\"#f0f921\"]]},\"legend\":{\"tracegroupgap\":0},\"margin\":{\"t\":60}},                        {\"responsive\": true}                    ).then(function(){\n",
       "                            \n",
       "var gd = document.getElementById('ab9002db-2bbe-418d-b94e-d19b310c731c');\n",
       "var x = new MutationObserver(function (mutations, observer) {{\n",
       "        var display = window.getComputedStyle(gd).display;\n",
       "        if (!display || display === 'none') {{\n",
       "            console.log([gd, 'removed!']);\n",
       "            Plotly.purge(gd);\n",
       "            observer.disconnect();\n",
       "        }}\n",
       "}});\n",
       "\n",
       "// Listen for the removal of the full notebook cells\n",
       "var notebookContainer = gd.closest('#notebook-container');\n",
       "if (notebookContainer) {{\n",
       "    x.observe(notebookContainer, {childList: true});\n",
       "}}\n",
       "\n",
       "// Listen for the clearing of the current output cell\n",
       "var outputEl = gd.closest('.output');\n",
       "if (outputEl) {{\n",
       "    x.observe(outputEl, {childList: true});\n",
       "}}\n",
       "\n",
       "                        })                };                });            </script>        </div>"
      ]
     },
     "metadata": {},
     "output_type": "display_data"
    }
   ],
   "source": [
    "fig = px.scatter_3d(hierarchicalData, x=\"Recency\", y=\"Frequency\",z=\"MonetaryValue\", color=\"labels_H\")\n",
    "fig.show()"
   ]
  },
  {
   "cell_type": "markdown",
   "id": "80eb5f20",
   "metadata": {
    "created_in_deepnote_cell": true,
    "deepnote_cell_type": "markdown",
    "tags": []
   },
   "source": [
    "<a style='text-decoration:none;line-height:16px;display:flex;color:#5B5B62;padding:10px;justify-content:end;' href='https://deepnote.com?utm_source=created-in-deepnote-cell&projectId=1b658b7b-c8b6-4d41-91f4-450f5e308d93' target=\"_blank\">\n",
    "<img alt='Created in deepnote.com' style='display:inline;max-height:16px;margin:0px;margin-right:7.5px;' src='data:image/svg+xml;base64,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' > </img>\n",
    "Created in <span style='font-weight:600;margin-left:4px;'>Deepnote</span></a>"
   ]
  }
 ],
 "metadata": {
  "deepnote": {},
  "deepnote_execution_queue": [],
  "deepnote_notebook_id": "a5cd1e52-8b3a-4730-8b4e-03de667d2b8b",
  "kernelspec": {
   "display_name": "Python 3 (ipykernel)",
   "language": "python",
   "name": "python3"
  },
  "language_info": {
   "codemirror_mode": {
    "name": "ipython",
    "version": 3
   },
   "file_extension": ".py",
   "mimetype": "text/x-python",
   "name": "python",
   "nbconvert_exporter": "python",
   "pygments_lexer": "ipython3",
   "version": "3.8.8"
  }
 },
 "nbformat": 4,
 "nbformat_minor": 5
}
