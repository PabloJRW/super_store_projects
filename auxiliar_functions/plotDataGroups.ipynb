{
 "cells": [
  {
   "cell_type": "code",
   "execution_count": 9,
   "id": "68a38715-39e7-496a-aa35-30f69002bf5e",
   "metadata": {},
   "outputs": [],
   "source": [
    "# DATA VISUALIZATION BY GROUP\n",
    "# ================================================================================\n",
    "\n",
    "def plotDataGroups(data, features, name_group, figsize=None, text_rotation=None, xticks_rotation=None, hspace=None):\n",
    "    \n",
    "    figsize = (15,9)\n",
    "    fig, ax = plt.subplots(2,2, figsize=figsize)\n",
    "    ax = ax.flat\n",
    "\n",
    "    for i, feature in enumerate(features):\n",
    "        colors = {'Sales':'steelblue', 'Quantity':'lightgreen', 'Discount':'orangered', 'Profit':'goldenrod'}\n",
    "        var = data[feature].sort_values(ascending=False)\n",
    "        sns.barplot(x=var.index, y=var.values, color=colors[feature], ax=ax[i])\n",
    "        for idx, value in enumerate(var.values):\n",
    "            ax[i].text(x=idx, y=value, color='black', s=round(value), ha='center', rotation=text_rotation)\n",
    "            ax[i].set_title(f'{feature.upper()} BY {name_group.upper()}')\n",
    "            ax[i].set_xlabel(name_group)\n",
    "            ax[i].set_ylabel(f'{feature}')\n",
    "            ax[i].tick_params(axis='x', rotation=xticks_rotation)\n",
    "    \n",
    "    plt.subplots_adjust(hspace=.35, wspace=.3)\n",
    "    plt.show()"
   ]
  },
  {
   "cell_type": "code",
   "execution_count": null,
   "id": "f203adcb-ae8a-4b29-bba5-4b39ac66180b",
   "metadata": {},
   "outputs": [],
   "source": []
  }
 ],
 "metadata": {
  "kernelspec": {
   "display_name": "Python 3 (ipykernel)",
   "language": "python",
   "name": "python3"
  },
  "language_info": {
   "codemirror_mode": {
    "name": "ipython",
    "version": 3
   },
   "file_extension": ".py",
   "mimetype": "text/x-python",
   "name": "python",
   "nbconvert_exporter": "python",
   "pygments_lexer": "ipython3",
   "version": "3.8.8"
  }
 },
 "nbformat": 4,
 "nbformat_minor": 5
}
