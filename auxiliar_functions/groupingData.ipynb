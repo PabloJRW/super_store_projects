{
 "cells": [
  {
   "cell_type": "code",
   "execution_count": 3,
   "id": "a9eb3929-29dd-4a8d-bd45-9c2c8ae38377",
   "metadata": {},
   "outputs": [],
   "source": [
    "# GROUP DATA BY VARIABLE\n",
    "# =======================================================================\n",
    "\n",
    "def groupingData(data, features, group_by, method=sum):\n",
    "    \"\"\"Function that group data by 'group_by' and return percentage variables\"\"\"\n",
    "    \n",
    "    # Grouping data by feat\n",
    "    grouping = data.groupby(group_by).sum().drop('Postal Code', axis=1)\n",
    "\n",
    "    # Calculate the percentage by variable\n",
    "    for feat in features:\n",
    "        grouping['{0}Percent'.format(feat)] = round(grouping[feat] / sum(grouping[feat]) * 100, 2)\n",
    "    \n",
    "    return grouping"
   ]
  }
 ],
 "metadata": {
  "kernelspec": {
   "display_name": "Python 3 (ipykernel)",
   "language": "python",
   "name": "python3"
  },
  "language_info": {
   "codemirror_mode": {
    "name": "ipython",
    "version": 3
   },
   "file_extension": ".py",
   "mimetype": "text/x-python",
   "name": "python",
   "nbconvert_exporter": "python",
   "pygments_lexer": "ipython3",
   "version": "3.8.8"
  }
 },
 "nbformat": 4,
 "nbformat_minor": 5
}
